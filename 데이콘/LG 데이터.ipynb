{
 "cells": [
  {
   "cell_type": "code",
   "execution_count": 1,
   "metadata": {
    "colab": {
     "base_uri": "https://localhost:8080/"
    },
    "executionInfo": {
     "elapsed": 39387,
     "status": "ok",
     "timestamp": 1610161739022,
     "user": {
      "displayName": "서광채",
      "photoUrl": "",
      "userId": "13819498779887957577"
     },
     "user_tz": -540
    },
    "id": "Y9Sn3g3bg0Aw",
    "outputId": "3799b14a-ce10-4526-de25-091c40ae77fd"
   },
   "outputs": [
    {
     "name": "stderr",
     "output_type": "stream",
     "text": [
      "/usr/local/lib/python3.6/dist-packages/IPython/core/interactiveshell.py:2718: DtypeWarning: Columns (10,11,12) have mixed types.Specify dtype option on import or set low_memory=False.\n",
      "  interactivity=interactivity, compiler=compiler, result=result)\n",
      "/usr/local/lib/python3.6/dist-packages/IPython/core/interactiveshell.py:2718: DtypeWarning: Columns (4,11,12) have mixed types.Specify dtype option on import or set low_memory=False.\n",
      "  interactivity=interactivity, compiler=compiler, result=result)\n"
     ]
    }
   ],
   "source": [
    "from sklearn.preprocessing import MinMaxScaler\n",
    "from sklearn.model_selection import GridSearchCV, train_test_split\n",
    "from tensorflow.keras.callbacks import EarlyStopping, ModelCheckpoint, ReduceLROnPlateau\n",
    "from tensorflow.keras.layers import BatchNormalization, Dense, Dropout, PReLU\n",
    "from tensorflow.keras.metrics import AUC\n",
    "from tensorflow.keras.models import Sequential\n",
    "from tensorflow.keras.optimizers import Adam\n",
    "from tqdm import tqdm\n",
    "\n",
    "import matplotlib.pyplot as plt\n",
    "import numpy as np\n",
    "import pandas as pd\n",
    "import re\n",
    "import scipy.stats as stats\n",
    "import tensorflow as tf\n",
    "\n",
    "\n",
    "# train data load\n",
    "train_err = pd.read_csv('./data/train_err_data.csv')\n",
    "train_quality = pd.read_csv('./data/train_quality_data.csv')\n",
    "train_problem = pd.read_csv('./data/train_problem_data.csv')\n",
    "\n",
    "# test data load\n",
    "test_err = pd.read_csv('./data/test_err_data.csv')\n",
    "test_quality = pd.read_csv('./data/test_quality_data.csv')"
   ]
  },
  {
   "cell_type": "code",
   "execution_count": 2,
   "metadata": {
    "colab": {
     "base_uri": "https://localhost:8080/"
    },
    "executionInfo": {
     "elapsed": 24553,
     "status": "ok",
     "timestamp": 1610161739642,
     "user": {
      "displayName": "서광채",
      "photoUrl": "",
      "userId": "13819498779887957577"
     },
     "user_tz": -540
    },
    "id": "3KbxuP3-g_aV",
    "outputId": "f346457c-532a-42c6-c5a5-d6d988e66ec5"
   },
   "outputs": [
    {
     "name": "stdout",
     "output_type": "stream",
     "text": [
      "train_err의 고유 user_id는 15000개 입니다\n",
      "train_quality의 고유 user_id는 8281개 입니다\n",
      "train_problem의 고유 user_id는 5000개 입니다\n",
      "\n",
      "test_err의 고유 user_id는 14998개 입니다\n",
      "test_quality의 고유 user_id는 8268개 입니다\n"
     ]
    }
   ],
   "source": [
    "print(f'train_err의 고유 user_id는 {len(train_err.user_id.unique())}개 입니다')\n",
    "print(f'train_quality의 고유 user_id는 {len(train_quality.user_id.unique())}개 입니다')\n",
    "print(f'train_problem의 고유 user_id는 {len(train_problem.user_id.unique())}개 입니다')\n",
    "print()\n",
    "print(f'test_err의 고유 user_id는 {len(test_err.user_id.unique())}개 입니다')\n",
    "print(f'test_quality의 고유 user_id는 {len(test_quality.user_id.unique())}개 입니다')"
   ]
  },
  {
   "cell_type": "markdown",
   "metadata": {
    "id": "kbYea309ygMZ"
   },
   "source": [
    "# train_err 파일"
   ]
  },
  {
   "cell_type": "code",
   "execution_count": 3,
   "metadata": {
    "colab": {
     "base_uri": "https://localhost:8080/"
    },
    "executionInfo": {
     "elapsed": 1067,
     "status": "ok",
     "timestamp": 1610161763455,
     "user": {
      "displayName": "서광채",
      "photoUrl": "",
      "userId": "13819498779887957577"
     },
     "user_tz": -540
    },
    "id": "O_7jGblTy7dc",
    "outputId": "b77721a1-962d-4560-beb6-175f4a0768bc"
   },
   "outputs": [
    {
     "name": "stdout",
     "output_type": "stream",
     "text": [
      "<class 'pandas.core.frame.DataFrame'>\n",
      "RangeIndex: 16554663 entries, 0 to 16554662\n",
      "Data columns (total 6 columns):\n",
      " #   Column    Dtype \n",
      "---  ------    ----- \n",
      " 0   user_id   int64 \n",
      " 1   time      int64 \n",
      " 2   model_nm  object\n",
      " 3   fwver     object\n",
      " 4   errtype   int64 \n",
      " 5   errcode   object\n",
      "dtypes: int64(3), object(3)\n",
      "memory usage: 757.8+ MB\n",
      "None\n"
     ]
    }
   ],
   "source": [
    "# train_err의 정보 확인\n",
    "# train_err는 user_id, timie, model_nm, fwver, errtype, errcode 컬럼이 존재\n",
    "# model_nm, fwver, errcode는 각각 object 형태\n",
    "print(train_err.info())"
   ]
  },
  {
   "cell_type": "code",
   "execution_count": 4,
   "metadata": {
    "colab": {
     "base_uri": "https://localhost:8080/",
     "height": 259
    },
    "executionInfo": {
     "elapsed": 3906,
     "status": "ok",
     "timestamp": 1610161768738,
     "user": {
      "displayName": "서광채",
      "photoUrl": "",
      "userId": "13819498779887957577"
     },
     "user_tz": -540
    },
    "id": "KkuOqGGDzy_z",
    "outputId": "4b75482f-d086-44cd-d95e-00d5fe33f8c3"
   },
   "outputs": [
    {
     "name": "stdout",
     "output_type": "stream",
     "text": [
      "user_id     0\n",
      "time        0\n",
      "model_nm    0\n",
      "fwver       0\n",
      "errtype     0\n",
      "errcode     1\n",
      "dtype: int64\n"
     ]
    },
    {
     "data": {
      "text/html": [
       "<div>\n",
       "<style scoped>\n",
       "    .dataframe tbody tr th:only-of-type {\n",
       "        vertical-align: middle;\n",
       "    }\n",
       "\n",
       "    .dataframe tbody tr th {\n",
       "        vertical-align: top;\n",
       "    }\n",
       "\n",
       "    .dataframe thead th {\n",
       "        text-align: right;\n",
       "    }\n",
       "</style>\n",
       "<table border=\"1\" class=\"dataframe\">\n",
       "  <thead>\n",
       "    <tr style=\"text-align: right;\">\n",
       "      <th></th>\n",
       "      <th>user_id</th>\n",
       "      <th>time</th>\n",
       "      <th>model_nm</th>\n",
       "      <th>fwver</th>\n",
       "      <th>errtype</th>\n",
       "      <th>errcode</th>\n",
       "    </tr>\n",
       "  </thead>\n",
       "  <tbody>\n",
       "    <tr>\n",
       "      <th>3825743</th>\n",
       "      <td>13639</td>\n",
       "      <td>20201121174110</td>\n",
       "      <td>model_2</td>\n",
       "      <td>04.33.1261</td>\n",
       "      <td>31</td>\n",
       "      <td>0</td>\n",
       "    </tr>\n",
       "    <tr>\n",
       "      <th>3825744</th>\n",
       "      <td>13639</td>\n",
       "      <td>20201121191718</td>\n",
       "      <td>model_2</td>\n",
       "      <td>04.33.1261</td>\n",
       "      <td>5</td>\n",
       "      <td>NaN</td>\n",
       "    </tr>\n",
       "    <tr>\n",
       "      <th>3825745</th>\n",
       "      <td>13639</td>\n",
       "      <td>20201121191718</td>\n",
       "      <td>model_2</td>\n",
       "      <td>04.33.1261</td>\n",
       "      <td>5</td>\n",
       "      <td>40013</td>\n",
       "    </tr>\n",
       "  </tbody>\n",
       "</table>\n",
       "</div>"
      ],
      "text/plain": [
       "         user_id            time model_nm       fwver  errtype errcode\n",
       "3825743    13639  20201121174110  model_2  04.33.1261       31       0\n",
       "3825744    13639  20201121191718  model_2  04.33.1261        5     NaN\n",
       "3825745    13639  20201121191718  model_2  04.33.1261        5   40013"
      ]
     },
     "metadata": {
      "tags": []
     },
     "output_type": "display_data"
    }
   ],
   "source": [
    "# train_err의 결측치 확인\n",
    "print(train_err.isnull().sum())\n",
    "\n",
    "# 확인결과 결측치는 errcode 컬럼에서 단 한개\n",
    "# 해당 행과 앞뒤 행까지 확인\n",
    "null_index = train_err.index[train_err['errcode'].isna()][0]\n",
    "display(train_err.iloc[null_index-1:null_index+2, :])"
   ]
  },
  {
   "cell_type": "code",
   "execution_count": 5,
   "metadata": {
    "executionInfo": {
     "elapsed": 3477,
     "status": "ok",
     "timestamp": 1610161773370,
     "user": {
      "displayName": "서광채",
      "photoUrl": "",
      "userId": "13819498779887957577"
     },
     "user_tz": -540
    },
    "id": "gICVqK1U0HQX"
   },
   "outputs": [],
   "source": [
    "# 16554663개 중에 1개 행렬이므로 해당 행 제거\n",
    "# train_err = train_err.dropna()\n",
    "\n",
    "# 혹은 바로 다음 행과 컬럼 배열이 동일하므로 40013으로 대체\n",
    "train_err = train_err.fillna(40013)"
   ]
  },
  {
   "cell_type": "code",
   "execution_count": 6,
   "metadata": {
    "colab": {
     "base_uri": "https://localhost:8080/"
    },
    "executionInfo": {
     "elapsed": 3938,
     "status": "ok",
     "timestamp": 1610161777750,
     "user": {
      "displayName": "서광채",
      "photoUrl": "",
      "userId": "13819498779887957577"
     },
     "user_tz": -540
    },
    "id": "HzSem2jc8LWd",
    "outputId": "3483ea66-79c6-4729-f093-164a4d84761b"
   },
   "outputs": [
    {
     "name": "stdout",
     "output_type": "stream",
     "text": [
      "model_nm의 최빈값은 model_1입니다.\n",
      "fwver의 최빈값은 04.16.3553입니다.\n",
      "errtype의 최빈값은 23입니다.\n",
      "errcode의 최빈값은 1입니다.\n"
     ]
    }
   ],
   "source": [
    "# train_err의 각 컬럼간의 교차 분석\n",
    "# user_id, time은 우선적으로 제외하고\n",
    "# model_nm, fwver, errtype, errcode로 분석 진행\n",
    "# 비식별 데이터지만 컬럼 이름으로 유추컨대\n",
    "# model_nm - 모델 이름, fwver - 펌웨어 버전, errtype - 에러타입, errcode - 에러 코드라 추정해 볼 수 있음\n",
    "                              # 펌웨어란 하드웨어의 제어(low-level control)와 구동을 담당하는 일종의 운영체제\n",
    "# 추정이 맞다면 위 컬럼들은 범주형 변수에 해당\n",
    "\n",
    "columns = ['model_nm','fwver','errtype','errcode']\n",
    "\n",
    "for column in columns:\n",
    "    print(f'{column}의 최빈값은 {train_err[column].mode()[0]}입니다.')"
   ]
  },
  {
   "cell_type": "code",
   "execution_count": 7,
   "metadata": {
    "colab": {
     "base_uri": "https://localhost:8080/",
     "height": 441
    },
    "executionInfo": {
     "elapsed": 4634,
     "status": "ok",
     "timestamp": 1610161780580,
     "user": {
      "displayName": "서광채",
      "photoUrl": "",
      "userId": "13819498779887957577"
     },
     "user_tz": -540
    },
    "id": "q-izUPB1C368",
    "outputId": "b34d8b55-4070-45f4-a38c-05cafd2ea465"
   },
   "outputs": [
    {
     "data": {
      "image/png": "[encoded data removed]",
      "text/plain": [
       "<Figure size 864x432 with 2 Axes>"
      ]
     },
     "metadata": {
      "needs_background": "light",
      "tags": []
     },
     "output_type": "display_data"
    }
   ],
   "source": [
    "# 시각화\n",
    "fig = plt.figure(figsize=(12, 6))\n",
    "ax1 = plt.subplot(121)\n",
    "ax1.plot(train_err.groupby(train_err['model_nm'])['errtype'].count())\n",
    "ax1.title.set_text('errtype count By model_nm')\n",
    "ax1.set_xlabel('model_nm')\n",
    "ax1.set_ylabel('errtype')\n",
    "\n",
    "ax2 = plt.subplot(122)\n",
    "ax2.plot(train_err.groupby(train_err['fwver'])['errtype'].count(), color='orange')\n",
    "ax2.title.set_text('errtype count By fwver')\n",
    "ax2.set_xlabel('fwver')\n",
    "ax2.set_ylabel('errtype')\n",
    "plt.xticks(rotation=90)\n",
    "fig.tight_layout()\n",
    "\n",
    "plt.show()\n",
    "\n",
    "# model_nm, fwver 각각의 최빈값인 model_1, 04.16.3553에서\n",
    "# 가장 많은 수의 errtype count가 나왔고\n",
    "# model_nm의 경우, model_1, model_0, model_2 순으로 errtype count가 높으며\n",
    "# model_1일 때를 제외하고 model 넘버가 높아질수록 errtype count가 감소\n",
    "# fwver의 경우, 04.16.3553, 03.11.1167 등을 비롯한 특정 fwver 5개에서\n",
    "# 유독 높은 errtype count를 확인할 수 있음"
   ]
  },
  {
   "cell_type": "code",
   "execution_count": 8,
   "metadata": {
    "colab": {
     "base_uri": "https://localhost:8080/"
    },
    "executionInfo": {
     "elapsed": 30850,
     "status": "ok",
     "timestamp": 1610161816041,
     "user": {
      "displayName": "서광채",
      "photoUrl": "",
      "userId": "13819498779887957577"
     },
     "user_tz": -540
    },
    "id": "ZdkRZM4T0su4",
    "outputId": "10b22422-0555-41a1-a827-aebdd054d761"
   },
   "outputs": [
    {
     "name": "stdout",
     "output_type": "stream",
     "text": [
      "model_nm과 fwver의 p-value는 0.0입니다\n",
      "model_nm과 errtype의 p-value는 0.0입니다\n",
      "model_nm과 errcode의 p-value는 0.0입니다\n",
      "fwver과 model_nm의 p-value는 0.0입니다\n",
      "fwver과 errtype의 p-value는 0.0입니다\n",
      "fwver과 errcode의 p-value는 0.0입니다\n",
      "errtype과 model_nm의 p-value는 0.0입니다\n",
      "errtype과 fwver의 p-value는 0.0입니다\n",
      "errtype과 errcode의 p-value는 0.0입니다\n",
      "errcode과 model_nm의 p-value는 0.0입니다\n",
      "errcode과 fwver의 p-value는 0.0입니다\n",
      "errcode과 errtype의 p-value는 0.0입니다\n"
     ]
    }
   ],
   "source": [
    "#카이제곱검정을 통한 독립성 검정\n",
    "\n",
    "# 교차표 생성 및 카이제곱검정\n",
    "for first_column in columns:\n",
    "    for second_column in columns:\n",
    "        # 비교군이 같은 경우 continue\n",
    "        if first_column == second_column:\n",
    "            continue\n",
    "        else:\n",
    "            result = pd.crosstab(train_err[first_column], train_err[second_column])\n",
    "            print(f'{first_column}과 {second_column}의 p-value는 {stats.chi2_contingency(observed=result)[1]}입니다')"
   ]
  },
  {
   "cell_type": "code",
   "execution_count": null,
   "metadata": {
    "id": "sWrnYc7h0z1b"
   },
   "outputs": [],
   "source": [
    "# 독립성 검정 결과로 나온\n",
    "# 모든 두 컬럼들 사이의 p-value는 0.0으로 유의수준 0.05하에서 귀무가설 기각\n",
    "# 따라서, 모든 두 컬럼들 사이에는 관련성이 존재"
   ]
  },
  {
   "cell_type": "markdown",
   "metadata": {
    "id": "SUjTuWLULIaz"
   },
   "source": [
    "# train_quality 파일"
   ]
  },
  {
   "cell_type": "code",
   "execution_count": 9,
   "metadata": {
    "colab": {
     "base_uri": "https://localhost:8080/"
    },
    "executionInfo": {
     "elapsed": 8564,
     "status": "ok",
     "timestamp": 1610161816468,
     "user": {
      "displayName": "서광채",
      "photoUrl": "",
      "userId": "13819498779887957577"
     },
     "user_tz": -540
    },
    "id": "1WLZ_VS3hg_K",
    "outputId": "38c9d110-3715-4233-9944-8f68098a4dca"
   },
   "outputs": [
    {
     "name": "stdout",
     "output_type": "stream",
     "text": [
      "<class 'pandas.core.frame.DataFrame'>\n",
      "RangeIndex: 828624 entries, 0 to 828623\n",
      "Data columns (total 16 columns):\n",
      " #   Column      Non-Null Count   Dtype  \n",
      "---  ------      --------------   -----  \n",
      " 0   time        828624 non-null  int64  \n",
      " 1   user_id     828624 non-null  int64  \n",
      " 2   fwver       788544 non-null  object \n",
      " 3   quality_0   684192 non-null  float64\n",
      " 4   quality_1   828624 non-null  int64  \n",
      " 5   quality_2   788511 non-null  float64\n",
      " 6   quality_3   828624 non-null  int64  \n",
      " 7   quality_4   828624 non-null  int64  \n",
      " 8   quality_5   828604 non-null  object \n",
      " 9   quality_6   828624 non-null  int64  \n",
      " 10  quality_7   828624 non-null  object \n",
      " 11  quality_8   828624 non-null  object \n",
      " 12  quality_9   828624 non-null  object \n",
      " 13  quality_10  828624 non-null  object \n",
      " 14  quality_11  828624 non-null  int64  \n",
      " 15  quality_12  828624 non-null  int64  \n",
      "dtypes: float64(2), int64(8), object(6)\n",
      "memory usage: 101.2+ MB\n"
     ]
    }
   ],
   "source": [
    "# train_quality의 정보 확인\n",
    "# train_err는 timie, user_id, fwver, quality_0 ~ quality_12 컬럼이 존재\n",
    "# fwver, quality_5,7,8,9,10은 각각 object 형태\n",
    "train_quality.info()"
   ]
  },
  {
   "cell_type": "code",
   "execution_count": 10,
   "metadata": {
    "colab": {
     "base_uri": "https://localhost:8080/"
    },
    "executionInfo": {
     "elapsed": 1174,
     "status": "ok",
     "timestamp": 1610161821363,
     "user": {
      "displayName": "서광채",
      "photoUrl": "",
      "userId": "13819498779887957577"
     },
     "user_tz": -540
    },
    "id": "OnmAUe2Mj9Rv",
    "outputId": "c0d00d18-b6ea-4ae5-9daa-80ff65c4b5e2"
   },
   "outputs": [
    {
     "name": "stdout",
     "output_type": "stream",
     "text": [
      "train_err의 고유 user_id는 15000개 입니다\n",
      "train_quality의 고유 user_id는 8281개 입니다\n",
      "train_problem의 고유 user_id는 5000개 입니다\n"
     ]
    }
   ],
   "source": [
    "print(f'train_err의 고유 user_id는 {len(train_err.user_id.unique())}개 입니다')\n",
    "print(f'train_quality의 고유 user_id는 {len(train_quality.user_id.unique())}개 입니다')\n",
    "print(f'train_problem의 고유 user_id는 {len(train_problem.user_id.unique())}개 입니다')"
   ]
  },
  {
   "cell_type": "code",
   "execution_count": 13,
   "metadata": {
    "colab": {
     "base_uri": "https://localhost:8080/"
    },
    "executionInfo": {
     "elapsed": 1060,
     "status": "ok",
     "timestamp": 1610161858175,
     "user": {
      "displayName": "서광채",
      "photoUrl": "",
      "userId": "13819498779887957577"
     },
     "user_tz": -540
    },
    "id": "xD5ISs-FVHsT",
    "outputId": "20cec133-3c13-4d27-d335-0e9886df132a"
   },
   "outputs": [
    {
     "name": "stdout",
     "output_type": "stream",
     "text": [
      "quality_user 8281명 중 불편을 느낀 user의 수는 3167명 입니다.\n"
     ]
    }
   ],
   "source": [
    "# train_problem에 한번이라도 나와 있는 유저는\n",
    "# 시스템 풀질에 불편을 느꼈다고 할때\n",
    "\n",
    "quality_user = train_quality.user_id.unique()\n",
    "problem_user = train_problem.user_id.unique()\n",
    "quality_problem_user = [x for x in quality_user if x in problem_user]\n",
    "print(f'quality_user {len(quality_user)}명 중 불편을 느낀 user의 수는 {len(quality_problem_user)}명 입니다.')\n",
    "\n",
    "# 따라서, quality_user 8281명 중 3167명은 불편을 느낌."
   ]
  },
  {
   "cell_type": "code",
   "execution_count": 14,
   "metadata": {
    "executionInfo": {
     "elapsed": 1156,
     "status": "ok",
     "timestamp": 1610161862027,
     "user": {
      "displayName": "서광채",
      "photoUrl": "",
      "userId": "13819498779887957577"
     },
     "user_tz": -540
    },
    "id": "XmYO4AsdXRMJ"
   },
   "outputs": [],
   "source": [
    "# object형태인 quality_5,7,8,9,10은\n",
    "# 확인결과 숫자가 천단위로 넘어가면 ',' 가 붙기 때문.\n",
    "# 특이한 점은 quality_8의 경우, \n",
    "# 같은 수라도 어떤 값은 int, 어떤 값은 str로 표현. ex) 0, '0'\n",
    "# 또한, quality_3, quality_4는 모두 0으로 버려도 무방\n",
    "\n",
    "# 데이콘 baseline의 함수를 커스터마이징 해 봤으나\n",
    "# 컬럼 하나 돌리는데 시간이 꽤나 많이 드는듯,,,\n",
    "def string2num(Series):\n",
    "    # (,)( )과 같은 불필요한 데이터 정제\n",
    "    for i in range(len(Series)):\n",
    "        Series[i] = re.sub(r\"[^0-9]+\", '', str(Series[i]))\n",
    "        if Series[i] == '':\n",
    "            Series[i] = 0\n",
    "        else:\n",
    "            Series[i] = int(Series[i])\n",
    "    return Series"
   ]
  },
  {
   "cell_type": "code",
   "execution_count": 15,
   "metadata": {
    "colab": {
     "base_uri": "https://localhost:8080/"
    },
    "executionInfo": {
     "elapsed": 5354,
     "status": "ok",
     "timestamp": 1610161872414,
     "user": {
      "displayName": "서광채",
      "photoUrl": "",
      "userId": "13819498779887957577"
     },
     "user_tz": -540
    },
    "id": "lLbe7zr9h6ut",
    "outputId": "eebb74c9-7979-44b7-f431-d049014cb73d"
   },
   "outputs": [
    {
     "name": "stdout",
     "output_type": "stream",
     "text": [
      "p_value값은 0.0입니다.\n",
      "p_value값은 0.0입니다.\n",
      "p_value값은 0.0입니다.\n",
      "p_value값은 1.0입니다.\n",
      "p_value값은 1.0입니다.\n",
      "p_value값은 1.0입니다.\n",
      "p_value값은 0.0입니다.\n",
      "p_value값은 0.0입니다.\n",
      "p_value값은 0.0입니다.\n",
      "p_value값은 0.0입니다.\n",
      "p_value값은 0.0입니다.\n",
      "p_value값은 0.0입니다.\n",
      "p_value값은 0.0입니다.\n"
     ]
    }
   ],
   "source": [
    "# quality가 어떤 변수인지는 모르겠으나\n",
    "# 일단 fwb가 범주형 변수이므로 카이제곱검정을 시행해 보았음.\n",
    "# 이 결과, 0으로만 이뤄진 quality_3, quality_4를 제외하고\n",
    "# quality_5는 fwv와 독립.\n",
    "\n",
    "for i in range(13):\n",
    "    quality = 'quality_' + str(i)\n",
    "    result = pd.crosstab(train_quality.fwver, train_quality[quality])\n",
    "    p_value = stats.chi2_contingency(observed=result)[1]\n",
    "    print(f'p_value값은 {p_value}입니다.')"
   ]
  },
  {
   "cell_type": "code",
   "execution_count": null,
   "metadata": {
    "id": "gax7h9gCX_Ii"
   },
   "outputs": [],
   "source": [
    "# 향후, quality에서 전처리가 된다면\n",
    "# fwb와의 카이제곱검정은 재진행이 필요\n",
    "# 또한 quality간의 corr()를 통해\n",
    "# 상관관계 분석도 해볼 수 있을 듯"
   ]
  },
  {
   "cell_type": "markdown",
   "metadata": {
    "id": "1Tx6MF5Mam3s"
   },
   "source": [
    "# Modeling"
   ]
  },
  {
   "cell_type": "code",
   "execution_count": 127,
   "metadata": {
    "colab": {
     "base_uri": "https://localhost:8080/",
     "height": 257
    },
    "executionInfo": {
     "elapsed": 5615,
     "status": "error",
     "timestamp": 1610184105704,
     "user": {
      "displayName": "서광채",
      "photoUrl": "",
      "userId": "13819498779887957577"
     },
     "user_tz": -540
    },
    "id": "rutLK1mwZyzj",
    "outputId": "72576eda-7fb0-4e16-832e-b99b86e42575"
   },
   "outputs": [
    {
     "name": "stderr",
     "output_type": "stream",
     "text": [
      " 10%|█         | 1660746/16554663 [00:04<00:40, 369836.57it/s]\n"
     ]
    },
    {
     "ename": "KeyboardInterrupt",
     "evalue": "ignored",
     "output_type": "error",
     "traceback": [
      "\u001b[0;31m---------------------------------------------------------------------------\u001b[0m",
      "\u001b[0;31mKeyboardInterrupt\u001b[0m                         Traceback (most recent call last)",
      "\u001b[0;32m<ipython-input-127-bda9f031043b>\u001b[0m in \u001b[0;36m<module>\u001b[0;34m()\u001b[0m\n\u001b[1;32m     12\u001b[0m \u001b[0;32mfor\u001b[0m \u001b[0mperson_idx\u001b[0m\u001b[0;34m,\u001b[0m \u001b[0merr\u001b[0m \u001b[0;32min\u001b[0m \u001b[0mtqdm\u001b[0m\u001b[0;34m(\u001b[0m\u001b[0mid_error\u001b[0m\u001b[0;34m)\u001b[0m\u001b[0;34m:\u001b[0m\u001b[0;34m\u001b[0m\u001b[0;34m\u001b[0m\u001b[0m\n\u001b[1;32m     13\u001b[0m     \u001b[0;31m# person_idx - train_user_id_min 위치에 person_idx, errtype에 해당하는 error값을 +1\u001b[0m\u001b[0;34m\u001b[0m\u001b[0;34m\u001b[0m\u001b[0;34m\u001b[0m\u001b[0m\n\u001b[0;32m---> 14\u001b[0;31m     \u001b[0merror\u001b[0m\u001b[0;34m[\u001b[0m\u001b[0mperson_idx\u001b[0m \u001b[0;34m-\u001b[0m \u001b[0mtrain_user_id_min\u001b[0m\u001b[0;34m,\u001b[0m\u001b[0merr\u001b[0m \u001b[0;34m-\u001b[0m \u001b[0;36m1\u001b[0m\u001b[0;34m]\u001b[0m \u001b[0;34m+=\u001b[0m \u001b[0;36m1\u001b[0m\u001b[0;34m\u001b[0m\u001b[0;34m\u001b[0m\u001b[0m\n\u001b[0m\u001b[1;32m     15\u001b[0m \u001b[0merror\u001b[0m\u001b[0;34m.\u001b[0m\u001b[0mshape\u001b[0m\u001b[0;34m\u001b[0m\u001b[0;34m\u001b[0m\u001b[0m\n\u001b[1;32m     16\u001b[0m \u001b[0;34m\u001b[0m\u001b[0m\n",
      "\u001b[0;31mKeyboardInterrupt\u001b[0m: "
     ]
    }
   ],
   "source": [
    "# 데이콘 베이스라인 Modeling\n",
    "# errtype counts를 변수로 problem에서 \n",
    "# 한 번이라도 user_id가 나오면 오류가 발생했다고 설정\n",
    "\n",
    "train_user_id_max = 24999\n",
    "train_user_id_min = 10000\n",
    "train_user_number = 15000\n",
    "\n",
    "id_error = train_err[['user_id','errtype']].values\n",
    "error = np.zeros((train_user_number,42))\n",
    "\n",
    "for person_idx, err in tqdm(id_error):\n",
    "    # person_idx - train_user_id_min 위치에 person_idx, errtype에 해당하는 error값을 +1\n",
    "    error[person_idx - train_user_id_min,err - 1] += 1\n",
    "error.shape\n",
    "\n",
    "# error와 동일한 방법으로 person_idx - 10000 위치에 \n",
    "# person_idx의 problem이 한 번이라도 발생했다면 1\n",
    "# 없다면 0\n",
    "problem = np.zeros(15000)\n",
    "problem[train_problem.user_id.unique()-10000] = 1 \n",
    "problem.shape\n",
    "\n",
    "X = error\n",
    "Y = problem"
   ]
  },
  {
   "cell_type": "code",
   "execution_count": null,
   "metadata": {
    "executionInfo": {
     "elapsed": 2657,
     "status": "aborted",
     "timestamp": 1610184096713,
     "user": {
      "displayName": "서광채",
      "photoUrl": "",
      "userId": "13819498779887957577"
     },
     "user_tz": -540
    },
    "id": "pVVbQG1JJLz_"
   },
   "outputs": [],
   "source": [
    "fwv = []\n",
    "for i in range(train_user_id_min, train_user_id_max+1):\n",
    "    fwv.append(train_err[train_err['user_id'] == i].fwver.mode()[0])\n",
    "\n",
    "fwv = np.array(fwv)\n",
    "fwv"
   ]
  },
  {
   "cell_type": "code",
   "execution_count": null,
   "metadata": {
    "executionInfo": {
     "elapsed": 2657,
     "status": "aborted",
     "timestamp": 1610184096725,
     "user": {
      "displayName": "서광채",
      "photoUrl": "",
      "userId": "13819498779887957577"
     },
     "user_tz": -540
    },
    "id": "PRslYsOEP046"
   },
   "outputs": [],
   "source": [
    "model = []\n",
    "for i in range(train_user_id_min, train_user_id_max+1):\n",
    "    model.append(train_err[train_err['user_id'] == i].model_nm.mode()[0])\n",
    "\n",
    "model = np.array(model)\n",
    "model"
   ]
  },
  {
   "cell_type": "code",
   "execution_count": null,
   "metadata": {
    "executionInfo": {
     "elapsed": 2656,
     "status": "aborted",
     "timestamp": 1610184096733,
     "user": {
      "displayName": "서광채",
      "photoUrl": "",
      "userId": "13819498779887957577"
     },
     "user_tz": -540
    },
    "id": "eWnakgz1Msof"
   },
   "outputs": [],
   "source": [
    "fwv_series = pd.Series(fwv,name='fwv')\n",
    "model_series = pd.Series(model,name='model')"
   ]
  },
  {
   "cell_type": "code",
   "execution_count": null,
   "metadata": {
    "executionInfo": {
     "elapsed": 2646,
     "status": "aborted",
     "timestamp": 1610184096736,
     "user": {
      "displayName": "서광채",
      "photoUrl": "",
      "userId": "13819498779887957577"
     },
     "user_tz": -540
    },
    "id": "v03Knwq5VKbt"
   },
   "outputs": [],
   "source": [
    "error_df = pd.DataFrame(error)\n",
    "\n",
    "zscore = 1.8\n",
    "for col in error_df.columns:\n",
    "    outliers = error_df[col][np.abs(stats.zscore(error_df[col])) > zscore]\n",
    "    col_mean = np.mean(error_df.loc[~error_df[col].isin(outliers), col])\n",
    "    error_df.loc[error_df[col].isin(outliers), col] = col_mean"
   ]
  },
  {
   "cell_type": "code",
   "execution_count": null,
   "metadata": {
    "executionInfo": {
     "elapsed": 2622,
     "status": "aborted",
     "timestamp": 1610184096738,
     "user": {
      "displayName": "서광채",
      "photoUrl": "",
      "userId": "13819498779887957577"
     },
     "user_tz": -540
    },
    "id": "lTWg4VNwNDLl"
   },
   "outputs": [],
   "source": [
    "# error_df = pd.concat([error_df,fwv_series], axis=1)\n",
    "error_df = pd.concat([error_df,model_series], axis=1)\n",
    "error_df.head()"
   ]
  },
  {
   "cell_type": "code",
   "execution_count": null,
   "metadata": {
    "executionInfo": {
     "elapsed": 2597,
     "status": "aborted",
     "timestamp": 1610184096739,
     "user": {
      "displayName": "서광채",
      "photoUrl": "",
      "userId": "13819498779887957577"
     },
     "user_tz": -540
    },
    "id": "kGym6aIzW6rF"
   },
   "outputs": [],
   "source": [
    "error_df = error_df.drop([7,8,18,20,29], axis=1)\n",
    "error_df"
   ]
  },
  {
   "cell_type": "code",
   "execution_count": null,
   "metadata": {
    "executionInfo": {
     "elapsed": 2581,
     "status": "aborted",
     "timestamp": 1610184096740,
     "user": {
      "displayName": "서광채",
      "photoUrl": "",
      "userId": "13819498779887957577"
     },
     "user_tz": -540
    },
    "id": "zWgDXRsNN5ol"
   },
   "outputs": [],
   "source": [
    "X = pd.get_dummies(error_df)\n",
    "# X = X.values"
   ]
  },
  {
   "cell_type": "code",
   "execution_count": 128,
   "metadata": {
    "colab": {
     "base_uri": "https://localhost:8080/"
    },
    "executionInfo": {
     "elapsed": 1005,
     "status": "ok",
     "timestamp": 1610184194566,
     "user": {
      "displayName": "서광채",
      "photoUrl": "",
      "userId": "13819498779887957577"
     },
     "user_tz": -540
    },
    "id": "jgY1Fxf4OMv5",
    "outputId": "bcc9acbf-d69d-4a19-fe7f-063829a9d196"
   },
   "outputs": [
    {
     "data": {
      "text/plain": [
       "(15000, 46)"
      ]
     },
     "execution_count": 128,
     "metadata": {
      "tags": []
     },
     "output_type": "execute_result"
    }
   ],
   "source": [
    "X.shape"
   ]
  },
  {
   "cell_type": "code",
   "execution_count": null,
   "metadata": {
    "executionInfo": {
     "elapsed": 2554,
     "status": "aborted",
     "timestamp": 1610184096743,
     "user": {
      "displayName": "서광채",
      "photoUrl": "",
      "userId": "13819498779887957577"
     },
     "user_tz": -540
    },
    "id": "KsLU1LBQWS9e"
   },
   "outputs": [],
   "source": [
    "train_err.groupby(train_err['errtype']).count()\n",
    "# 89192130"
   ]
  },
  {
   "cell_type": "code",
   "execution_count": null,
   "metadata": {
    "executionInfo": {
     "elapsed": 2541,
     "status": "aborted",
     "timestamp": 1610184096744,
     "user": {
      "displayName": "서광채",
      "photoUrl": "",
      "userId": "13819498779887957577"
     },
     "user_tz": -540
    },
    "id": "2wpGE-tlIffo"
   },
   "outputs": [],
   "source": [
    "# Normalization\n",
    "scaler = MinMaxScaler()\n",
    "scaler.fit(X)\n",
    "X = scaler.transform(X)\n",
    "\n",
    "# from sklearn.preprocessing import RobustScaler\n",
    "# scaler = RobustScaler()\n",
    "# scaler.fit(X)\n",
    "# X = scaler.transform(X)\n",
    "\n",
    "# train_test_split\n",
    "x_train, x_val, y_train, y_val = \\\n",
    "train_test_split(X, Y, test_size=0.2, random_state=42, stratify=Y)"
   ]
  },
  {
   "cell_type": "code",
   "execution_count": null,
   "metadata": {
    "executionInfo": {
     "elapsed": 2534,
     "status": "aborted",
     "timestamp": 1610184096747,
     "user": {
      "displayName": "서광채",
      "photoUrl": "",
      "userId": "13819498779887957577"
     },
     "user_tz": -540
    },
    "id": "rojf4UIzbFDj"
   },
   "outputs": [],
   "source": [
    "## NN\n",
    "\n",
    "def build_nn():\n",
    "    earlystop = EarlyStopping(patience=10)\n",
    "    learning_rate_reduction = ReduceLROnPlateau(monitor='val_loss',\n",
    "                                            patience=2,\n",
    "                                            factor=0.8,\n",
    "                                            min_lr=1e-7,\n",
    "                                            verbose=1)\n",
    "    model_check = ModelCheckpoint( #에포크마다 현재 가중치를 저장    \n",
    "            filepath=\"./lg_nn.h5\", #모델 파일 경로\n",
    "            monitor='val_loss',  # val_loss 가 좋아지지 않으면 모델 파일을 덮어쓰지 않음.\n",
    "            save_best_only=True)\n",
    "\n",
    "    callbacks = [earlystop, learning_rate_reduction, model_check]\n",
    "\n",
    "    model = Sequential()\n",
    "    model.add(Dense(7500, kernel_initializer='he_normal',\n",
    "                    input_shape=(x_train.shape[1],)))  # input_shape로 input layer의 역할까지도 처리\n",
    "    model.add(PReLU())\n",
    "    model.add(BatchNormalization())\n",
    "    model.add(Dropout(0.7))\n",
    "\n",
    "    model.add(Dense(3750, kernel_initializer='he_normal'))\n",
    "    model.add(PReLU())\n",
    "    model.add(BatchNormalization())\n",
    "    model.add(Dropout(0.7))\n",
    "\n",
    "    # model.add(Dense(750, kernel_initializer='he_normal'))\n",
    "    # model.add(PReLU())\n",
    "    # model.add(BatchNormalization())\n",
    "    # model.add(Dropout(0.7))\n",
    "\n",
    "    model.add(Dense(1, activation='sigmoid', kernel_initializer='he_normal'))\n",
    "\n",
    "    model.compile(optimizer=Adam(learning_rate=0.0001),\n",
    "                loss='binary_crossentropy',\n",
    "                metrics=['binary_accuracy',AUC()])\n",
    "\n",
    "    history = model.fit(x_train,\n",
    "                        y_train,\n",
    "                        epochs=100,\n",
    "                        verbose=1,\n",
    "                        validation_data=(x_val,y_val),\n",
    "                        callbacks=callbacks)\n",
    "    \n",
    "    return history"
   ]
  },
  {
   "cell_type": "code",
   "execution_count": null,
   "metadata": {
    "executionInfo": {
     "elapsed": 2526,
     "status": "aborted",
     "timestamp": 1610184096749,
     "user": {
      "displayName": "서광채",
      "photoUrl": "",
      "userId": "13819498779887957577"
     },
     "user_tz": -540
    },
    "id": "T3s3oe1acfJF"
   },
   "outputs": [],
   "source": [
    "build_nn()"
   ]
  }
 ],
 "metadata": {
  "accelerator": "GPU",
  "colab": {
   "authorship_tag": "ABX9TyNgD9g/3X3j41XVHrx1V9Sf",
   "machine_shape": "hm",
   "mount_file_id": "1yNYdBFl0qMiDa4RkKSa-WYtQWShb2ZGI",
   "name": "LG 데이터.ipynb",
   "provenance": []
  },
  "kernelspec": {
   "display_name": "Python 3",
   "language": "python",
   "name": "python3"
  },
  "language_info": {
   "codemirror_mode": {
    "name": "ipython",
    "version": 3
   },
   "file_extension": ".py",
   "mimetype": "text/x-python",
   "name": "python",
   "nbconvert_exporter": "python",
   "pygments_lexer": "ipython3",
   "version": "3.8.5"
  }
 },
 "nbformat": 4,
 "nbformat_minor": 1
}
