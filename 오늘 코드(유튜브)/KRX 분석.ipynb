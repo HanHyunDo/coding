{
 "cells": [
  {
   "cell_type": "markdown",
   "id": "regulation-termination",
   "metadata": {
    "heading_collapsed": true
   },
   "source": [
    "# 1강"
   ]
  },
  {
   "cell_type": "code",
   "execution_count": 1,
   "id": "systematic-bottle",
   "metadata": {
    "ExecuteTime": {
     "end_time": "2021-02-06T04:45:14.446932Z",
     "start_time": "2021-02-06T04:45:14.433920Z"
    },
    "hidden": true
   },
   "outputs": [],
   "source": [
    "# ! pip install -U finance-datareader\n",
    "# !pip install bs4"
   ]
  },
  {
   "cell_type": "markdown",
   "id": "dressed-large",
   "metadata": {
    "hidden": true
   },
   "source": [
    "## 라이브러리 불러오기"
   ]
  },
  {
   "cell_type": "code",
   "execution_count": 2,
   "id": "pleased-russian",
   "metadata": {
    "ExecuteTime": {
     "end_time": "2021-02-06T04:45:14.852951Z",
     "start_time": "2021-02-06T04:45:14.447933Z"
    },
    "hidden": true
   },
   "outputs": [],
   "source": [
    "import pandas as pd"
   ]
  },
  {
   "cell_type": "code",
   "execution_count": 3,
   "id": "blind-modern",
   "metadata": {
    "ExecuteTime": {
     "end_time": "2021-02-06T04:45:15.078892Z",
     "start_time": "2021-02-06T04:45:14.853952Z"
    },
    "hidden": true
   },
   "outputs": [
    {
     "data": {
      "text/plain": [
       "'0.9.20'"
      ]
     },
     "execution_count": 3,
     "metadata": {},
     "output_type": "execute_result"
    }
   ],
   "source": [
    "import FinanceDataReader as fdr\n",
    "\n",
    "fdr.__version__"
   ]
  },
  {
   "cell_type": "markdown",
   "id": "cross-chocolate",
   "metadata": {
    "hidden": true
   },
   "source": [
    "## 4. 한국거래소 상장종목 전체 가져오기"
   ]
  },
  {
   "cell_type": "code",
   "execution_count": 4,
   "id": "connected-packing",
   "metadata": {
    "ExecuteTime": {
     "end_time": "2021-02-06T04:45:15.093905Z",
     "start_time": "2021-02-06T04:45:15.079893Z"
    },
    "hidden": true
   },
   "outputs": [],
   "source": [
    "# fdr.StockListing??"
   ]
  },
  {
   "cell_type": "code",
   "execution_count": 5,
   "id": "technical-error",
   "metadata": {
    "ExecuteTime": {
     "end_time": "2021-02-06T04:45:20.610584Z",
     "start_time": "2021-02-06T04:45:15.094906Z"
    },
    "hidden": true
   },
   "outputs": [
    {
     "data": {
      "text/plain": [
       "(7110, 10)"
      ]
     },
     "execution_count": 5,
     "metadata": {},
     "output_type": "execute_result"
    }
   ],
   "source": [
    "# 한국거래소 상장종목 전체 가져오기\n",
    "\n",
    "df_krx = fdr.StockListing(\"KRX\")\n",
    "df_krx.shape"
   ]
  },
  {
   "cell_type": "code",
   "execution_count": 6,
   "id": "studied-smile",
   "metadata": {
    "ExecuteTime": {
     "end_time": "2021-02-06T04:45:20.625598Z",
     "start_time": "2021-02-06T04:45:20.611585Z"
    },
    "hidden": true
   },
   "outputs": [
    {
     "name": "stdout",
     "output_type": "stream",
     "text": [
      "<class 'pandas.core.frame.DataFrame'>\n",
      "Int64Index: 7110 entries, 0 to 7109\n",
      "Data columns (total 10 columns):\n",
      " #   Column          Non-Null Count  Dtype         \n",
      "---  ------          --------------  -----         \n",
      " 0   Symbol          7110 non-null   object        \n",
      " 1   Market          7110 non-null   object        \n",
      " 2   Name            7110 non-null   object        \n",
      " 3   Sector          2422 non-null   object        \n",
      " 4   Industry        2403 non-null   object        \n",
      " 5   ListingDate     2422 non-null   datetime64[ns]\n",
      " 6   SettleMonth     2422 non-null   object        \n",
      " 7   Representative  2422 non-null   object        \n",
      " 8   HomePage        2247 non-null   object        \n",
      " 9   Region          2422 non-null   object        \n",
      "dtypes: datetime64[ns](1), object(9)\n",
      "memory usage: 611.0+ KB\n"
     ]
    }
   ],
   "source": [
    "df_krx.info()"
   ]
  },
  {
   "cell_type": "code",
   "execution_count": 7,
   "id": "animal-community",
   "metadata": {
    "ExecuteTime": {
     "end_time": "2021-02-06T04:45:20.670638Z",
     "start_time": "2021-02-06T04:45:20.626598Z"
    },
    "hidden": true
   },
   "outputs": [
    {
     "name": "stderr",
     "output_type": "stream",
     "text": [
      "<ipython-input-7-3a0d4686ffa7>:2: FutureWarning: Treating datetime data as categorical rather than numeric in `.describe` is deprecated and will be removed in a future version of pandas. Specify `datetime_is_numeric=True` to silence this warning and adopt the future behavior now.\n",
      "  df_krx.describe()\n"
     ]
    },
    {
     "data": {
      "text/html": [
       "<div>\n",
       "<style scoped>\n",
       "    .dataframe tbody tr th:only-of-type {\n",
       "        vertical-align: middle;\n",
       "    }\n",
       "\n",
       "    .dataframe tbody tr th {\n",
       "        vertical-align: top;\n",
       "    }\n",
       "\n",
       "    .dataframe thead th {\n",
       "        text-align: right;\n",
       "    }\n",
       "</style>\n",
       "<table border=\"1\" class=\"dataframe\">\n",
       "  <thead>\n",
       "    <tr style=\"text-align: right;\">\n",
       "      <th></th>\n",
       "      <th>Symbol</th>\n",
       "      <th>Market</th>\n",
       "      <th>Name</th>\n",
       "      <th>Sector</th>\n",
       "      <th>Industry</th>\n",
       "      <th>ListingDate</th>\n",
       "      <th>SettleMonth</th>\n",
       "      <th>Representative</th>\n",
       "      <th>HomePage</th>\n",
       "      <th>Region</th>\n",
       "    </tr>\n",
       "  </thead>\n",
       "  <tbody>\n",
       "    <tr>\n",
       "      <th>count</th>\n",
       "      <td>7110</td>\n",
       "      <td>7110</td>\n",
       "      <td>7110</td>\n",
       "      <td>2422</td>\n",
       "      <td>2403</td>\n",
       "      <td>2422</td>\n",
       "      <td>2422</td>\n",
       "      <td>2422</td>\n",
       "      <td>2247</td>\n",
       "      <td>2422</td>\n",
       "    </tr>\n",
       "    <tr>\n",
       "      <th>unique</th>\n",
       "      <td>7110</td>\n",
       "      <td>3</td>\n",
       "      <td>7110</td>\n",
       "      <td>158</td>\n",
       "      <td>2251</td>\n",
       "      <td>1784</td>\n",
       "      <td>9</td>\n",
       "      <td>2307</td>\n",
       "      <td>2226</td>\n",
       "      <td>22</td>\n",
       "    </tr>\n",
       "    <tr>\n",
       "      <th>top</th>\n",
       "      <td>58G291</td>\n",
       "      <td>KOSPI</td>\n",
       "      <td>TIGER 원유선물Enhanced(H)</td>\n",
       "      <td>특수 목적용 기계 제조업</td>\n",
       "      <td>기업인수합병</td>\n",
       "      <td>1996-07-03 00:00:00</td>\n",
       "      <td>12월</td>\n",
       "      <td>-</td>\n",
       "      <td>http://www.sempio.com</td>\n",
       "      <td>서울특별시</td>\n",
       "    </tr>\n",
       "    <tr>\n",
       "      <th>freq</th>\n",
       "      <td>1</td>\n",
       "      <td>5464</td>\n",
       "      <td>1</td>\n",
       "      <td>142</td>\n",
       "      <td>36</td>\n",
       "      <td>8</td>\n",
       "      <td>2361</td>\n",
       "      <td>5</td>\n",
       "      <td>2</td>\n",
       "      <td>977</td>\n",
       "    </tr>\n",
       "    <tr>\n",
       "      <th>first</th>\n",
       "      <td>NaN</td>\n",
       "      <td>NaN</td>\n",
       "      <td>NaN</td>\n",
       "      <td>NaN</td>\n",
       "      <td>NaN</td>\n",
       "      <td>1956-03-03 00:00:00</td>\n",
       "      <td>NaN</td>\n",
       "      <td>NaN</td>\n",
       "      <td>NaN</td>\n",
       "      <td>NaN</td>\n",
       "    </tr>\n",
       "    <tr>\n",
       "      <th>last</th>\n",
       "      <td>NaN</td>\n",
       "      <td>NaN</td>\n",
       "      <td>NaN</td>\n",
       "      <td>NaN</td>\n",
       "      <td>NaN</td>\n",
       "      <td>2021-02-05 00:00:00</td>\n",
       "      <td>NaN</td>\n",
       "      <td>NaN</td>\n",
       "      <td>NaN</td>\n",
       "      <td>NaN</td>\n",
       "    </tr>\n",
       "  </tbody>\n",
       "</table>\n",
       "</div>"
      ],
      "text/plain": [
       "        Symbol Market                   Name         Sector Industry  \\\n",
       "count     7110   7110                   7110           2422     2403   \n",
       "unique    7110      3                   7110            158     2251   \n",
       "top     58G291  KOSPI  TIGER 원유선물Enhanced(H)  특수 목적용 기계 제조업   기업인수합병   \n",
       "freq         1   5464                      1            142       36   \n",
       "first      NaN    NaN                    NaN            NaN      NaN   \n",
       "last       NaN    NaN                    NaN            NaN      NaN   \n",
       "\n",
       "                ListingDate SettleMonth Representative               HomePage  \\\n",
       "count                  2422        2422           2422                   2247   \n",
       "unique                 1784           9           2307                   2226   \n",
       "top     1996-07-03 00:00:00         12월              -  http://www.sempio.com   \n",
       "freq                      8        2361              5                      2   \n",
       "first   1956-03-03 00:00:00         NaN            NaN                    NaN   \n",
       "last    2021-02-05 00:00:00         NaN            NaN                    NaN   \n",
       "\n",
       "       Region  \n",
       "count    2422  \n",
       "unique     22  \n",
       "top     서울특별시  \n",
       "freq      977  \n",
       "first     NaN  \n",
       "last      NaN  "
      ]
     },
     "execution_count": 7,
     "metadata": {},
     "output_type": "execute_result"
    }
   ],
   "source": [
    "# 기술통계 값을 요약\n",
    "df_krx.describe()"
   ]
  },
  {
   "cell_type": "code",
   "execution_count": 8,
   "id": "computational-jungle",
   "metadata": {
    "ExecuteTime": {
     "end_time": "2021-02-06T04:45:20.685653Z",
     "start_time": "2021-02-06T04:45:20.671639Z"
    },
    "hidden": true
   },
   "outputs": [
    {
     "data": {
      "text/html": [
       "<div>\n",
       "<style scoped>\n",
       "    .dataframe tbody tr th:only-of-type {\n",
       "        vertical-align: middle;\n",
       "    }\n",
       "\n",
       "    .dataframe tbody tr th {\n",
       "        vertical-align: top;\n",
       "    }\n",
       "\n",
       "    .dataframe thead th {\n",
       "        text-align: right;\n",
       "    }\n",
       "</style>\n",
       "<table border=\"1\" class=\"dataframe\">\n",
       "  <thead>\n",
       "    <tr style=\"text-align: right;\">\n",
       "      <th></th>\n",
       "      <th>Symbol</th>\n",
       "      <th>Market</th>\n",
       "      <th>Name</th>\n",
       "      <th>Sector</th>\n",
       "      <th>Industry</th>\n",
       "      <th>ListingDate</th>\n",
       "      <th>SettleMonth</th>\n",
       "      <th>Representative</th>\n",
       "      <th>HomePage</th>\n",
       "      <th>Region</th>\n",
       "    </tr>\n",
       "  </thead>\n",
       "  <tbody>\n",
       "    <tr>\n",
       "      <th>0</th>\n",
       "      <td>060310</td>\n",
       "      <td>KOSDAQ</td>\n",
       "      <td>3S</td>\n",
       "      <td>특수 목적용 기계 제조업</td>\n",
       "      <td>반도체 웨이퍼 캐리어</td>\n",
       "      <td>2002-04-23</td>\n",
       "      <td>03월</td>\n",
       "      <td>박종익, 김세완 (각자 대표이사)</td>\n",
       "      <td>http://www.3sref.com</td>\n",
       "      <td>서울특별시</td>\n",
       "    </tr>\n",
       "    <tr>\n",
       "      <th>1</th>\n",
       "      <td>095570</td>\n",
       "      <td>KOSPI</td>\n",
       "      <td>AJ네트웍스</td>\n",
       "      <td>산업용 기계 및 장비 임대업</td>\n",
       "      <td>렌탈(파렛트, OA장비, 건설장비)</td>\n",
       "      <td>2015-08-21</td>\n",
       "      <td>12월</td>\n",
       "      <td>이현우</td>\n",
       "      <td>http://www.ajnet.co.kr</td>\n",
       "      <td>서울특별시</td>\n",
       "    </tr>\n",
       "    <tr>\n",
       "      <th>2</th>\n",
       "      <td>006840</td>\n",
       "      <td>KOSPI</td>\n",
       "      <td>AK홀딩스</td>\n",
       "      <td>기타 금융업</td>\n",
       "      <td>지주사업</td>\n",
       "      <td>1999-08-11</td>\n",
       "      <td>12월</td>\n",
       "      <td>채형석, 이석주(각자 대표이사)</td>\n",
       "      <td>http://www.aekyunggroup.co.kr</td>\n",
       "      <td>서울특별시</td>\n",
       "    </tr>\n",
       "    <tr>\n",
       "      <th>3</th>\n",
       "      <td>054620</td>\n",
       "      <td>KOSDAQ</td>\n",
       "      <td>APS홀딩스</td>\n",
       "      <td>기타 금융업</td>\n",
       "      <td>인터넷 트래픽 솔루션</td>\n",
       "      <td>2001-12-04</td>\n",
       "      <td>12월</td>\n",
       "      <td>정기로</td>\n",
       "      <td>http://www.apsholdings.co.kr</td>\n",
       "      <td>경기도</td>\n",
       "    </tr>\n",
       "    <tr>\n",
       "      <th>4</th>\n",
       "      <td>265520</td>\n",
       "      <td>KOSDAQ</td>\n",
       "      <td>AP시스템</td>\n",
       "      <td>특수 목적용 기계 제조업</td>\n",
       "      <td>디스플레이 제조 장비</td>\n",
       "      <td>2017-04-07</td>\n",
       "      <td>12월</td>\n",
       "      <td>김영주</td>\n",
       "      <td>http://www.apsystems.co.kr</td>\n",
       "      <td>경기도</td>\n",
       "    </tr>\n",
       "  </tbody>\n",
       "</table>\n",
       "</div>"
      ],
      "text/plain": [
       "   Symbol  Market    Name           Sector             Industry ListingDate  \\\n",
       "0  060310  KOSDAQ      3S    특수 목적용 기계 제조업          반도체 웨이퍼 캐리어  2002-04-23   \n",
       "1  095570   KOSPI  AJ네트웍스  산업용 기계 및 장비 임대업  렌탈(파렛트, OA장비, 건설장비)  2015-08-21   \n",
       "2  006840   KOSPI   AK홀딩스           기타 금융업                 지주사업  1999-08-11   \n",
       "3  054620  KOSDAQ  APS홀딩스           기타 금융업          인터넷 트래픽 솔루션  2001-12-04   \n",
       "4  265520  KOSDAQ   AP시스템    특수 목적용 기계 제조업          디스플레이 제조 장비  2017-04-07   \n",
       "\n",
       "  SettleMonth      Representative                       HomePage Region  \n",
       "0         03월  박종익, 김세완 (각자 대표이사)           http://www.3sref.com  서울특별시  \n",
       "1         12월                 이현우         http://www.ajnet.co.kr  서울특별시  \n",
       "2         12월   채형석, 이석주(각자 대표이사)  http://www.aekyunggroup.co.kr  서울특별시  \n",
       "3         12월                 정기로   http://www.apsholdings.co.kr    경기도  \n",
       "4         12월                 김영주     http://www.apsystems.co.kr    경기도  "
      ]
     },
     "execution_count": 8,
     "metadata": {},
     "output_type": "execute_result"
    }
   ],
   "source": [
    "df_krx.head()"
   ]
  },
  {
   "cell_type": "code",
   "execution_count": 9,
   "id": "proper-tennis",
   "metadata": {
    "ExecuteTime": {
     "end_time": "2021-02-06T04:45:20.730559Z",
     "start_time": "2021-02-06T04:45:20.688655Z"
    },
    "hidden": true
   },
   "outputs": [],
   "source": [
    "df_krx.to_csv(\"krx.csv\", index=False)"
   ]
  },
  {
   "cell_type": "code",
   "execution_count": 10,
   "id": "searching-malawi",
   "metadata": {
    "ExecuteTime": {
     "end_time": "2021-02-06T04:45:20.775600Z",
     "start_time": "2021-02-06T04:45:20.731559Z"
    },
    "hidden": true
   },
   "outputs": [
    {
     "data": {
      "text/html": [
       "<div>\n",
       "<style scoped>\n",
       "    .dataframe tbody tr th:only-of-type {\n",
       "        vertical-align: middle;\n",
       "    }\n",
       "\n",
       "    .dataframe tbody tr th {\n",
       "        vertical-align: top;\n",
       "    }\n",
       "\n",
       "    .dataframe thead th {\n",
       "        text-align: right;\n",
       "    }\n",
       "</style>\n",
       "<table border=\"1\" class=\"dataframe\">\n",
       "  <thead>\n",
       "    <tr style=\"text-align: right;\">\n",
       "      <th></th>\n",
       "      <th>Symbol</th>\n",
       "      <th>Market</th>\n",
       "      <th>Name</th>\n",
       "      <th>Sector</th>\n",
       "      <th>Industry</th>\n",
       "      <th>ListingDate</th>\n",
       "      <th>SettleMonth</th>\n",
       "      <th>Representative</th>\n",
       "      <th>HomePage</th>\n",
       "      <th>Region</th>\n",
       "    </tr>\n",
       "  </thead>\n",
       "  <tbody>\n",
       "    <tr>\n",
       "      <th>0</th>\n",
       "      <td>060310</td>\n",
       "      <td>KOSDAQ</td>\n",
       "      <td>3S</td>\n",
       "      <td>특수 목적용 기계 제조업</td>\n",
       "      <td>반도체 웨이퍼 캐리어</td>\n",
       "      <td>2002-04-23</td>\n",
       "      <td>03월</td>\n",
       "      <td>박종익, 김세완 (각자 대표이사)</td>\n",
       "      <td>http://www.3sref.com</td>\n",
       "      <td>서울특별시</td>\n",
       "    </tr>\n",
       "    <tr>\n",
       "      <th>1</th>\n",
       "      <td>095570</td>\n",
       "      <td>KOSPI</td>\n",
       "      <td>AJ네트웍스</td>\n",
       "      <td>산업용 기계 및 장비 임대업</td>\n",
       "      <td>렌탈(파렛트, OA장비, 건설장비)</td>\n",
       "      <td>2015-08-21</td>\n",
       "      <td>12월</td>\n",
       "      <td>이현우</td>\n",
       "      <td>http://www.ajnet.co.kr</td>\n",
       "      <td>서울특별시</td>\n",
       "    </tr>\n",
       "    <tr>\n",
       "      <th>2</th>\n",
       "      <td>006840</td>\n",
       "      <td>KOSPI</td>\n",
       "      <td>AK홀딩스</td>\n",
       "      <td>기타 금융업</td>\n",
       "      <td>지주사업</td>\n",
       "      <td>1999-08-11</td>\n",
       "      <td>12월</td>\n",
       "      <td>채형석, 이석주(각자 대표이사)</td>\n",
       "      <td>http://www.aekyunggroup.co.kr</td>\n",
       "      <td>서울특별시</td>\n",
       "    </tr>\n",
       "    <tr>\n",
       "      <th>3</th>\n",
       "      <td>054620</td>\n",
       "      <td>KOSDAQ</td>\n",
       "      <td>APS홀딩스</td>\n",
       "      <td>기타 금융업</td>\n",
       "      <td>인터넷 트래픽 솔루션</td>\n",
       "      <td>2001-12-04</td>\n",
       "      <td>12월</td>\n",
       "      <td>정기로</td>\n",
       "      <td>http://www.apsholdings.co.kr</td>\n",
       "      <td>경기도</td>\n",
       "    </tr>\n",
       "    <tr>\n",
       "      <th>4</th>\n",
       "      <td>265520</td>\n",
       "      <td>KOSDAQ</td>\n",
       "      <td>AP시스템</td>\n",
       "      <td>특수 목적용 기계 제조업</td>\n",
       "      <td>디스플레이 제조 장비</td>\n",
       "      <td>2017-04-07</td>\n",
       "      <td>12월</td>\n",
       "      <td>김영주</td>\n",
       "      <td>http://www.apsystems.co.kr</td>\n",
       "      <td>경기도</td>\n",
       "    </tr>\n",
       "    <tr>\n",
       "      <th>...</th>\n",
       "      <td>...</td>\n",
       "      <td>...</td>\n",
       "      <td>...</td>\n",
       "      <td>...</td>\n",
       "      <td>...</td>\n",
       "      <td>...</td>\n",
       "      <td>...</td>\n",
       "      <td>...</td>\n",
       "      <td>...</td>\n",
       "      <td>...</td>\n",
       "    </tr>\n",
       "    <tr>\n",
       "      <th>7105</th>\n",
       "      <td>000547</td>\n",
       "      <td>KOSPI</td>\n",
       "      <td>흥국화재2우B</td>\n",
       "      <td>NaN</td>\n",
       "      <td>NaN</td>\n",
       "      <td>NaN</td>\n",
       "      <td>NaN</td>\n",
       "      <td>NaN</td>\n",
       "      <td>NaN</td>\n",
       "      <td>NaN</td>\n",
       "    </tr>\n",
       "    <tr>\n",
       "      <th>7106</th>\n",
       "      <td>000545</td>\n",
       "      <td>KOSPI</td>\n",
       "      <td>흥국화재우</td>\n",
       "      <td>NaN</td>\n",
       "      <td>NaN</td>\n",
       "      <td>NaN</td>\n",
       "      <td>NaN</td>\n",
       "      <td>NaN</td>\n",
       "      <td>NaN</td>\n",
       "      <td>NaN</td>\n",
       "    </tr>\n",
       "    <tr>\n",
       "      <th>7107</th>\n",
       "      <td>003280</td>\n",
       "      <td>KOSPI</td>\n",
       "      <td>흥아해운</td>\n",
       "      <td>해상 운송업</td>\n",
       "      <td>외항화물운송업(케미컬탱커)</td>\n",
       "      <td>1976-06-29</td>\n",
       "      <td>12월</td>\n",
       "      <td>이환구</td>\n",
       "      <td>http://www.heung-a.com</td>\n",
       "      <td>서울특별시</td>\n",
       "    </tr>\n",
       "    <tr>\n",
       "      <th>7108</th>\n",
       "      <td>037440</td>\n",
       "      <td>KOSDAQ</td>\n",
       "      <td>희림</td>\n",
       "      <td>건축기술, 엔지니어링 및 관련 기술 서비스업</td>\n",
       "      <td>설계 및 감리용역</td>\n",
       "      <td>2000-02-03</td>\n",
       "      <td>12월</td>\n",
       "      <td>정영균, 이목운, 허철호, 염두성 (각자대표)</td>\n",
       "      <td>http://www.heerim.com</td>\n",
       "      <td>서울특별시</td>\n",
       "    </tr>\n",
       "    <tr>\n",
       "      <th>7109</th>\n",
       "      <td>238490</td>\n",
       "      <td>KOSDAQ</td>\n",
       "      <td>힘스</td>\n",
       "      <td>특수 목적용 기계 제조업</td>\n",
       "      <td>OLED Mask 인장기, OLED Mask 검사기 등</td>\n",
       "      <td>2017-07-20</td>\n",
       "      <td>12월</td>\n",
       "      <td>김주환</td>\n",
       "      <td>http://www.hims.co.kr</td>\n",
       "      <td>인천광역시</td>\n",
       "    </tr>\n",
       "  </tbody>\n",
       "</table>\n",
       "<p>7110 rows × 10 columns</p>\n",
       "</div>"
      ],
      "text/plain": [
       "      Symbol  Market     Name                    Sector  \\\n",
       "0     060310  KOSDAQ       3S             특수 목적용 기계 제조업   \n",
       "1     095570   KOSPI   AJ네트웍스           산업용 기계 및 장비 임대업   \n",
       "2     006840   KOSPI    AK홀딩스                    기타 금융업   \n",
       "3     054620  KOSDAQ   APS홀딩스                    기타 금융업   \n",
       "4     265520  KOSDAQ    AP시스템             특수 목적용 기계 제조업   \n",
       "...      ...     ...      ...                       ...   \n",
       "7105  000547   KOSPI  흥국화재2우B                       NaN   \n",
       "7106  000545   KOSPI    흥국화재우                       NaN   \n",
       "7107  003280   KOSPI     흥아해운                    해상 운송업   \n",
       "7108  037440  KOSDAQ       희림  건축기술, 엔지니어링 및 관련 기술 서비스업   \n",
       "7109  238490  KOSDAQ       힘스             특수 목적용 기계 제조업   \n",
       "\n",
       "                            Industry ListingDate SettleMonth  \\\n",
       "0                        반도체 웨이퍼 캐리어  2002-04-23         03월   \n",
       "1                렌탈(파렛트, OA장비, 건설장비)  2015-08-21         12월   \n",
       "2                               지주사업  1999-08-11         12월   \n",
       "3                        인터넷 트래픽 솔루션  2001-12-04         12월   \n",
       "4                        디스플레이 제조 장비  2017-04-07         12월   \n",
       "...                              ...         ...         ...   \n",
       "7105                             NaN         NaN         NaN   \n",
       "7106                             NaN         NaN         NaN   \n",
       "7107                  외항화물운송업(케미컬탱커)  1976-06-29         12월   \n",
       "7108                       설계 및 감리용역  2000-02-03         12월   \n",
       "7109  OLED Mask 인장기, OLED Mask 검사기 등  2017-07-20         12월   \n",
       "\n",
       "                 Representative                       HomePage Region  \n",
       "0            박종익, 김세완 (각자 대표이사)           http://www.3sref.com  서울특별시  \n",
       "1                           이현우         http://www.ajnet.co.kr  서울특별시  \n",
       "2             채형석, 이석주(각자 대표이사)  http://www.aekyunggroup.co.kr  서울특별시  \n",
       "3                           정기로   http://www.apsholdings.co.kr    경기도  \n",
       "4                           김영주     http://www.apsystems.co.kr    경기도  \n",
       "...                         ...                            ...    ...  \n",
       "7105                        NaN                            NaN    NaN  \n",
       "7106                        NaN                            NaN    NaN  \n",
       "7107                        이환구         http://www.heung-a.com  서울특별시  \n",
       "7108  정영균, 이목운, 허철호, 염두성 (각자대표)          http://www.heerim.com  서울특별시  \n",
       "7109                        김주환          http://www.hims.co.kr  인천광역시  \n",
       "\n",
       "[7110 rows x 10 columns]"
      ]
     },
     "execution_count": 10,
     "metadata": {},
     "output_type": "execute_result"
    }
   ],
   "source": [
    "pd.read_csv(\"krx.csv\")"
   ]
  },
  {
   "cell_type": "markdown",
   "id": "experienced-madonna",
   "metadata": {
    "heading_collapsed": true
   },
   "source": [
    "# 2강"
   ]
  },
  {
   "cell_type": "code",
   "execution_count": 11,
   "id": "happy-error",
   "metadata": {
    "ExecuteTime": {
     "end_time": "2021-02-06T04:45:21.691304Z",
     "start_time": "2021-02-06T04:45:20.776601Z"
    },
    "hidden": true
   },
   "outputs": [],
   "source": [
    "import seaborn as sns\n",
    "import pandas as pd\n",
    "import numpy as np"
   ]
  },
  {
   "cell_type": "markdown",
   "id": "hidden-wichita",
   "metadata": {
    "hidden": true
   },
   "source": [
    "## 4. FinanceDataReader 로 수집한 전체 종목 불러오기"
   ]
  },
  {
   "cell_type": "code",
   "execution_count": 12,
   "id": "wrapped-rapid",
   "metadata": {
    "ExecuteTime": {
     "end_time": "2021-02-06T04:45:21.721331Z",
     "start_time": "2021-02-06T04:45:21.692304Z"
    },
    "hidden": true
   },
   "outputs": [
    {
     "data": {
      "text/html": [
       "<div>\n",
       "<style scoped>\n",
       "    .dataframe tbody tr th:only-of-type {\n",
       "        vertical-align: middle;\n",
       "    }\n",
       "\n",
       "    .dataframe tbody tr th {\n",
       "        vertical-align: top;\n",
       "    }\n",
       "\n",
       "    .dataframe thead th {\n",
       "        text-align: right;\n",
       "    }\n",
       "</style>\n",
       "<table border=\"1\" class=\"dataframe\">\n",
       "  <thead>\n",
       "    <tr style=\"text-align: right;\">\n",
       "      <th></th>\n",
       "      <th>Symbol</th>\n",
       "      <th>Market</th>\n",
       "      <th>Name</th>\n",
       "      <th>Sector</th>\n",
       "      <th>Industry</th>\n",
       "      <th>ListingDate</th>\n",
       "      <th>SettleMonth</th>\n",
       "      <th>Representative</th>\n",
       "      <th>HomePage</th>\n",
       "      <th>Region</th>\n",
       "    </tr>\n",
       "  </thead>\n",
       "  <tbody>\n",
       "    <tr>\n",
       "      <th>0</th>\n",
       "      <td>060310</td>\n",
       "      <td>KOSDAQ</td>\n",
       "      <td>3S</td>\n",
       "      <td>특수 목적용 기계 제조업</td>\n",
       "      <td>반도체 웨이퍼 캐리어</td>\n",
       "      <td>2002-04-23</td>\n",
       "      <td>03월</td>\n",
       "      <td>박종익, 김세완 (각자 대표이사)</td>\n",
       "      <td>http://www.3sref.com</td>\n",
       "      <td>서울특별시</td>\n",
       "    </tr>\n",
       "    <tr>\n",
       "      <th>1</th>\n",
       "      <td>095570</td>\n",
       "      <td>KOSPI</td>\n",
       "      <td>AJ네트웍스</td>\n",
       "      <td>산업용 기계 및 장비 임대업</td>\n",
       "      <td>렌탈(파렛트, OA장비, 건설장비)</td>\n",
       "      <td>2015-08-21</td>\n",
       "      <td>12월</td>\n",
       "      <td>이현우</td>\n",
       "      <td>http://www.ajnet.co.kr</td>\n",
       "      <td>서울특별시</td>\n",
       "    </tr>\n",
       "    <tr>\n",
       "      <th>2</th>\n",
       "      <td>006840</td>\n",
       "      <td>KOSPI</td>\n",
       "      <td>AK홀딩스</td>\n",
       "      <td>기타 금융업</td>\n",
       "      <td>지주사업</td>\n",
       "      <td>1999-08-11</td>\n",
       "      <td>12월</td>\n",
       "      <td>채형석, 이석주(각자 대표이사)</td>\n",
       "      <td>http://www.aekyunggroup.co.kr</td>\n",
       "      <td>서울특별시</td>\n",
       "    </tr>\n",
       "    <tr>\n",
       "      <th>3</th>\n",
       "      <td>054620</td>\n",
       "      <td>KOSDAQ</td>\n",
       "      <td>APS홀딩스</td>\n",
       "      <td>기타 금융업</td>\n",
       "      <td>인터넷 트래픽 솔루션</td>\n",
       "      <td>2001-12-04</td>\n",
       "      <td>12월</td>\n",
       "      <td>정기로</td>\n",
       "      <td>http://www.apsholdings.co.kr</td>\n",
       "      <td>경기도</td>\n",
       "    </tr>\n",
       "    <tr>\n",
       "      <th>4</th>\n",
       "      <td>265520</td>\n",
       "      <td>KOSDAQ</td>\n",
       "      <td>AP시스템</td>\n",
       "      <td>특수 목적용 기계 제조업</td>\n",
       "      <td>디스플레이 제조 장비</td>\n",
       "      <td>2017-04-07</td>\n",
       "      <td>12월</td>\n",
       "      <td>김영주</td>\n",
       "      <td>http://www.apsystems.co.kr</td>\n",
       "      <td>경기도</td>\n",
       "    </tr>\n",
       "  </tbody>\n",
       "</table>\n",
       "</div>"
      ],
      "text/plain": [
       "   Symbol  Market    Name           Sector             Industry ListingDate  \\\n",
       "0  060310  KOSDAQ      3S    특수 목적용 기계 제조업          반도체 웨이퍼 캐리어  2002-04-23   \n",
       "1  095570   KOSPI  AJ네트웍스  산업용 기계 및 장비 임대업  렌탈(파렛트, OA장비, 건설장비)  2015-08-21   \n",
       "2  006840   KOSPI   AK홀딩스           기타 금융업                 지주사업  1999-08-11   \n",
       "3  054620  KOSDAQ  APS홀딩스           기타 금융업          인터넷 트래픽 솔루션  2001-12-04   \n",
       "4  265520  KOSDAQ   AP시스템    특수 목적용 기계 제조업          디스플레이 제조 장비  2017-04-07   \n",
       "\n",
       "  SettleMonth      Representative                       HomePage Region  \n",
       "0         03월  박종익, 김세완 (각자 대표이사)           http://www.3sref.com  서울특별시  \n",
       "1         12월                 이현우         http://www.ajnet.co.kr  서울특별시  \n",
       "2         12월   채형석, 이석주(각자 대표이사)  http://www.aekyunggroup.co.kr  서울특별시  \n",
       "3         12월                 정기로   http://www.apsholdings.co.kr    경기도  \n",
       "4         12월                 김영주     http://www.apsystems.co.kr    경기도  "
      ]
     },
     "execution_count": 12,
     "metadata": {},
     "output_type": "execute_result"
    }
   ],
   "source": [
    "df = pd.read_csv(\"krx.csv\")\n",
    "df.head()"
   ]
  },
  {
   "cell_type": "code",
   "execution_count": 13,
   "id": "manufactured-effectiveness",
   "metadata": {
    "ExecuteTime": {
     "end_time": "2021-02-06T04:45:21.736345Z",
     "start_time": "2021-02-06T04:45:21.722332Z"
    },
    "hidden": true
   },
   "outputs": [
    {
     "data": {
      "text/plain": [
       "(7110, 10)"
      ]
     },
     "execution_count": 13,
     "metadata": {},
     "output_type": "execute_result"
    }
   ],
   "source": [
    "df.shape"
   ]
  },
  {
   "cell_type": "code",
   "execution_count": 14,
   "id": "animal-humanity",
   "metadata": {
    "ExecuteTime": {
     "end_time": "2021-02-06T04:45:21.751358Z",
     "start_time": "2021-02-06T04:45:21.737345Z"
    },
    "hidden": true
   },
   "outputs": [
    {
     "data": {
      "text/html": [
       "<div>\n",
       "<style scoped>\n",
       "    .dataframe tbody tr th:only-of-type {\n",
       "        vertical-align: middle;\n",
       "    }\n",
       "\n",
       "    .dataframe tbody tr th {\n",
       "        vertical-align: top;\n",
       "    }\n",
       "\n",
       "    .dataframe thead th {\n",
       "        text-align: right;\n",
       "    }\n",
       "</style>\n",
       "<table border=\"1\" class=\"dataframe\">\n",
       "  <thead>\n",
       "    <tr style=\"text-align: right;\">\n",
       "      <th></th>\n",
       "      <th>Symbol</th>\n",
       "      <th>Market</th>\n",
       "      <th>Name</th>\n",
       "      <th>Sector</th>\n",
       "      <th>Industry</th>\n",
       "      <th>ListingDate</th>\n",
       "      <th>SettleMonth</th>\n",
       "      <th>Representative</th>\n",
       "      <th>HomePage</th>\n",
       "      <th>Region</th>\n",
       "    </tr>\n",
       "  </thead>\n",
       "  <tbody>\n",
       "    <tr>\n",
       "      <th>2321</th>\n",
       "      <td>017900</td>\n",
       "      <td>KOSPI</td>\n",
       "      <td>광전자</td>\n",
       "      <td>반도체 제조업</td>\n",
       "      <td>트랜지스터,SMD TR,발광소자,리모콘모듈,발광다이오드(L.E.D),다이오드용웨이퍼...</td>\n",
       "      <td>1996-10-16</td>\n",
       "      <td>12월</td>\n",
       "      <td>이석렬</td>\n",
       "      <td>http://www.auk.co.kr</td>\n",
       "      <td>전라북도</td>\n",
       "    </tr>\n",
       "    <tr>\n",
       "      <th>6042</th>\n",
       "      <td>57FT93</td>\n",
       "      <td>KOSPI</td>\n",
       "      <td>한국FT93LG생건콜</td>\n",
       "      <td>NaN</td>\n",
       "      <td>NaN</td>\n",
       "      <td>NaN</td>\n",
       "      <td>NaN</td>\n",
       "      <td>NaN</td>\n",
       "      <td>NaN</td>\n",
       "      <td>NaN</td>\n",
       "    </tr>\n",
       "    <tr>\n",
       "      <th>3449</th>\n",
       "      <td>52G088</td>\n",
       "      <td>KOSPI</td>\n",
       "      <td>미래G088KOSPI200콜</td>\n",
       "      <td>NaN</td>\n",
       "      <td>NaN</td>\n",
       "      <td>NaN</td>\n",
       "      <td>NaN</td>\n",
       "      <td>NaN</td>\n",
       "      <td>NaN</td>\n",
       "      <td>NaN</td>\n",
       "    </tr>\n",
       "    <tr>\n",
       "      <th>6939</th>\n",
       "      <td>010420</td>\n",
       "      <td>KOSPI</td>\n",
       "      <td>한솔PNS</td>\n",
       "      <td>기타 전문 도매업</td>\n",
       "      <td>정보시스템구축 및 유지보수, 포장재제조 및 가공, 지류가공 및 판매</td>\n",
       "      <td>1989-05-31</td>\n",
       "      <td>12월</td>\n",
       "      <td>강준석</td>\n",
       "      <td>http://www.hansolpns.com</td>\n",
       "      <td>서울특별시</td>\n",
       "    </tr>\n",
       "    <tr>\n",
       "      <th>1587</th>\n",
       "      <td>316670</td>\n",
       "      <td>KOSPI</td>\n",
       "      <td>KOSEF 코스닥150</td>\n",
       "      <td>NaN</td>\n",
       "      <td>NaN</td>\n",
       "      <td>NaN</td>\n",
       "      <td>NaN</td>\n",
       "      <td>NaN</td>\n",
       "      <td>NaN</td>\n",
       "      <td>NaN</td>\n",
       "    </tr>\n",
       "  </tbody>\n",
       "</table>\n",
       "</div>"
      ],
      "text/plain": [
       "      Symbol Market             Name     Sector  \\\n",
       "2321  017900  KOSPI              광전자    반도체 제조업   \n",
       "6042  57FT93  KOSPI      한국FT93LG생건콜        NaN   \n",
       "3449  52G088  KOSPI  미래G088KOSPI200콜        NaN   \n",
       "6939  010420  KOSPI            한솔PNS  기타 전문 도매업   \n",
       "1587  316670  KOSPI     KOSEF 코스닥150        NaN   \n",
       "\n",
       "                                               Industry ListingDate  \\\n",
       "2321  트랜지스터,SMD TR,발광소자,리모콘모듈,발광다이오드(L.E.D),다이오드용웨이퍼...  1996-10-16   \n",
       "6042                                                NaN         NaN   \n",
       "3449                                                NaN         NaN   \n",
       "6939              정보시스템구축 및 유지보수, 포장재제조 및 가공, 지류가공 및 판매  1989-05-31   \n",
       "1587                                                NaN         NaN   \n",
       "\n",
       "     SettleMonth Representative                  HomePage Region  \n",
       "2321         12월            이석렬      http://www.auk.co.kr   전라북도  \n",
       "6042         NaN            NaN                       NaN    NaN  \n",
       "3449         NaN            NaN                       NaN    NaN  \n",
       "6939         12월            강준석  http://www.hansolpns.com  서울특별시  \n",
       "1587         NaN            NaN                       NaN    NaN  "
      ]
     },
     "execution_count": 14,
     "metadata": {},
     "output_type": "execute_result"
    }
   ],
   "source": [
    "df.sample(5)"
   ]
  },
  {
   "cell_type": "markdown",
   "id": "indonesian-fisher",
   "metadata": {
    "heading_collapsed": true
   },
   "source": [
    "# 3강"
   ]
  },
  {
   "cell_type": "code",
   "execution_count": 15,
   "id": "induced-municipality",
   "metadata": {
    "ExecuteTime": {
     "end_time": "2021-02-06T04:45:21.766372Z",
     "start_time": "2021-02-06T04:45:21.752359Z"
    },
    "hidden": true
   },
   "outputs": [
    {
     "name": "stdout",
     "output_type": "stream",
     "text": [
      "<class 'pandas.core.frame.DataFrame'>\n",
      "RangeIndex: 7110 entries, 0 to 7109\n",
      "Data columns (total 10 columns):\n",
      " #   Column          Non-Null Count  Dtype \n",
      "---  ------          --------------  ----- \n",
      " 0   Symbol          7110 non-null   object\n",
      " 1   Market          7110 non-null   object\n",
      " 2   Name            7110 non-null   object\n",
      " 3   Sector          2422 non-null   object\n",
      " 4   Industry        2403 non-null   object\n",
      " 5   ListingDate     2422 non-null   object\n",
      " 6   SettleMonth     2422 non-null   object\n",
      " 7   Representative  2422 non-null   object\n",
      " 8   HomePage        2247 non-null   object\n",
      " 9   Region          2422 non-null   object\n",
      "dtypes: object(10)\n",
      "memory usage: 555.6+ KB\n"
     ]
    }
   ],
   "source": [
    "df.info()"
   ]
  },
  {
   "cell_type": "code",
   "execution_count": 16,
   "id": "foreign-festival",
   "metadata": {
    "ExecuteTime": {
     "end_time": "2021-02-06T04:45:21.796398Z",
     "start_time": "2021-02-06T04:45:21.767373Z"
    },
    "hidden": true
   },
   "outputs": [
    {
     "data": {
      "text/html": [
       "<div>\n",
       "<style scoped>\n",
       "    .dataframe tbody tr th:only-of-type {\n",
       "        vertical-align: middle;\n",
       "    }\n",
       "\n",
       "    .dataframe tbody tr th {\n",
       "        vertical-align: top;\n",
       "    }\n",
       "\n",
       "    .dataframe thead th {\n",
       "        text-align: right;\n",
       "    }\n",
       "</style>\n",
       "<table border=\"1\" class=\"dataframe\">\n",
       "  <thead>\n",
       "    <tr style=\"text-align: right;\">\n",
       "      <th></th>\n",
       "      <th>Symbol</th>\n",
       "      <th>Market</th>\n",
       "      <th>Name</th>\n",
       "      <th>Sector</th>\n",
       "      <th>Industry</th>\n",
       "      <th>ListingDate</th>\n",
       "      <th>SettleMonth</th>\n",
       "      <th>Representative</th>\n",
       "      <th>HomePage</th>\n",
       "      <th>Region</th>\n",
       "    </tr>\n",
       "  </thead>\n",
       "  <tbody>\n",
       "    <tr>\n",
       "      <th>count</th>\n",
       "      <td>7110</td>\n",
       "      <td>7110</td>\n",
       "      <td>7110</td>\n",
       "      <td>2422</td>\n",
       "      <td>2403</td>\n",
       "      <td>2422</td>\n",
       "      <td>2422</td>\n",
       "      <td>2422</td>\n",
       "      <td>2247</td>\n",
       "      <td>2422</td>\n",
       "    </tr>\n",
       "    <tr>\n",
       "      <th>unique</th>\n",
       "      <td>7110</td>\n",
       "      <td>3</td>\n",
       "      <td>7110</td>\n",
       "      <td>158</td>\n",
       "      <td>2251</td>\n",
       "      <td>1784</td>\n",
       "      <td>9</td>\n",
       "      <td>2307</td>\n",
       "      <td>2226</td>\n",
       "      <td>22</td>\n",
       "    </tr>\n",
       "    <tr>\n",
       "      <th>top</th>\n",
       "      <td>58G291</td>\n",
       "      <td>KOSPI</td>\n",
       "      <td>TIGER 원유선물Enhanced(H)</td>\n",
       "      <td>특수 목적용 기계 제조업</td>\n",
       "      <td>기업인수합병</td>\n",
       "      <td>1996-07-03</td>\n",
       "      <td>12월</td>\n",
       "      <td>-</td>\n",
       "      <td>http://www.sempio.com</td>\n",
       "      <td>서울특별시</td>\n",
       "    </tr>\n",
       "    <tr>\n",
       "      <th>freq</th>\n",
       "      <td>1</td>\n",
       "      <td>5464</td>\n",
       "      <td>1</td>\n",
       "      <td>142</td>\n",
       "      <td>36</td>\n",
       "      <td>8</td>\n",
       "      <td>2361</td>\n",
       "      <td>5</td>\n",
       "      <td>2</td>\n",
       "      <td>977</td>\n",
       "    </tr>\n",
       "  </tbody>\n",
       "</table>\n",
       "</div>"
      ],
      "text/plain": [
       "        Symbol Market                   Name         Sector Industry  \\\n",
       "count     7110   7110                   7110           2422     2403   \n",
       "unique    7110      3                   7110            158     2251   \n",
       "top     58G291  KOSPI  TIGER 원유선물Enhanced(H)  특수 목적용 기계 제조업   기업인수합병   \n",
       "freq         1   5464                      1            142       36   \n",
       "\n",
       "       ListingDate SettleMonth Representative               HomePage Region  \n",
       "count         2422        2422           2422                   2247   2422  \n",
       "unique        1784           9           2307                   2226     22  \n",
       "top     1996-07-03         12월              -  http://www.sempio.com  서울특별시  \n",
       "freq             8        2361              5                      2    977  "
      ]
     },
     "execution_count": 16,
     "metadata": {},
     "output_type": "execute_result"
    }
   ],
   "source": [
    "df.describe()"
   ]
  },
  {
   "cell_type": "code",
   "execution_count": 17,
   "id": "floppy-reputation",
   "metadata": {
    "ExecuteTime": {
     "end_time": "2021-02-06T04:45:21.811413Z",
     "start_time": "2021-02-06T04:45:21.797400Z"
    },
    "hidden": true
   },
   "outputs": [
    {
     "data": {
      "text/plain": [
       "Symbol            7110\n",
       "Market               3\n",
       "Name              7110\n",
       "Sector             158\n",
       "Industry          2251\n",
       "ListingDate       1784\n",
       "SettleMonth          9\n",
       "Representative    2307\n",
       "HomePage          2226\n",
       "Region              22\n",
       "dtype: int64"
      ]
     },
     "execution_count": 17,
     "metadata": {},
     "output_type": "execute_result"
    }
   ],
   "source": [
    "# 중복을 제외한 unique 값의 갯수를 봅니다.\n",
    "df.nunique()"
   ]
  },
  {
   "cell_type": "code",
   "execution_count": 18,
   "id": "virtual-solution",
   "metadata": {
    "ExecuteTime": {
     "end_time": "2021-02-06T04:45:21.826426Z",
     "start_time": "2021-02-06T04:45:21.812413Z"
    },
    "hidden": true
   },
   "outputs": [
    {
     "data": {
      "text/plain": [
       "RangeIndex(start=0, stop=7110, step=1)"
      ]
     },
     "execution_count": 18,
     "metadata": {},
     "output_type": "execute_result"
    }
   ],
   "source": [
    "# index\n",
    "df.index"
   ]
  },
  {
   "cell_type": "code",
   "execution_count": 19,
   "id": "intimate-bradley",
   "metadata": {
    "ExecuteTime": {
     "end_time": "2021-02-06T04:45:21.841716Z",
     "start_time": "2021-02-06T04:45:21.827427Z"
    },
    "hidden": true
   },
   "outputs": [
    {
     "data": {
      "text/plain": [
       "Index(['Symbol', 'Market', 'Name', 'Sector', 'Industry', 'ListingDate',\n",
       "       'SettleMonth', 'Representative', 'HomePage', 'Region'],\n",
       "      dtype='object')"
      ]
     },
     "execution_count": 19,
     "metadata": {},
     "output_type": "execute_result"
    }
   ],
   "source": [
    "# column  값 보기\n",
    "df.columns"
   ]
  },
  {
   "cell_type": "code",
   "execution_count": 20,
   "id": "sought-airport",
   "metadata": {
    "ExecuteTime": {
     "end_time": "2021-02-06T04:45:21.856730Z",
     "start_time": "2021-02-06T04:45:21.842717Z"
    },
    "hidden": true
   },
   "outputs": [
    {
     "data": {
      "text/plain": [
       "array([['060310', 'KOSDAQ', '3S', ..., '박종익, 김세완 (각자 대표이사)',\n",
       "        'http://www.3sref.com', '서울특별시'],\n",
       "       ['095570', 'KOSPI', 'AJ네트웍스', ..., '이현우',\n",
       "        'http://www.ajnet.co.kr', '서울특별시'],\n",
       "       ['006840', 'KOSPI', 'AK홀딩스', ..., '채형석, 이석주(각자 대표이사)',\n",
       "        'http://www.aekyunggroup.co.kr', '서울특별시'],\n",
       "       ...,\n",
       "       ['003280', 'KOSPI', '흥아해운', ..., '이환구', 'http://www.heung-a.com',\n",
       "        '서울특별시'],\n",
       "       ['037440', 'KOSDAQ', '희림', ..., '정영균, 이목운, 허철호, 염두성 (각자대표)',\n",
       "        'http://www.heerim.com', '서울특별시'],\n",
       "       ['238490', 'KOSDAQ', '힘스', ..., '김주환', 'http://www.hims.co.kr',\n",
       "        '인천광역시']], dtype=object)"
      ]
     },
     "execution_count": 20,
     "metadata": {},
     "output_type": "execute_result"
    }
   ],
   "source": [
    "# 값만보기\n",
    "df.values"
   ]
  },
  {
   "cell_type": "markdown",
   "id": "numeric-relaxation",
   "metadata": {
    "heading_collapsed": true
   },
   "source": [
    "# 5강"
   ]
  },
  {
   "cell_type": "code",
   "execution_count": 21,
   "id": "religious-perception",
   "metadata": {
    "ExecuteTime": {
     "end_time": "2021-02-06T04:45:21.871744Z",
     "start_time": "2021-02-06T04:45:21.857731Z"
    },
    "hidden": true
   },
   "outputs": [
    {
     "data": {
      "text/plain": [
       "0            3S\n",
       "1        AJ네트웍스\n",
       "2         AK홀딩스\n",
       "3        APS홀딩스\n",
       "4         AP시스템\n",
       "         ...   \n",
       "7105    흥국화재2우B\n",
       "7106      흥국화재우\n",
       "7107       흥아해운\n",
       "7108         희림\n",
       "7109         힘스\n",
       "Name: Name, Length: 7110, dtype: object"
      ]
     },
     "execution_count": 21,
     "metadata": {},
     "output_type": "execute_result"
    }
   ],
   "source": [
    "df[\"Name\"]"
   ]
  },
  {
   "cell_type": "code",
   "execution_count": 22,
   "id": "expressed-fruit",
   "metadata": {
    "ExecuteTime": {
     "end_time": "2021-02-06T04:45:21.887332Z",
     "start_time": "2021-02-06T04:45:21.872744Z"
    },
    "hidden": true
   },
   "outputs": [
    {
     "data": {
      "text/plain": [
       "pandas.core.series.Series"
      ]
     },
     "execution_count": 22,
     "metadata": {},
     "output_type": "execute_result"
    }
   ],
   "source": [
    "type(df[\"Name\"])"
   ]
  },
  {
   "cell_type": "code",
   "execution_count": 23,
   "id": "dynamic-piano",
   "metadata": {
    "ExecuteTime": {
     "end_time": "2021-02-06T04:45:21.902345Z",
     "start_time": "2021-02-06T04:45:21.888332Z"
    },
    "hidden": true
   },
   "outputs": [
    {
     "data": {
      "text/html": [
       "<div>\n",
       "<style scoped>\n",
       "    .dataframe tbody tr th:only-of-type {\n",
       "        vertical-align: middle;\n",
       "    }\n",
       "\n",
       "    .dataframe tbody tr th {\n",
       "        vertical-align: top;\n",
       "    }\n",
       "\n",
       "    .dataframe thead th {\n",
       "        text-align: right;\n",
       "    }\n",
       "</style>\n",
       "<table border=\"1\" class=\"dataframe\">\n",
       "  <thead>\n",
       "    <tr style=\"text-align: right;\">\n",
       "      <th></th>\n",
       "      <th>Symbol</th>\n",
       "      <th>Market</th>\n",
       "      <th>Name</th>\n",
       "      <th>Sector</th>\n",
       "      <th>Industry</th>\n",
       "      <th>ListingDate</th>\n",
       "      <th>SettleMonth</th>\n",
       "      <th>Representative</th>\n",
       "      <th>HomePage</th>\n",
       "      <th>Region</th>\n",
       "    </tr>\n",
       "  </thead>\n",
       "  <tbody>\n",
       "    <tr>\n",
       "      <th>0</th>\n",
       "      <td>060310</td>\n",
       "      <td>KOSDAQ</td>\n",
       "      <td>3S</td>\n",
       "      <td>특수 목적용 기계 제조업</td>\n",
       "      <td>반도체 웨이퍼 캐리어</td>\n",
       "      <td>2002-04-23</td>\n",
       "      <td>03월</td>\n",
       "      <td>박종익, 김세완 (각자 대표이사)</td>\n",
       "      <td>http://www.3sref.com</td>\n",
       "      <td>서울특별시</td>\n",
       "    </tr>\n",
       "    <tr>\n",
       "      <th>1</th>\n",
       "      <td>095570</td>\n",
       "      <td>KOSPI</td>\n",
       "      <td>AJ네트웍스</td>\n",
       "      <td>산업용 기계 및 장비 임대업</td>\n",
       "      <td>렌탈(파렛트, OA장비, 건설장비)</td>\n",
       "      <td>2015-08-21</td>\n",
       "      <td>12월</td>\n",
       "      <td>이현우</td>\n",
       "      <td>http://www.ajnet.co.kr</td>\n",
       "      <td>서울특별시</td>\n",
       "    </tr>\n",
       "    <tr>\n",
       "      <th>2</th>\n",
       "      <td>006840</td>\n",
       "      <td>KOSPI</td>\n",
       "      <td>AK홀딩스</td>\n",
       "      <td>기타 금융업</td>\n",
       "      <td>지주사업</td>\n",
       "      <td>1999-08-11</td>\n",
       "      <td>12월</td>\n",
       "      <td>채형석, 이석주(각자 대표이사)</td>\n",
       "      <td>http://www.aekyunggroup.co.kr</td>\n",
       "      <td>서울특별시</td>\n",
       "    </tr>\n",
       "    <tr>\n",
       "      <th>3</th>\n",
       "      <td>054620</td>\n",
       "      <td>KOSDAQ</td>\n",
       "      <td>APS홀딩스</td>\n",
       "      <td>기타 금융업</td>\n",
       "      <td>인터넷 트래픽 솔루션</td>\n",
       "      <td>2001-12-04</td>\n",
       "      <td>12월</td>\n",
       "      <td>정기로</td>\n",
       "      <td>http://www.apsholdings.co.kr</td>\n",
       "      <td>경기도</td>\n",
       "    </tr>\n",
       "    <tr>\n",
       "      <th>4</th>\n",
       "      <td>265520</td>\n",
       "      <td>KOSDAQ</td>\n",
       "      <td>AP시스템</td>\n",
       "      <td>특수 목적용 기계 제조업</td>\n",
       "      <td>디스플레이 제조 장비</td>\n",
       "      <td>2017-04-07</td>\n",
       "      <td>12월</td>\n",
       "      <td>김영주</td>\n",
       "      <td>http://www.apsystems.co.kr</td>\n",
       "      <td>경기도</td>\n",
       "    </tr>\n",
       "  </tbody>\n",
       "</table>\n",
       "</div>"
      ],
      "text/plain": [
       "   Symbol  Market    Name           Sector             Industry ListingDate  \\\n",
       "0  060310  KOSDAQ      3S    특수 목적용 기계 제조업          반도체 웨이퍼 캐리어  2002-04-23   \n",
       "1  095570   KOSPI  AJ네트웍스  산업용 기계 및 장비 임대업  렌탈(파렛트, OA장비, 건설장비)  2015-08-21   \n",
       "2  006840   KOSPI   AK홀딩스           기타 금융업                 지주사업  1999-08-11   \n",
       "3  054620  KOSDAQ  APS홀딩스           기타 금융업          인터넷 트래픽 솔루션  2001-12-04   \n",
       "4  265520  KOSDAQ   AP시스템    특수 목적용 기계 제조업          디스플레이 제조 장비  2017-04-07   \n",
       "\n",
       "  SettleMonth      Representative                       HomePage Region  \n",
       "0         03월  박종익, 김세완 (각자 대표이사)           http://www.3sref.com  서울특별시  \n",
       "1         12월                 이현우         http://www.ajnet.co.kr  서울특별시  \n",
       "2         12월   채형석, 이석주(각자 대표이사)  http://www.aekyunggroup.co.kr  서울특별시  \n",
       "3         12월                 정기로   http://www.apsholdings.co.kr    경기도  \n",
       "4         12월                 김영주     http://www.apsystems.co.kr    경기도  "
      ]
     },
     "execution_count": 23,
     "metadata": {},
     "output_type": "execute_result"
    }
   ],
   "source": [
    "df.head()"
   ]
  },
  {
   "cell_type": "code",
   "execution_count": 24,
   "id": "stone-authorization",
   "metadata": {
    "ExecuteTime": {
     "end_time": "2021-02-06T04:45:21.917359Z",
     "start_time": "2021-02-06T04:45:21.903346Z"
    },
    "hidden": true
   },
   "outputs": [
    {
     "data": {
      "text/plain": [
       "Symbol                          060310\n",
       "Market                          KOSDAQ\n",
       "Name                                3S\n",
       "Sector                   특수 목적용 기계 제조업\n",
       "Industry                   반도체 웨이퍼 캐리어\n",
       "ListingDate                 2002-04-23\n",
       "SettleMonth                        03월\n",
       "Representative      박종익, 김세완 (각자 대표이사)\n",
       "HomePage          http://www.3sref.com\n",
       "Region                           서울특별시\n",
       "Name: 0, dtype: object"
      ]
     },
     "execution_count": 24,
     "metadata": {},
     "output_type": "execute_result"
    }
   ],
   "source": [
    "df.loc[0]"
   ]
  },
  {
   "cell_type": "code",
   "execution_count": 25,
   "id": "bronze-companion",
   "metadata": {
    "ExecuteTime": {
     "end_time": "2021-02-06T04:45:21.932372Z",
     "start_time": "2021-02-06T04:45:21.918360Z"
    },
    "hidden": true
   },
   "outputs": [
    {
     "data": {
      "text/plain": [
       "pandas.core.series.Series"
      ]
     },
     "execution_count": 25,
     "metadata": {},
     "output_type": "execute_result"
    }
   ],
   "source": [
    "type(df.loc[0])"
   ]
  },
  {
   "cell_type": "code",
   "execution_count": 26,
   "id": "spread-bolivia",
   "metadata": {
    "ExecuteTime": {
     "end_time": "2021-02-06T04:45:21.947386Z",
     "start_time": "2021-02-06T04:45:21.933374Z"
    },
    "hidden": true
   },
   "outputs": [
    {
     "data": {
      "text/html": [
       "<div>\n",
       "<style scoped>\n",
       "    .dataframe tbody tr th:only-of-type {\n",
       "        vertical-align: middle;\n",
       "    }\n",
       "\n",
       "    .dataframe tbody tr th {\n",
       "        vertical-align: top;\n",
       "    }\n",
       "\n",
       "    .dataframe thead th {\n",
       "        text-align: right;\n",
       "    }\n",
       "</style>\n",
       "<table border=\"1\" class=\"dataframe\">\n",
       "  <thead>\n",
       "    <tr style=\"text-align: right;\">\n",
       "      <th></th>\n",
       "      <th>Name</th>\n",
       "      <th>Symbol</th>\n",
       "    </tr>\n",
       "  </thead>\n",
       "  <tbody>\n",
       "    <tr>\n",
       "      <th>0</th>\n",
       "      <td>3S</td>\n",
       "      <td>060310</td>\n",
       "    </tr>\n",
       "    <tr>\n",
       "      <th>1</th>\n",
       "      <td>AJ네트웍스</td>\n",
       "      <td>095570</td>\n",
       "    </tr>\n",
       "    <tr>\n",
       "      <th>2</th>\n",
       "      <td>AK홀딩스</td>\n",
       "      <td>006840</td>\n",
       "    </tr>\n",
       "    <tr>\n",
       "      <th>3</th>\n",
       "      <td>APS홀딩스</td>\n",
       "      <td>054620</td>\n",
       "    </tr>\n",
       "    <tr>\n",
       "      <th>4</th>\n",
       "      <td>AP시스템</td>\n",
       "      <td>265520</td>\n",
       "    </tr>\n",
       "    <tr>\n",
       "      <th>...</th>\n",
       "      <td>...</td>\n",
       "      <td>...</td>\n",
       "    </tr>\n",
       "    <tr>\n",
       "      <th>7105</th>\n",
       "      <td>흥국화재2우B</td>\n",
       "      <td>000547</td>\n",
       "    </tr>\n",
       "    <tr>\n",
       "      <th>7106</th>\n",
       "      <td>흥국화재우</td>\n",
       "      <td>000545</td>\n",
       "    </tr>\n",
       "    <tr>\n",
       "      <th>7107</th>\n",
       "      <td>흥아해운</td>\n",
       "      <td>003280</td>\n",
       "    </tr>\n",
       "    <tr>\n",
       "      <th>7108</th>\n",
       "      <td>희림</td>\n",
       "      <td>037440</td>\n",
       "    </tr>\n",
       "    <tr>\n",
       "      <th>7109</th>\n",
       "      <td>힘스</td>\n",
       "      <td>238490</td>\n",
       "    </tr>\n",
       "  </tbody>\n",
       "</table>\n",
       "<p>7110 rows × 2 columns</p>\n",
       "</div>"
      ],
      "text/plain": [
       "         Name  Symbol\n",
       "0          3S  060310\n",
       "1      AJ네트웍스  095570\n",
       "2       AK홀딩스  006840\n",
       "3      APS홀딩스  054620\n",
       "4       AP시스템  265520\n",
       "...       ...     ...\n",
       "7105  흥국화재2우B  000547\n",
       "7106    흥국화재우  000545\n",
       "7107     흥아해운  003280\n",
       "7108       희림  037440\n",
       "7109       힘스  238490\n",
       "\n",
       "[7110 rows x 2 columns]"
      ]
     },
     "execution_count": 26,
     "metadata": {},
     "output_type": "execute_result"
    }
   ],
   "source": [
    "df[[\"Name\", \"Symbol\"]]"
   ]
  },
  {
   "cell_type": "code",
   "execution_count": 27,
   "id": "willing-strength",
   "metadata": {
    "ExecuteTime": {
     "end_time": "2021-02-06T04:45:21.962400Z",
     "start_time": "2021-02-06T04:45:21.950389Z"
    },
    "hidden": true
   },
   "outputs": [
    {
     "data": {
      "text/html": [
       "<div>\n",
       "<style scoped>\n",
       "    .dataframe tbody tr th:only-of-type {\n",
       "        vertical-align: middle;\n",
       "    }\n",
       "\n",
       "    .dataframe tbody tr th {\n",
       "        vertical-align: top;\n",
       "    }\n",
       "\n",
       "    .dataframe thead th {\n",
       "        text-align: right;\n",
       "    }\n",
       "</style>\n",
       "<table border=\"1\" class=\"dataframe\">\n",
       "  <thead>\n",
       "    <tr style=\"text-align: right;\">\n",
       "      <th></th>\n",
       "      <th>Symbol</th>\n",
       "      <th>Market</th>\n",
       "      <th>Name</th>\n",
       "      <th>Sector</th>\n",
       "      <th>Industry</th>\n",
       "      <th>ListingDate</th>\n",
       "      <th>SettleMonth</th>\n",
       "      <th>Representative</th>\n",
       "      <th>HomePage</th>\n",
       "      <th>Region</th>\n",
       "    </tr>\n",
       "  </thead>\n",
       "  <tbody>\n",
       "    <tr>\n",
       "      <th>0</th>\n",
       "      <td>060310</td>\n",
       "      <td>KOSDAQ</td>\n",
       "      <td>3S</td>\n",
       "      <td>특수 목적용 기계 제조업</td>\n",
       "      <td>반도체 웨이퍼 캐리어</td>\n",
       "      <td>2002-04-23</td>\n",
       "      <td>03월</td>\n",
       "      <td>박종익, 김세완 (각자 대표이사)</td>\n",
       "      <td>http://www.3sref.com</td>\n",
       "      <td>서울특별시</td>\n",
       "    </tr>\n",
       "    <tr>\n",
       "      <th>3</th>\n",
       "      <td>054620</td>\n",
       "      <td>KOSDAQ</td>\n",
       "      <td>APS홀딩스</td>\n",
       "      <td>기타 금융업</td>\n",
       "      <td>인터넷 트래픽 솔루션</td>\n",
       "      <td>2001-12-04</td>\n",
       "      <td>12월</td>\n",
       "      <td>정기로</td>\n",
       "      <td>http://www.apsholdings.co.kr</td>\n",
       "      <td>경기도</td>\n",
       "    </tr>\n",
       "    <tr>\n",
       "      <th>5</th>\n",
       "      <td>211270</td>\n",
       "      <td>KOSDAQ</td>\n",
       "      <td>AP위성</td>\n",
       "      <td>통신 및 방송 장비 제조업</td>\n",
       "      <td>위성통신 단말기</td>\n",
       "      <td>2016-03-04</td>\n",
       "      <td>12월</td>\n",
       "      <td>류장수</td>\n",
       "      <td>http://www.apsi.co.kr</td>\n",
       "      <td>서울특별시</td>\n",
       "    </tr>\n",
       "    <tr>\n",
       "      <th>7</th>\n",
       "      <td>295820</td>\n",
       "      <td>KOSPI</td>\n",
       "      <td>ARIRANG 200동일가중</td>\n",
       "      <td>NaN</td>\n",
       "      <td>NaN</td>\n",
       "      <td>NaN</td>\n",
       "      <td>NaN</td>\n",
       "      <td>NaN</td>\n",
       "      <td>NaN</td>\n",
       "      <td>NaN</td>\n",
       "    </tr>\n",
       "  </tbody>\n",
       "</table>\n",
       "</div>"
      ],
      "text/plain": [
       "   Symbol  Market             Name          Sector     Industry ListingDate  \\\n",
       "0  060310  KOSDAQ               3S   특수 목적용 기계 제조업  반도체 웨이퍼 캐리어  2002-04-23   \n",
       "3  054620  KOSDAQ           APS홀딩스          기타 금융업  인터넷 트래픽 솔루션  2001-12-04   \n",
       "5  211270  KOSDAQ             AP위성  통신 및 방송 장비 제조업     위성통신 단말기  2016-03-04   \n",
       "7  295820   KOSPI  ARIRANG 200동일가중             NaN          NaN         NaN   \n",
       "\n",
       "  SettleMonth      Representative                      HomePage Region  \n",
       "0         03월  박종익, 김세완 (각자 대표이사)          http://www.3sref.com  서울특별시  \n",
       "3         12월                 정기로  http://www.apsholdings.co.kr    경기도  \n",
       "5         12월                 류장수         http://www.apsi.co.kr  서울특별시  \n",
       "7         NaN                 NaN                           NaN    NaN  "
      ]
     },
     "execution_count": 27,
     "metadata": {},
     "output_type": "execute_result"
    }
   ],
   "source": [
    "df.loc[[0, 3, 5, 7]]"
   ]
  },
  {
   "cell_type": "markdown",
   "id": "adjustable-recorder",
   "metadata": {
    "heading_collapsed": true
   },
   "source": [
    "# 6강"
   ]
  },
  {
   "cell_type": "code",
   "execution_count": 28,
   "id": "whole-former",
   "metadata": {
    "ExecuteTime": {
     "end_time": "2021-02-06T04:45:21.977414Z",
     "start_time": "2021-02-06T04:45:21.964401Z"
    },
    "hidden": true
   },
   "outputs": [
    {
     "data": {
      "text/plain": [
       "'3S'"
      ]
     },
     "execution_count": 28,
     "metadata": {},
     "output_type": "execute_result"
    }
   ],
   "source": [
    "# .loc[행, 열]\n",
    "df.loc[0, \"Name\"]"
   ]
  },
  {
   "cell_type": "code",
   "execution_count": 29,
   "id": "thorough-target",
   "metadata": {
    "ExecuteTime": {
     "end_time": "2021-02-06T04:45:21.992058Z",
     "start_time": "2021-02-06T04:45:21.978414Z"
    },
    "hidden": true
   },
   "outputs": [
    {
     "data": {
      "text/plain": [
       "0                     3S\n",
       "1                 AJ네트웍스\n",
       "2                  AK홀딩스\n",
       "3                 APS홀딩스\n",
       "4                  AP시스템\n",
       "5                   AP위성\n",
       "6            ARIRANG 200\n",
       "7        ARIRANG 200동일가중\n",
       "8      ARIRANG 200선물레버리지\n",
       "9     ARIRANG 200선물인버스2X\n",
       "10       ARIRANG ESG우수기업\n",
       "Name: Name, dtype: object"
      ]
     },
     "execution_count": 29,
     "metadata": {},
     "output_type": "execute_result"
    }
   ],
   "source": [
    "df.loc[:10, \"Name\"] # 여러 행 가져오기"
   ]
  },
  {
   "cell_type": "code",
   "execution_count": 30,
   "id": "complex-uniform",
   "metadata": {
    "ExecuteTime": {
     "end_time": "2021-02-06T04:45:22.007072Z",
     "start_time": "2021-02-06T04:45:21.993060Z"
    },
    "hidden": true
   },
   "outputs": [
    {
     "data": {
      "text/html": [
       "<div>\n",
       "<style scoped>\n",
       "    .dataframe tbody tr th:only-of-type {\n",
       "        vertical-align: middle;\n",
       "    }\n",
       "\n",
       "    .dataframe tbody tr th {\n",
       "        vertical-align: top;\n",
       "    }\n",
       "\n",
       "    .dataframe thead th {\n",
       "        text-align: right;\n",
       "    }\n",
       "</style>\n",
       "<table border=\"1\" class=\"dataframe\">\n",
       "  <thead>\n",
       "    <tr style=\"text-align: right;\">\n",
       "      <th></th>\n",
       "      <th>Symbol</th>\n",
       "      <th>Market</th>\n",
       "      <th>Name</th>\n",
       "      <th>Sector</th>\n",
       "    </tr>\n",
       "  </thead>\n",
       "  <tbody>\n",
       "    <tr>\n",
       "      <th>0</th>\n",
       "      <td>060310</td>\n",
       "      <td>KOSDAQ</td>\n",
       "      <td>3S</td>\n",
       "      <td>특수 목적용 기계 제조업</td>\n",
       "    </tr>\n",
       "    <tr>\n",
       "      <th>1</th>\n",
       "      <td>095570</td>\n",
       "      <td>KOSPI</td>\n",
       "      <td>AJ네트웍스</td>\n",
       "      <td>산업용 기계 및 장비 임대업</td>\n",
       "    </tr>\n",
       "    <tr>\n",
       "      <th>2</th>\n",
       "      <td>006840</td>\n",
       "      <td>KOSPI</td>\n",
       "      <td>AK홀딩스</td>\n",
       "      <td>기타 금융업</td>\n",
       "    </tr>\n",
       "    <tr>\n",
       "      <th>3</th>\n",
       "      <td>054620</td>\n",
       "      <td>KOSDAQ</td>\n",
       "      <td>APS홀딩스</td>\n",
       "      <td>기타 금융업</td>\n",
       "    </tr>\n",
       "  </tbody>\n",
       "</table>\n",
       "</div>"
      ],
      "text/plain": [
       "   Symbol  Market    Name           Sector\n",
       "0  060310  KOSDAQ      3S    특수 목적용 기계 제조업\n",
       "1  095570   KOSPI  AJ네트웍스  산업용 기계 및 장비 임대업\n",
       "2  006840   KOSPI   AK홀딩스           기타 금융업\n",
       "3  054620  KOSDAQ  APS홀딩스           기타 금융업"
      ]
     },
     "execution_count": 30,
     "metadata": {},
     "output_type": "execute_result"
    }
   ],
   "source": [
    "df.iloc[:4, :4]"
   ]
  },
  {
   "cell_type": "code",
   "execution_count": 31,
   "id": "loved-litigation",
   "metadata": {
    "ExecuteTime": {
     "end_time": "2021-02-06T04:45:22.022085Z",
     "start_time": "2021-02-06T04:45:22.008073Z"
    },
    "hidden": true
   },
   "outputs": [
    {
     "data": {
      "text/html": [
       "<div>\n",
       "<style scoped>\n",
       "    .dataframe tbody tr th:only-of-type {\n",
       "        vertical-align: middle;\n",
       "    }\n",
       "\n",
       "    .dataframe tbody tr th {\n",
       "        vertical-align: top;\n",
       "    }\n",
       "\n",
       "    .dataframe thead th {\n",
       "        text-align: right;\n",
       "    }\n",
       "</style>\n",
       "<table border=\"1\" class=\"dataframe\">\n",
       "  <thead>\n",
       "    <tr style=\"text-align: right;\">\n",
       "      <th></th>\n",
       "      <th>Symbol</th>\n",
       "      <th>Market</th>\n",
       "      <th>Name</th>\n",
       "      <th>Sector</th>\n",
       "      <th>Industry</th>\n",
       "      <th>ListingDate</th>\n",
       "      <th>SettleMonth</th>\n",
       "      <th>Representative</th>\n",
       "      <th>HomePage</th>\n",
       "      <th>Region</th>\n",
       "    </tr>\n",
       "  </thead>\n",
       "  <tbody>\n",
       "    <tr>\n",
       "      <th>4876</th>\n",
       "      <td>035720</td>\n",
       "      <td>KOSPI</td>\n",
       "      <td>카카오</td>\n",
       "      <td>자료처리, 호스팅, 포털 및 기타 인터넷 정보매개 서비스업</td>\n",
       "      <td>인터넷 서비스(인터넷 광고)</td>\n",
       "      <td>2017-07-10</td>\n",
       "      <td>12월</td>\n",
       "      <td>여민수, 조수용</td>\n",
       "      <td>http://www.kakaocorp.com</td>\n",
       "      <td>제주특별자치도</td>\n",
       "    </tr>\n",
       "  </tbody>\n",
       "</table>\n",
       "</div>"
      ],
      "text/plain": [
       "      Symbol Market Name                            Sector         Industry  \\\n",
       "4876  035720  KOSPI  카카오  자료처리, 호스팅, 포털 및 기타 인터넷 정보매개 서비스업  인터넷 서비스(인터넷 광고)   \n",
       "\n",
       "     ListingDate SettleMonth Representative                  HomePage   Region  \n",
       "4876  2017-07-10         12월       여민수, 조수용  http://www.kakaocorp.com  제주특별자치도  "
      ]
     },
     "execution_count": 31,
     "metadata": {},
     "output_type": "execute_result"
    }
   ],
   "source": [
    "# boolean indexing\n",
    "df[df[\"Name\"] == \"카카오\"]"
   ]
  },
  {
   "cell_type": "code",
   "execution_count": 32,
   "id": "central-facing",
   "metadata": {
    "ExecuteTime": {
     "end_time": "2021-02-06T04:45:22.037099Z",
     "start_time": "2021-02-06T04:45:22.023087Z"
    },
    "hidden": true
   },
   "outputs": [
    {
     "data": {
      "text/html": [
       "<div>\n",
       "<style scoped>\n",
       "    .dataframe tbody tr th:only-of-type {\n",
       "        vertical-align: middle;\n",
       "    }\n",
       "\n",
       "    .dataframe tbody tr th {\n",
       "        vertical-align: top;\n",
       "    }\n",
       "\n",
       "    .dataframe thead th {\n",
       "        text-align: right;\n",
       "    }\n",
       "</style>\n",
       "<table border=\"1\" class=\"dataframe\">\n",
       "  <thead>\n",
       "    <tr style=\"text-align: right;\">\n",
       "      <th></th>\n",
       "      <th>Name</th>\n",
       "      <th>Symbol</th>\n",
       "    </tr>\n",
       "  </thead>\n",
       "  <tbody>\n",
       "    <tr>\n",
       "      <th>1</th>\n",
       "      <td>AJ네트웍스</td>\n",
       "      <td>095570</td>\n",
       "    </tr>\n",
       "    <tr>\n",
       "      <th>2</th>\n",
       "      <td>AK홀딩스</td>\n",
       "      <td>006840</td>\n",
       "    </tr>\n",
       "    <tr>\n",
       "      <th>47</th>\n",
       "      <td>BGF</td>\n",
       "      <td>027410</td>\n",
       "    </tr>\n",
       "    <tr>\n",
       "      <th>48</th>\n",
       "      <td>BGF리테일</td>\n",
       "      <td>282330</td>\n",
       "    </tr>\n",
       "    <tr>\n",
       "      <th>50</th>\n",
       "      <td>BYC</td>\n",
       "      <td>001460</td>\n",
       "    </tr>\n",
       "    <tr>\n",
       "      <th>...</th>\n",
       "      <td>...</td>\n",
       "      <td>...</td>\n",
       "    </tr>\n",
       "    <tr>\n",
       "      <th>7093</th>\n",
       "      <td>휴비스</td>\n",
       "      <td>079980</td>\n",
       "    </tr>\n",
       "    <tr>\n",
       "      <th>7095</th>\n",
       "      <td>휴스틸</td>\n",
       "      <td>005010</td>\n",
       "    </tr>\n",
       "    <tr>\n",
       "      <th>7099</th>\n",
       "      <td>휴켐스</td>\n",
       "      <td>069260</td>\n",
       "    </tr>\n",
       "    <tr>\n",
       "      <th>7104</th>\n",
       "      <td>흥국화재</td>\n",
       "      <td>000540</td>\n",
       "    </tr>\n",
       "    <tr>\n",
       "      <th>7107</th>\n",
       "      <td>흥아해운</td>\n",
       "      <td>003280</td>\n",
       "    </tr>\n",
       "  </tbody>\n",
       "</table>\n",
       "<p>408 rows × 2 columns</p>\n",
       "</div>"
      ],
      "text/plain": [
       "        Name  Symbol\n",
       "1     AJ네트웍스  095570\n",
       "2      AK홀딩스  006840\n",
       "47       BGF  027410\n",
       "48    BGF리테일  282330\n",
       "50       BYC  001460\n",
       "...      ...     ...\n",
       "7093     휴비스  079980\n",
       "7095     휴스틸  005010\n",
       "7099     휴켐스  069260\n",
       "7104    흥국화재  000540\n",
       "7107    흥아해운  003280\n",
       "\n",
       "[408 rows x 2 columns]"
      ]
     },
     "metadata": {},
     "output_type": "display_data"
    }
   ],
   "source": [
    "# 서울특별시에 소재지를 두고 있는 KOSPI 종목의 종목명과 심볼을 가져옵니다.\n",
    "display(df.loc[(df[\"Region\"] == \"서울특별시\") & (df[\"Market\"] == \"KOSPI\"), [\"Name\", \"Symbol\"]])"
   ]
  },
  {
   "cell_type": "markdown",
   "id": "right-circumstances",
   "metadata": {
    "heading_collapsed": true
   },
   "source": [
    "# 7강"
   ]
  },
  {
   "cell_type": "code",
   "execution_count": 33,
   "id": "cardiac-context",
   "metadata": {
    "ExecuteTime": {
     "end_time": "2021-02-06T04:45:22.052113Z",
     "start_time": "2021-02-06T04:45:22.038100Z"
    },
    "hidden": true
   },
   "outputs": [],
   "source": [
    "# 파생변수 만들기\n",
    "df[\"ListingDate\"] = pd.to_datetime(df[\"ListingDate\"])"
   ]
  },
  {
   "cell_type": "code",
   "execution_count": 34,
   "id": "talented-statement",
   "metadata": {
    "ExecuteTime": {
     "end_time": "2021-02-06T04:45:22.067127Z",
     "start_time": "2021-02-06T04:45:22.053115Z"
    },
    "hidden": true
   },
   "outputs": [],
   "source": [
    "# ListingYear 파생변수 만들기\n",
    "df[\"ListingYear\"] = df[\"ListingDate\"].dt.year"
   ]
  },
  {
   "cell_type": "code",
   "execution_count": 35,
   "id": "inappropriate-pension",
   "metadata": {
    "ExecuteTime": {
     "end_time": "2021-02-06T04:45:22.082140Z",
     "start_time": "2021-02-06T04:45:22.069129Z"
    },
    "hidden": true
   },
   "outputs": [
    {
     "data": {
      "text/html": [
       "<div>\n",
       "<style scoped>\n",
       "    .dataframe tbody tr th:only-of-type {\n",
       "        vertical-align: middle;\n",
       "    }\n",
       "\n",
       "    .dataframe tbody tr th {\n",
       "        vertical-align: top;\n",
       "    }\n",
       "\n",
       "    .dataframe thead th {\n",
       "        text-align: right;\n",
       "    }\n",
       "</style>\n",
       "<table border=\"1\" class=\"dataframe\">\n",
       "  <thead>\n",
       "    <tr style=\"text-align: right;\">\n",
       "      <th></th>\n",
       "      <th>ListingYear</th>\n",
       "      <th>ListingDate</th>\n",
       "    </tr>\n",
       "  </thead>\n",
       "  <tbody>\n",
       "    <tr>\n",
       "      <th>0</th>\n",
       "      <td>2002.0</td>\n",
       "      <td>2002-04-23</td>\n",
       "    </tr>\n",
       "    <tr>\n",
       "      <th>1</th>\n",
       "      <td>2015.0</td>\n",
       "      <td>2015-08-21</td>\n",
       "    </tr>\n",
       "    <tr>\n",
       "      <th>2</th>\n",
       "      <td>1999.0</td>\n",
       "      <td>1999-08-11</td>\n",
       "    </tr>\n",
       "    <tr>\n",
       "      <th>3</th>\n",
       "      <td>2001.0</td>\n",
       "      <td>2001-12-04</td>\n",
       "    </tr>\n",
       "    <tr>\n",
       "      <th>4</th>\n",
       "      <td>2017.0</td>\n",
       "      <td>2017-04-07</td>\n",
       "    </tr>\n",
       "    <tr>\n",
       "      <th>...</th>\n",
       "      <td>...</td>\n",
       "      <td>...</td>\n",
       "    </tr>\n",
       "    <tr>\n",
       "      <th>7105</th>\n",
       "      <td>NaN</td>\n",
       "      <td>NaT</td>\n",
       "    </tr>\n",
       "    <tr>\n",
       "      <th>7106</th>\n",
       "      <td>NaN</td>\n",
       "      <td>NaT</td>\n",
       "    </tr>\n",
       "    <tr>\n",
       "      <th>7107</th>\n",
       "      <td>1976.0</td>\n",
       "      <td>1976-06-29</td>\n",
       "    </tr>\n",
       "    <tr>\n",
       "      <th>7108</th>\n",
       "      <td>2000.0</td>\n",
       "      <td>2000-02-03</td>\n",
       "    </tr>\n",
       "    <tr>\n",
       "      <th>7109</th>\n",
       "      <td>2017.0</td>\n",
       "      <td>2017-07-20</td>\n",
       "    </tr>\n",
       "  </tbody>\n",
       "</table>\n",
       "<p>7110 rows × 2 columns</p>\n",
       "</div>"
      ],
      "text/plain": [
       "      ListingYear ListingDate\n",
       "0          2002.0  2002-04-23\n",
       "1          2015.0  2015-08-21\n",
       "2          1999.0  1999-08-11\n",
       "3          2001.0  2001-12-04\n",
       "4          2017.0  2017-04-07\n",
       "...           ...         ...\n",
       "7105          NaN         NaT\n",
       "7106          NaN         NaT\n",
       "7107       1976.0  1976-06-29\n",
       "7108       2000.0  2000-02-03\n",
       "7109       2017.0  2017-07-20\n",
       "\n",
       "[7110 rows x 2 columns]"
      ]
     },
     "execution_count": 35,
     "metadata": {},
     "output_type": "execute_result"
    }
   ],
   "source": [
    "df[['ListingYear', \"ListingDate\"]]"
   ]
  },
  {
   "cell_type": "markdown",
   "id": "threaded-missile",
   "metadata": {
    "heading_collapsed": true
   },
   "source": [
    "# 8강"
   ]
  },
  {
   "cell_type": "code",
   "execution_count": 36,
   "id": "global-clone",
   "metadata": {
    "ExecuteTime": {
     "end_time": "2021-02-06T04:45:22.097154Z",
     "start_time": "2021-02-06T04:45:22.083141Z"
    },
    "hidden": true
   },
   "outputs": [],
   "source": [
    "import seaborn as sns\n",
    "import matplotlib.pyplot as plt"
   ]
  },
  {
   "cell_type": "code",
   "execution_count": 37,
   "id": "executive-library",
   "metadata": {
    "ExecuteTime": {
     "end_time": "2021-02-06T04:45:22.112168Z",
     "start_time": "2021-02-06T04:45:22.098155Z"
    },
    "hidden": true
   },
   "outputs": [],
   "source": [
    "def get_font_family():\n",
    "    import platform\n",
    "    system_name = platform.system()\n",
    "    if system_name == \"Windows\":\n",
    "        font_family = \"Malgun Gothic\"\n",
    "    return font_family"
   ]
  },
  {
   "cell_type": "code",
   "execution_count": 38,
   "id": "heated-pulse",
   "metadata": {
    "ExecuteTime": {
     "end_time": "2021-02-06T04:45:22.127181Z",
     "start_time": "2021-02-06T04:45:22.113169Z"
    },
    "hidden": true
   },
   "outputs": [
    {
     "data": {
      "text/plain": [
       "'Malgun Gothic'"
      ]
     },
     "execution_count": 38,
     "metadata": {},
     "output_type": "execute_result"
    }
   ],
   "source": [
    "get_font_family()"
   ]
  },
  {
   "cell_type": "code",
   "execution_count": 39,
   "id": "coral-poultry",
   "metadata": {
    "ExecuteTime": {
     "end_time": "2021-02-06T04:45:22.142195Z",
     "start_time": "2021-02-06T04:45:22.128182Z"
    },
    "hidden": true
   },
   "outputs": [],
   "source": [
    "# 폰트설정\n",
    "font_family = get_font_family()\n",
    "\n",
    "plt.rc(\"font\", family=font_family)\n",
    "# 마이너스 폰트\n",
    "plt.rc(\"axes\", unicode_minus=False)\n",
    "\n",
    "plt.style.use(\"ggplot\")\n",
    "\n",
    "from IPython.display import set_matplotlib_formats\n",
    "set_matplotlib_formats(\"retina\")"
   ]
  },
  {
   "cell_type": "code",
   "execution_count": 40,
   "id": "statutory-steam",
   "metadata": {
    "ExecuteTime": {
     "end_time": "2021-02-06T04:45:22.307184Z",
     "start_time": "2021-02-06T04:45:22.143196Z"
    },
    "hidden": true
   },
   "outputs": [
    {
     "data": {
      "text/plain": [
       "<AxesSubplot:title={'center':'한글폰트'}>"
      ]
     },
     "execution_count": 40,
     "metadata": {},
     "output_type": "execute_result"
    },
    {
     "data": {
      "image/png": "[encoded data removed]",
      "text/plain": [
       "<Figure size 432x288 with 1 Axes>"
      ]
     },
     "metadata": {
      "image/png": {
       "height": 266,
       "width": 365
      }
     },
     "output_type": "display_data"
    }
   ],
   "source": [
    "# 한글폰트 확인\n",
    "pd.Series([1, 3, 5, -7, 9]).plot(title=\"한글폰트\")"
   ]
  },
  {
   "cell_type": "markdown",
   "id": "coordinated-rental",
   "metadata": {
    "heading_collapsed": true
   },
   "source": [
    "# 9강"
   ]
  },
  {
   "cell_type": "code",
   "execution_count": 41,
   "id": "dress-stereo",
   "metadata": {
    "ExecuteTime": {
     "end_time": "2021-02-06T04:45:22.322199Z",
     "start_time": "2021-02-06T04:45:22.308186Z"
    },
    "hidden": true
   },
   "outputs": [
    {
     "data": {
      "text/html": [
       "<div>\n",
       "<style scoped>\n",
       "    .dataframe tbody tr th:only-of-type {\n",
       "        vertical-align: middle;\n",
       "    }\n",
       "\n",
       "    .dataframe tbody tr th {\n",
       "        vertical-align: top;\n",
       "    }\n",
       "\n",
       "    .dataframe thead th {\n",
       "        text-align: right;\n",
       "    }\n",
       "</style>\n",
       "<table border=\"1\" class=\"dataframe\">\n",
       "  <thead>\n",
       "    <tr style=\"text-align: right;\">\n",
       "      <th></th>\n",
       "      <th>Symbol</th>\n",
       "      <th>Market</th>\n",
       "      <th>Name</th>\n",
       "      <th>Sector</th>\n",
       "      <th>Industry</th>\n",
       "      <th>ListingDate</th>\n",
       "      <th>SettleMonth</th>\n",
       "      <th>Representative</th>\n",
       "      <th>HomePage</th>\n",
       "      <th>Region</th>\n",
       "      <th>ListingYear</th>\n",
       "    </tr>\n",
       "  </thead>\n",
       "  <tbody>\n",
       "    <tr>\n",
       "      <th>0</th>\n",
       "      <td>060310</td>\n",
       "      <td>KOSDAQ</td>\n",
       "      <td>3S</td>\n",
       "      <td>특수 목적용 기계 제조업</td>\n",
       "      <td>반도체 웨이퍼 캐리어</td>\n",
       "      <td>2002-04-23</td>\n",
       "      <td>03월</td>\n",
       "      <td>박종익, 김세완 (각자 대표이사)</td>\n",
       "      <td>http://www.3sref.com</td>\n",
       "      <td>서울특별시</td>\n",
       "      <td>2002.0</td>\n",
       "    </tr>\n",
       "    <tr>\n",
       "      <th>1</th>\n",
       "      <td>095570</td>\n",
       "      <td>KOSPI</td>\n",
       "      <td>AJ네트웍스</td>\n",
       "      <td>산업용 기계 및 장비 임대업</td>\n",
       "      <td>렌탈(파렛트, OA장비, 건설장비)</td>\n",
       "      <td>2015-08-21</td>\n",
       "      <td>12월</td>\n",
       "      <td>이현우</td>\n",
       "      <td>http://www.ajnet.co.kr</td>\n",
       "      <td>서울특별시</td>\n",
       "      <td>2015.0</td>\n",
       "    </tr>\n",
       "    <tr>\n",
       "      <th>2</th>\n",
       "      <td>006840</td>\n",
       "      <td>KOSPI</td>\n",
       "      <td>AK홀딩스</td>\n",
       "      <td>기타 금융업</td>\n",
       "      <td>지주사업</td>\n",
       "      <td>1999-08-11</td>\n",
       "      <td>12월</td>\n",
       "      <td>채형석, 이석주(각자 대표이사)</td>\n",
       "      <td>http://www.aekyunggroup.co.kr</td>\n",
       "      <td>서울특별시</td>\n",
       "      <td>1999.0</td>\n",
       "    </tr>\n",
       "    <tr>\n",
       "      <th>3</th>\n",
       "      <td>054620</td>\n",
       "      <td>KOSDAQ</td>\n",
       "      <td>APS홀딩스</td>\n",
       "      <td>기타 금융업</td>\n",
       "      <td>인터넷 트래픽 솔루션</td>\n",
       "      <td>2001-12-04</td>\n",
       "      <td>12월</td>\n",
       "      <td>정기로</td>\n",
       "      <td>http://www.apsholdings.co.kr</td>\n",
       "      <td>경기도</td>\n",
       "      <td>2001.0</td>\n",
       "    </tr>\n",
       "    <tr>\n",
       "      <th>4</th>\n",
       "      <td>265520</td>\n",
       "      <td>KOSDAQ</td>\n",
       "      <td>AP시스템</td>\n",
       "      <td>특수 목적용 기계 제조업</td>\n",
       "      <td>디스플레이 제조 장비</td>\n",
       "      <td>2017-04-07</td>\n",
       "      <td>12월</td>\n",
       "      <td>김영주</td>\n",
       "      <td>http://www.apsystems.co.kr</td>\n",
       "      <td>경기도</td>\n",
       "      <td>2017.0</td>\n",
       "    </tr>\n",
       "    <tr>\n",
       "      <th>...</th>\n",
       "      <td>...</td>\n",
       "      <td>...</td>\n",
       "      <td>...</td>\n",
       "      <td>...</td>\n",
       "      <td>...</td>\n",
       "      <td>...</td>\n",
       "      <td>...</td>\n",
       "      <td>...</td>\n",
       "      <td>...</td>\n",
       "      <td>...</td>\n",
       "      <td>...</td>\n",
       "    </tr>\n",
       "    <tr>\n",
       "      <th>7105</th>\n",
       "      <td>000547</td>\n",
       "      <td>KOSPI</td>\n",
       "      <td>흥국화재2우B</td>\n",
       "      <td>NaN</td>\n",
       "      <td>NaN</td>\n",
       "      <td>NaT</td>\n",
       "      <td>NaN</td>\n",
       "      <td>NaN</td>\n",
       "      <td>NaN</td>\n",
       "      <td>NaN</td>\n",
       "      <td>NaN</td>\n",
       "    </tr>\n",
       "    <tr>\n",
       "      <th>7106</th>\n",
       "      <td>000545</td>\n",
       "      <td>KOSPI</td>\n",
       "      <td>흥국화재우</td>\n",
       "      <td>NaN</td>\n",
       "      <td>NaN</td>\n",
       "      <td>NaT</td>\n",
       "      <td>NaN</td>\n",
       "      <td>NaN</td>\n",
       "      <td>NaN</td>\n",
       "      <td>NaN</td>\n",
       "      <td>NaN</td>\n",
       "    </tr>\n",
       "    <tr>\n",
       "      <th>7107</th>\n",
       "      <td>003280</td>\n",
       "      <td>KOSPI</td>\n",
       "      <td>흥아해운</td>\n",
       "      <td>해상 운송업</td>\n",
       "      <td>외항화물운송업(케미컬탱커)</td>\n",
       "      <td>1976-06-29</td>\n",
       "      <td>12월</td>\n",
       "      <td>이환구</td>\n",
       "      <td>http://www.heung-a.com</td>\n",
       "      <td>서울특별시</td>\n",
       "      <td>1976.0</td>\n",
       "    </tr>\n",
       "    <tr>\n",
       "      <th>7108</th>\n",
       "      <td>037440</td>\n",
       "      <td>KOSDAQ</td>\n",
       "      <td>희림</td>\n",
       "      <td>건축기술, 엔지니어링 및 관련 기술 서비스업</td>\n",
       "      <td>설계 및 감리용역</td>\n",
       "      <td>2000-02-03</td>\n",
       "      <td>12월</td>\n",
       "      <td>정영균, 이목운, 허철호, 염두성 (각자대표)</td>\n",
       "      <td>http://www.heerim.com</td>\n",
       "      <td>서울특별시</td>\n",
       "      <td>2000.0</td>\n",
       "    </tr>\n",
       "    <tr>\n",
       "      <th>7109</th>\n",
       "      <td>238490</td>\n",
       "      <td>KOSDAQ</td>\n",
       "      <td>힘스</td>\n",
       "      <td>특수 목적용 기계 제조업</td>\n",
       "      <td>OLED Mask 인장기, OLED Mask 검사기 등</td>\n",
       "      <td>2017-07-20</td>\n",
       "      <td>12월</td>\n",
       "      <td>김주환</td>\n",
       "      <td>http://www.hims.co.kr</td>\n",
       "      <td>인천광역시</td>\n",
       "      <td>2017.0</td>\n",
       "    </tr>\n",
       "  </tbody>\n",
       "</table>\n",
       "<p>7110 rows × 11 columns</p>\n",
       "</div>"
      ],
      "text/plain": [
       "      Symbol  Market     Name                    Sector  \\\n",
       "0     060310  KOSDAQ       3S             특수 목적용 기계 제조업   \n",
       "1     095570   KOSPI   AJ네트웍스           산업용 기계 및 장비 임대업   \n",
       "2     006840   KOSPI    AK홀딩스                    기타 금융업   \n",
       "3     054620  KOSDAQ   APS홀딩스                    기타 금융업   \n",
       "4     265520  KOSDAQ    AP시스템             특수 목적용 기계 제조업   \n",
       "...      ...     ...      ...                       ...   \n",
       "7105  000547   KOSPI  흥국화재2우B                       NaN   \n",
       "7106  000545   KOSPI    흥국화재우                       NaN   \n",
       "7107  003280   KOSPI     흥아해운                    해상 운송업   \n",
       "7108  037440  KOSDAQ       희림  건축기술, 엔지니어링 및 관련 기술 서비스업   \n",
       "7109  238490  KOSDAQ       힘스             특수 목적용 기계 제조업   \n",
       "\n",
       "                            Industry ListingDate SettleMonth  \\\n",
       "0                        반도체 웨이퍼 캐리어  2002-04-23         03월   \n",
       "1                렌탈(파렛트, OA장비, 건설장비)  2015-08-21         12월   \n",
       "2                               지주사업  1999-08-11         12월   \n",
       "3                        인터넷 트래픽 솔루션  2001-12-04         12월   \n",
       "4                        디스플레이 제조 장비  2017-04-07         12월   \n",
       "...                              ...         ...         ...   \n",
       "7105                             NaN         NaT         NaN   \n",
       "7106                             NaN         NaT         NaN   \n",
       "7107                  외항화물운송업(케미컬탱커)  1976-06-29         12월   \n",
       "7108                       설계 및 감리용역  2000-02-03         12월   \n",
       "7109  OLED Mask 인장기, OLED Mask 검사기 등  2017-07-20         12월   \n",
       "\n",
       "                 Representative                       HomePage Region  \\\n",
       "0            박종익, 김세완 (각자 대표이사)           http://www.3sref.com  서울특별시   \n",
       "1                           이현우         http://www.ajnet.co.kr  서울특별시   \n",
       "2             채형석, 이석주(각자 대표이사)  http://www.aekyunggroup.co.kr  서울특별시   \n",
       "3                           정기로   http://www.apsholdings.co.kr    경기도   \n",
       "4                           김영주     http://www.apsystems.co.kr    경기도   \n",
       "...                         ...                            ...    ...   \n",
       "7105                        NaN                            NaN    NaN   \n",
       "7106                        NaN                            NaN    NaN   \n",
       "7107                        이환구         http://www.heung-a.com  서울특별시   \n",
       "7108  정영균, 이목운, 허철호, 염두성 (각자대표)          http://www.heerim.com  서울특별시   \n",
       "7109                        김주환          http://www.hims.co.kr  인천광역시   \n",
       "\n",
       "      ListingYear  \n",
       "0          2002.0  \n",
       "1          2015.0  \n",
       "2          1999.0  \n",
       "3          2001.0  \n",
       "4          2017.0  \n",
       "...           ...  \n",
       "7105          NaN  \n",
       "7106          NaN  \n",
       "7107       1976.0  \n",
       "7108       2000.0  \n",
       "7109       2017.0  \n",
       "\n",
       "[7110 rows x 11 columns]"
      ]
     },
     "execution_count": 41,
     "metadata": {},
     "output_type": "execute_result"
    }
   ],
   "source": [
    "df"
   ]
  },
  {
   "cell_type": "code",
   "execution_count": 42,
   "id": "noted-constitutional",
   "metadata": {
    "ExecuteTime": {
     "end_time": "2021-02-06T04:45:22.337212Z",
     "start_time": "2021-02-06T04:45:22.323199Z"
    },
    "hidden": true
   },
   "outputs": [
    {
     "data": {
      "text/plain": [
       "KOSPI     5464\n",
       "KOSDAQ    1504\n",
       "KONEX      142\n",
       "Name: Market, dtype: int64"
      ]
     },
     "execution_count": 42,
     "metadata": {},
     "output_type": "execute_result"
    }
   ],
   "source": [
    "df[\"Market\"].value_counts()"
   ]
  },
  {
   "cell_type": "code",
   "execution_count": 43,
   "id": "simplified-electronics",
   "metadata": {
    "ExecuteTime": {
     "end_time": "2021-02-06T04:45:22.427294Z",
     "start_time": "2021-02-06T04:45:22.338213Z"
    },
    "hidden": true
   },
   "outputs": [
    {
     "data": {
      "text/plain": [
       "<AxesSubplot:>"
      ]
     },
     "execution_count": 43,
     "metadata": {},
     "output_type": "execute_result"
    },
    {
     "data": {
      "image/png": "[encoded data removed]",
      "text/plain": [
       "<Figure size 432x288 with 1 Axes>"
      ]
     },
     "metadata": {
      "image/png": {
       "height": 249,
       "width": 396
      }
     },
     "output_type": "display_data"
    }
   ],
   "source": [
    "df[\"Market\"].value_counts().plot(kind='barh')"
   ]
  },
  {
   "cell_type": "code",
   "execution_count": 44,
   "id": "sticky-plane",
   "metadata": {
    "ExecuteTime": {
     "end_time": "2021-02-06T04:45:22.517376Z",
     "start_time": "2021-02-06T04:45:22.428295Z"
    },
    "hidden": true
   },
   "outputs": [
    {
     "data": {
      "text/plain": [
       "<AxesSubplot:xlabel='Market', ylabel='count'>"
      ]
     },
     "execution_count": 44,
     "metadata": {},
     "output_type": "execute_result"
    },
    {
     "data": {
      "image/png": "[encoded data removed]",
      "text/plain": [
       "<Figure size 432x288 with 1 Axes>"
      ]
     },
     "metadata": {
      "image/png": {
       "height": 265,
       "width": 394
      }
     },
     "output_type": "display_data"
    }
   ],
   "source": [
    "sns.countplot(data=df, x=\"Market\")"
   ]
  },
  {
   "cell_type": "markdown",
   "id": "boxed-portrait",
   "metadata": {},
   "source": [
    "# 10강"
   ]
  },
  {
   "cell_type": "code",
   "execution_count": 48,
   "id": "studied-angola",
   "metadata": {
    "ExecuteTime": {
     "end_time": "2021-02-06T04:46:21.517135Z",
     "start_time": "2021-02-06T04:46:21.506124Z"
    }
   },
   "outputs": [],
   "source": [
    "sector_count_top = df[\"Sector\"].value_counts().head(30)"
   ]
  },
  {
   "cell_type": "code",
   "execution_count": 55,
   "id": "million-positive",
   "metadata": {
    "ExecuteTime": {
     "end_time": "2021-02-06T04:47:19.182760Z",
     "start_time": "2021-02-06T04:47:18.908510Z"
    }
   },
   "outputs": [
    {
     "data": {
      "text/plain": [
       "<AxesSubplot:title={'center':'Sector 빈도수'}>"
      ]
     },
     "execution_count": 55,
     "metadata": {},
     "output_type": "execute_result"
    },
    {
     "data": {
      "image/png": "[encoded data removed]",
      "text/plain": [
       "<Figure size 720x576 with 1 Axes>"
      ]
     },
     "metadata": {
      "image/png": {
       "height": 483,
       "width": 859
      }
     },
     "output_type": "display_data"
    }
   ],
   "source": [
    "sector_count_top.plot.barh(figsize=(10,8), title=\"Sector 빈도수\")"
   ]
  },
  {
   "cell_type": "code",
   "execution_count": 59,
   "id": "useful-chain",
   "metadata": {
    "ExecuteTime": {
     "end_time": "2021-02-06T04:48:41.575486Z",
     "start_time": "2021-02-06T04:48:41.552465Z"
    }
   },
   "outputs": [
    {
     "data": {
      "text/html": [
       "<div>\n",
       "<style scoped>\n",
       "    .dataframe tbody tr th:only-of-type {\n",
       "        vertical-align: middle;\n",
       "    }\n",
       "\n",
       "    .dataframe tbody tr th {\n",
       "        vertical-align: top;\n",
       "    }\n",
       "\n",
       "    .dataframe thead th {\n",
       "        text-align: right;\n",
       "    }\n",
       "</style>\n",
       "<table border=\"1\" class=\"dataframe\">\n",
       "  <thead>\n",
       "    <tr style=\"text-align: right;\">\n",
       "      <th></th>\n",
       "      <th>Symbol</th>\n",
       "      <th>Market</th>\n",
       "      <th>Name</th>\n",
       "      <th>Sector</th>\n",
       "      <th>Industry</th>\n",
       "      <th>ListingDate</th>\n",
       "      <th>SettleMonth</th>\n",
       "      <th>Representative</th>\n",
       "      <th>HomePage</th>\n",
       "      <th>Region</th>\n",
       "      <th>ListingYear</th>\n",
       "    </tr>\n",
       "  </thead>\n",
       "  <tbody>\n",
       "    <tr>\n",
       "      <th>0</th>\n",
       "      <td>060310</td>\n",
       "      <td>KOSDAQ</td>\n",
       "      <td>3S</td>\n",
       "      <td>특수 목적용 기계 제조업</td>\n",
       "      <td>반도체 웨이퍼 캐리어</td>\n",
       "      <td>2002-04-23</td>\n",
       "      <td>03월</td>\n",
       "      <td>박종익, 김세완 (각자 대표이사)</td>\n",
       "      <td>http://www.3sref.com</td>\n",
       "      <td>서울특별시</td>\n",
       "      <td>2002.0</td>\n",
       "    </tr>\n",
       "    <tr>\n",
       "      <th>2</th>\n",
       "      <td>006840</td>\n",
       "      <td>KOSPI</td>\n",
       "      <td>AK홀딩스</td>\n",
       "      <td>기타 금융업</td>\n",
       "      <td>지주사업</td>\n",
       "      <td>1999-08-11</td>\n",
       "      <td>12월</td>\n",
       "      <td>채형석, 이석주(각자 대표이사)</td>\n",
       "      <td>http://www.aekyunggroup.co.kr</td>\n",
       "      <td>서울특별시</td>\n",
       "      <td>1999.0</td>\n",
       "    </tr>\n",
       "    <tr>\n",
       "      <th>3</th>\n",
       "      <td>054620</td>\n",
       "      <td>KOSDAQ</td>\n",
       "      <td>APS홀딩스</td>\n",
       "      <td>기타 금융업</td>\n",
       "      <td>인터넷 트래픽 솔루션</td>\n",
       "      <td>2001-12-04</td>\n",
       "      <td>12월</td>\n",
       "      <td>정기로</td>\n",
       "      <td>http://www.apsholdings.co.kr</td>\n",
       "      <td>경기도</td>\n",
       "      <td>2001.0</td>\n",
       "    </tr>\n",
       "    <tr>\n",
       "      <th>4</th>\n",
       "      <td>265520</td>\n",
       "      <td>KOSDAQ</td>\n",
       "      <td>AP시스템</td>\n",
       "      <td>특수 목적용 기계 제조업</td>\n",
       "      <td>디스플레이 제조 장비</td>\n",
       "      <td>2017-04-07</td>\n",
       "      <td>12월</td>\n",
       "      <td>김영주</td>\n",
       "      <td>http://www.apsystems.co.kr</td>\n",
       "      <td>경기도</td>\n",
       "      <td>2017.0</td>\n",
       "    </tr>\n",
       "    <tr>\n",
       "      <th>5</th>\n",
       "      <td>211270</td>\n",
       "      <td>KOSDAQ</td>\n",
       "      <td>AP위성</td>\n",
       "      <td>통신 및 방송 장비 제조업</td>\n",
       "      <td>위성통신 단말기</td>\n",
       "      <td>2016-03-04</td>\n",
       "      <td>12월</td>\n",
       "      <td>류장수</td>\n",
       "      <td>http://www.apsi.co.kr</td>\n",
       "      <td>서울특별시</td>\n",
       "      <td>2016.0</td>\n",
       "    </tr>\n",
       "    <tr>\n",
       "      <th>...</th>\n",
       "      <td>...</td>\n",
       "      <td>...</td>\n",
       "      <td>...</td>\n",
       "      <td>...</td>\n",
       "      <td>...</td>\n",
       "      <td>...</td>\n",
       "      <td>...</td>\n",
       "      <td>...</td>\n",
       "      <td>...</td>\n",
       "      <td>...</td>\n",
       "      <td>...</td>\n",
       "    </tr>\n",
       "    <tr>\n",
       "      <th>7098</th>\n",
       "      <td>145020</td>\n",
       "      <td>KOSDAQ</td>\n",
       "      <td>휴젤</td>\n",
       "      <td>기초 의약물질 및 생물학적 제제 제조업</td>\n",
       "      <td>보툴리눔톡신, 필러</td>\n",
       "      <td>2015-12-24</td>\n",
       "      <td>12월</td>\n",
       "      <td>손지훈</td>\n",
       "      <td>http://www.hugel.co.kr</td>\n",
       "      <td>강원도</td>\n",
       "      <td>2015.0</td>\n",
       "    </tr>\n",
       "    <tr>\n",
       "      <th>7099</th>\n",
       "      <td>069260</td>\n",
       "      <td>KOSPI</td>\n",
       "      <td>휴켐스</td>\n",
       "      <td>기타 화학제품 제조업</td>\n",
       "      <td>화합물,화학제품 제조</td>\n",
       "      <td>2002-10-07</td>\n",
       "      <td>12월</td>\n",
       "      <td>신진용</td>\n",
       "      <td>http://www.huchems.com</td>\n",
       "      <td>서울특별시</td>\n",
       "      <td>2002.0</td>\n",
       "    </tr>\n",
       "    <tr>\n",
       "      <th>7100</th>\n",
       "      <td>024060</td>\n",
       "      <td>KOSDAQ</td>\n",
       "      <td>흥구석유</td>\n",
       "      <td>기타 전문 도매업</td>\n",
       "      <td>휘발유등</td>\n",
       "      <td>1994-12-07</td>\n",
       "      <td>12월</td>\n",
       "      <td>김상우</td>\n",
       "      <td>NaN</td>\n",
       "      <td>대구광역시</td>\n",
       "      <td>1994.0</td>\n",
       "    </tr>\n",
       "    <tr>\n",
       "      <th>7101</th>\n",
       "      <td>010240</td>\n",
       "      <td>KOSDAQ</td>\n",
       "      <td>흥국</td>\n",
       "      <td>특수 목적용 기계 제조업</td>\n",
       "      <td>굴삭기 Roller 및 형단조품</td>\n",
       "      <td>2009-05-12</td>\n",
       "      <td>12월</td>\n",
       "      <td>류명준</td>\n",
       "      <td>http://www.heungkuk.co.kr</td>\n",
       "      <td>충청남도</td>\n",
       "      <td>2009.0</td>\n",
       "    </tr>\n",
       "    <tr>\n",
       "      <th>7109</th>\n",
       "      <td>238490</td>\n",
       "      <td>KOSDAQ</td>\n",
       "      <td>힘스</td>\n",
       "      <td>특수 목적용 기계 제조업</td>\n",
       "      <td>OLED Mask 인장기, OLED Mask 검사기 등</td>\n",
       "      <td>2017-07-20</td>\n",
       "      <td>12월</td>\n",
       "      <td>김주환</td>\n",
       "      <td>http://www.hims.co.kr</td>\n",
       "      <td>인천광역시</td>\n",
       "      <td>2017.0</td>\n",
       "    </tr>\n",
       "  </tbody>\n",
       "</table>\n",
       "<p>1674 rows × 11 columns</p>\n",
       "</div>"
      ],
      "text/plain": [
       "      Symbol  Market    Name                 Sector  \\\n",
       "0     060310  KOSDAQ      3S          특수 목적용 기계 제조업   \n",
       "2     006840   KOSPI   AK홀딩스                 기타 금융업   \n",
       "3     054620  KOSDAQ  APS홀딩스                 기타 금융업   \n",
       "4     265520  KOSDAQ   AP시스템          특수 목적용 기계 제조업   \n",
       "5     211270  KOSDAQ    AP위성         통신 및 방송 장비 제조업   \n",
       "...      ...     ...     ...                    ...   \n",
       "7098  145020  KOSDAQ      휴젤  기초 의약물질 및 생물학적 제제 제조업   \n",
       "7099  069260   KOSPI     휴켐스            기타 화학제품 제조업   \n",
       "7100  024060  KOSDAQ    흥구석유              기타 전문 도매업   \n",
       "7101  010240  KOSDAQ      흥국          특수 목적용 기계 제조업   \n",
       "7109  238490  KOSDAQ      힘스          특수 목적용 기계 제조업   \n",
       "\n",
       "                            Industry ListingDate SettleMonth  \\\n",
       "0                        반도체 웨이퍼 캐리어  2002-04-23         03월   \n",
       "2                               지주사업  1999-08-11         12월   \n",
       "3                        인터넷 트래픽 솔루션  2001-12-04         12월   \n",
       "4                        디스플레이 제조 장비  2017-04-07         12월   \n",
       "5                           위성통신 단말기  2016-03-04         12월   \n",
       "...                              ...         ...         ...   \n",
       "7098                      보툴리눔톡신, 필러  2015-12-24         12월   \n",
       "7099                     화합물,화학제품 제조  2002-10-07         12월   \n",
       "7100                            휘발유등  1994-12-07         12월   \n",
       "7101               굴삭기 Roller 및 형단조품  2009-05-12         12월   \n",
       "7109  OLED Mask 인장기, OLED Mask 검사기 등  2017-07-20         12월   \n",
       "\n",
       "          Representative                       HomePage Region  ListingYear  \n",
       "0     박종익, 김세완 (각자 대표이사)           http://www.3sref.com  서울특별시       2002.0  \n",
       "2      채형석, 이석주(각자 대표이사)  http://www.aekyunggroup.co.kr  서울특별시       1999.0  \n",
       "3                    정기로   http://www.apsholdings.co.kr    경기도       2001.0  \n",
       "4                    김영주     http://www.apsystems.co.kr    경기도       2017.0  \n",
       "5                    류장수          http://www.apsi.co.kr  서울특별시       2016.0  \n",
       "...                  ...                            ...    ...          ...  \n",
       "7098                 손지훈         http://www.hugel.co.kr    강원도       2015.0  \n",
       "7099                 신진용         http://www.huchems.com  서울특별시       2002.0  \n",
       "7100                 김상우                            NaN  대구광역시       1994.0  \n",
       "7101                 류명준      http://www.heungkuk.co.kr   충청남도       2009.0  \n",
       "7109                 김주환          http://www.hims.co.kr  인천광역시       2017.0  \n",
       "\n",
       "[1674 rows x 11 columns]"
      ]
     },
     "execution_count": 59,
     "metadata": {},
     "output_type": "execute_result"
    }
   ],
   "source": [
    "df[df[\"Sector\"].isin(sector_count_top.index)]"
   ]
  },
  {
   "cell_type": "code",
   "execution_count": 63,
   "id": "enormous-method",
   "metadata": {
    "ExecuteTime": {
     "end_time": "2021-02-06T05:02:40.393901Z",
     "start_time": "2021-02-06T05:02:40.153684Z"
    }
   },
   "outputs": [
    {
     "data": {
      "text/plain": [
       "<AxesSubplot:xlabel='count', ylabel='Sector'>"
      ]
     },
     "execution_count": 63,
     "metadata": {},
     "output_type": "execute_result"
    },
    {
     "data": {
      "image/png": "[encoded data removed]",
      "text/plain": [
       "<Figure size 432x288 with 1 Axes>"
      ]
     },
     "metadata": {
      "image/png": {
       "height": 266,
       "width": 652
      }
     },
     "output_type": "display_data"
    }
   ],
   "source": [
    "sns.countplot(data=df[df[\"Sector\"].isin(sector_count_top.index)],\n",
    "              y=\"Sector\", order=sector_count_top.index, palette=\"Blues_r\")"
   ]
  },
  {
   "cell_type": "code",
   "execution_count": 61,
   "id": "fossil-recorder",
   "metadata": {
    "ExecuteTime": {
     "end_time": "2021-02-06T04:49:32.868513Z",
     "start_time": "2021-02-06T04:49:32.847495Z"
    }
   },
   "outputs": [
    {
     "data": {
      "text/html": [
       "<div>\n",
       "<style scoped>\n",
       "    .dataframe tbody tr th:only-of-type {\n",
       "        vertical-align: middle;\n",
       "    }\n",
       "\n",
       "    .dataframe tbody tr th {\n",
       "        vertical-align: top;\n",
       "    }\n",
       "\n",
       "    .dataframe thead th {\n",
       "        text-align: right;\n",
       "    }\n",
       "</style>\n",
       "<table border=\"1\" class=\"dataframe\">\n",
       "  <thead>\n",
       "    <tr style=\"text-align: right;\">\n",
       "      <th></th>\n",
       "      <th>Symbol</th>\n",
       "      <th>Market</th>\n",
       "      <th>Name</th>\n",
       "      <th>Sector</th>\n",
       "      <th>Industry</th>\n",
       "      <th>ListingDate</th>\n",
       "      <th>SettleMonth</th>\n",
       "      <th>Representative</th>\n",
       "      <th>HomePage</th>\n",
       "      <th>Region</th>\n",
       "      <th>ListingYear</th>\n",
       "    </tr>\n",
       "  </thead>\n",
       "  <tbody>\n",
       "    <tr>\n",
       "      <th>0</th>\n",
       "      <td>060310</td>\n",
       "      <td>KOSDAQ</td>\n",
       "      <td>3S</td>\n",
       "      <td>특수 목적용 기계 제조업</td>\n",
       "      <td>반도체 웨이퍼 캐리어</td>\n",
       "      <td>2002-04-23</td>\n",
       "      <td>03월</td>\n",
       "      <td>박종익, 김세완 (각자 대표이사)</td>\n",
       "      <td>http://www.3sref.com</td>\n",
       "      <td>서울특별시</td>\n",
       "      <td>2002.0</td>\n",
       "    </tr>\n",
       "    <tr>\n",
       "      <th>4</th>\n",
       "      <td>265520</td>\n",
       "      <td>KOSDAQ</td>\n",
       "      <td>AP시스템</td>\n",
       "      <td>특수 목적용 기계 제조업</td>\n",
       "      <td>디스플레이 제조 장비</td>\n",
       "      <td>2017-04-07</td>\n",
       "      <td>12월</td>\n",
       "      <td>김영주</td>\n",
       "      <td>http://www.apsystems.co.kr</td>\n",
       "      <td>경기도</td>\n",
       "      <td>2017.0</td>\n",
       "    </tr>\n",
       "    <tr>\n",
       "      <th>80</th>\n",
       "      <td>068790</td>\n",
       "      <td>KOSDAQ</td>\n",
       "      <td>DMS</td>\n",
       "      <td>특수 목적용 기계 제조업</td>\n",
       "      <td>LCD 제조장비</td>\n",
       "      <td>2004-10-01</td>\n",
       "      <td>12월</td>\n",
       "      <td>박용석</td>\n",
       "      <td>http://www.dms21.co.kr</td>\n",
       "      <td>경기도</td>\n",
       "      <td>2004.0</td>\n",
       "    </tr>\n",
       "    <tr>\n",
       "      <th>100</th>\n",
       "      <td>083450</td>\n",
       "      <td>KOSDAQ</td>\n",
       "      <td>GST</td>\n",
       "      <td>특수 목적용 기계 제조업</td>\n",
       "      <td>GasScrubber,Chiller</td>\n",
       "      <td>2006-02-01</td>\n",
       "      <td>12월</td>\n",
       "      <td>김덕준</td>\n",
       "      <td>http://www.gst-in.com</td>\n",
       "      <td>경기도</td>\n",
       "      <td>2006.0</td>\n",
       "    </tr>\n",
       "    <tr>\n",
       "      <th>124</th>\n",
       "      <td>078150</td>\n",
       "      <td>KOSDAQ</td>\n",
       "      <td>HB테크놀러지</td>\n",
       "      <td>특수 목적용 기계 제조업</td>\n",
       "      <td>TFT-LCD검사장비</td>\n",
       "      <td>2004-12-08</td>\n",
       "      <td>12월</td>\n",
       "      <td>문성준</td>\n",
       "      <td>http://www.ncbnet.co.kr</td>\n",
       "      <td>충청남도</td>\n",
       "      <td>2004.0</td>\n",
       "    </tr>\n",
       "    <tr>\n",
       "      <th>...</th>\n",
       "      <td>...</td>\n",
       "      <td>...</td>\n",
       "      <td>...</td>\n",
       "      <td>...</td>\n",
       "      <td>...</td>\n",
       "      <td>...</td>\n",
       "      <td>...</td>\n",
       "      <td>...</td>\n",
       "      <td>...</td>\n",
       "      <td>...</td>\n",
       "      <td>...</td>\n",
       "    </tr>\n",
       "    <tr>\n",
       "      <th>7069</th>\n",
       "      <td>010660</td>\n",
       "      <td>KOSPI</td>\n",
       "      <td>화천기계</td>\n",
       "      <td>특수 목적용 기계 제조업</td>\n",
       "      <td>선반,밀링,연삭기,CNC선반,CNC밀링,머시닝센타 제조,판매/자동차부품(실린더블럭) 제조</td>\n",
       "      <td>1988-12-12</td>\n",
       "      <td>12월</td>\n",
       "      <td>권영열, 권형석</td>\n",
       "      <td>http://www.hwacheon.co.kr</td>\n",
       "      <td>서울특별시</td>\n",
       "      <td>1988.0</td>\n",
       "    </tr>\n",
       "    <tr>\n",
       "      <th>7070</th>\n",
       "      <td>000850</td>\n",
       "      <td>KOSPI</td>\n",
       "      <td>화천기공</td>\n",
       "      <td>특수 목적용 기계 제조업</td>\n",
       "      <td>CNC선반,CNC밀링,연마기(금속공작기계),MC공작기계,COPY밀링기계,주방품 제조,도매</td>\n",
       "      <td>1999-11-18</td>\n",
       "      <td>12월</td>\n",
       "      <td>각자대표이사 권영두, 권영렬</td>\n",
       "      <td>http://www.hwacheon.com</td>\n",
       "      <td>광주광역시</td>\n",
       "      <td>1999.0</td>\n",
       "    </tr>\n",
       "    <tr>\n",
       "      <th>7086</th>\n",
       "      <td>090710</td>\n",
       "      <td>KOSDAQ</td>\n",
       "      <td>휴림로봇</td>\n",
       "      <td>특수 목적용 기계 제조업</td>\n",
       "      <td>제조업용로봇및서비스로봇</td>\n",
       "      <td>2006-12-05</td>\n",
       "      <td>12월</td>\n",
       "      <td>정광원</td>\n",
       "      <td>http://www.dstrobot.com</td>\n",
       "      <td>충청남도</td>\n",
       "      <td>2006.0</td>\n",
       "    </tr>\n",
       "    <tr>\n",
       "      <th>7101</th>\n",
       "      <td>010240</td>\n",
       "      <td>KOSDAQ</td>\n",
       "      <td>흥국</td>\n",
       "      <td>특수 목적용 기계 제조업</td>\n",
       "      <td>굴삭기 Roller 및 형단조품</td>\n",
       "      <td>2009-05-12</td>\n",
       "      <td>12월</td>\n",
       "      <td>류명준</td>\n",
       "      <td>http://www.heungkuk.co.kr</td>\n",
       "      <td>충청남도</td>\n",
       "      <td>2009.0</td>\n",
       "    </tr>\n",
       "    <tr>\n",
       "      <th>7109</th>\n",
       "      <td>238490</td>\n",
       "      <td>KOSDAQ</td>\n",
       "      <td>힘스</td>\n",
       "      <td>특수 목적용 기계 제조업</td>\n",
       "      <td>OLED Mask 인장기, OLED Mask 검사기 등</td>\n",
       "      <td>2017-07-20</td>\n",
       "      <td>12월</td>\n",
       "      <td>김주환</td>\n",
       "      <td>http://www.hims.co.kr</td>\n",
       "      <td>인천광역시</td>\n",
       "      <td>2017.0</td>\n",
       "    </tr>\n",
       "  </tbody>\n",
       "</table>\n",
       "<p>142 rows × 11 columns</p>\n",
       "</div>"
      ],
      "text/plain": [
       "      Symbol  Market     Name         Sector  \\\n",
       "0     060310  KOSDAQ       3S  특수 목적용 기계 제조업   \n",
       "4     265520  KOSDAQ    AP시스템  특수 목적용 기계 제조업   \n",
       "80    068790  KOSDAQ      DMS  특수 목적용 기계 제조업   \n",
       "100   083450  KOSDAQ      GST  특수 목적용 기계 제조업   \n",
       "124   078150  KOSDAQ  HB테크놀러지  특수 목적용 기계 제조업   \n",
       "...      ...     ...      ...            ...   \n",
       "7069  010660   KOSPI     화천기계  특수 목적용 기계 제조업   \n",
       "7070  000850   KOSPI     화천기공  특수 목적용 기계 제조업   \n",
       "7086  090710  KOSDAQ     휴림로봇  특수 목적용 기계 제조업   \n",
       "7101  010240  KOSDAQ       흥국  특수 목적용 기계 제조업   \n",
       "7109  238490  KOSDAQ       힘스  특수 목적용 기계 제조업   \n",
       "\n",
       "                                               Industry ListingDate  \\\n",
       "0                                           반도체 웨이퍼 캐리어  2002-04-23   \n",
       "4                                           디스플레이 제조 장비  2017-04-07   \n",
       "80                                             LCD 제조장비  2004-10-01   \n",
       "100                                 GasScrubber,Chiller  2006-02-01   \n",
       "124                                         TFT-LCD검사장비  2004-12-08   \n",
       "...                                                 ...         ...   \n",
       "7069  선반,밀링,연삭기,CNC선반,CNC밀링,머시닝센타 제조,판매/자동차부품(실린더블럭) 제조  1988-12-12   \n",
       "7070  CNC선반,CNC밀링,연마기(금속공작기계),MC공작기계,COPY밀링기계,주방품 제조,도매  1999-11-18   \n",
       "7086                                       제조업용로봇및서비스로봇  2006-12-05   \n",
       "7101                                  굴삭기 Roller 및 형단조품  2009-05-12   \n",
       "7109                     OLED Mask 인장기, OLED Mask 검사기 등  2017-07-20   \n",
       "\n",
       "     SettleMonth      Representative                    HomePage Region  \\\n",
       "0            03월  박종익, 김세완 (각자 대표이사)        http://www.3sref.com  서울특별시   \n",
       "4            12월                 김영주  http://www.apsystems.co.kr    경기도   \n",
       "80           12월                 박용석      http://www.dms21.co.kr    경기도   \n",
       "100          12월                 김덕준       http://www.gst-in.com    경기도   \n",
       "124          12월                 문성준     http://www.ncbnet.co.kr   충청남도   \n",
       "...          ...                 ...                         ...    ...   \n",
       "7069         12월            권영열, 권형석   http://www.hwacheon.co.kr  서울특별시   \n",
       "7070         12월     각자대표이사 권영두, 권영렬     http://www.hwacheon.com  광주광역시   \n",
       "7086         12월                 정광원     http://www.dstrobot.com   충청남도   \n",
       "7101         12월                 류명준   http://www.heungkuk.co.kr   충청남도   \n",
       "7109         12월                 김주환       http://www.hims.co.kr  인천광역시   \n",
       "\n",
       "      ListingYear  \n",
       "0          2002.0  \n",
       "4          2017.0  \n",
       "80         2004.0  \n",
       "100        2006.0  \n",
       "124        2004.0  \n",
       "...           ...  \n",
       "7069       1988.0  \n",
       "7070       1999.0  \n",
       "7086       2006.0  \n",
       "7101       2009.0  \n",
       "7109       2017.0  \n",
       "\n",
       "[142 rows x 11 columns]"
      ]
     },
     "execution_count": 61,
     "metadata": {},
     "output_type": "execute_result"
    }
   ],
   "source": [
    "df[df[\"Sector\"] == \"특수 목적용 기계 제조업\"]"
   ]
  },
  {
   "cell_type": "code",
   "execution_count": null,
   "id": "serious-bookmark",
   "metadata": {},
   "outputs": [],
   "source": []
  }
 ],
 "metadata": {
  "kernelspec": {
   "display_name": "tensorflow2_env",
   "language": "python",
   "name": "tensorflow2_env"
  },
  "language_info": {
   "codemirror_mode": {
    "name": "ipython",
    "version": 3
   },
   "file_extension": ".py",
   "mimetype": "text/x-python",
   "name": "python",
   "nbconvert_exporter": "python",
   "pygments_lexer": "ipython3",
   "version": "3.8.5"
  },
  "varInspector": {
   "cols": {
    "lenName": 16,
    "lenType": 16,
    "lenVar": 40
   },
   "kernels_config": {
    "python": {
     "delete_cmd_postfix": "",
     "delete_cmd_prefix": "del ",
     "library": "var_list.py",
     "varRefreshCmd": "print(var_dic_list())"
    },
    "r": {
     "delete_cmd_postfix": ") ",
     "delete_cmd_prefix": "rm(",
     "library": "var_list.r",
     "varRefreshCmd": "cat(var_dic_list()) "
    }
   },
   "types_to_exclude": [
    "module",
    "function",
    "builtin_function_or_method",
    "instance",
    "_Feature"
   ],
   "window_display": false
  }
 },
 "nbformat": 4,
 "nbformat_minor": 5
}
