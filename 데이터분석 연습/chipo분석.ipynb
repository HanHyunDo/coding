{
  "nbformat": 4,
  "nbformat_minor": 0,
  "metadata": {
    "colab": {
      "name": "Untitled0.ipynb",
      "private_outputs": true,
      "provenance": [],
      "machine_shape": "hm"
    },
    "kernelspec": {
      "name": "python3",
      "display_name": "Python 3"
    },
    "accelerator": "GPU"
  },
  "cells": [
    {
      "cell_type": "code",
      "metadata": {
        "id": "aspZqCDV-DZ5"
      },
      "source": [
        "import pandas as pd\r\n",
        "\r\n",
        "file_path = '/content/drive/MyDrive/Colab Notebooks/데이터분석/data/chipotle.tsv'\r\n",
        "chipo = pd.read_csv(file_path, sep = '\\t')"
      ],
      "execution_count": null,
      "outputs": []
    },
    {
      "cell_type": "code",
      "metadata": {
        "id": "3sKAuBtV-jfZ"
      },
      "source": [
        "chipo.head()"
      ],
      "execution_count": null,
      "outputs": []
    },
    {
      "cell_type": "code",
      "metadata": {
        "id": "Z2caFURR-kzc"
      },
      "source": [
        "# 제일 먼저 해야하는것 기초 정보 살펴보기\r\n",
        "print(chipo.shape)\r\n",
        "print('--------------------------')\r\n",
        "print(chipo.info())"
      ],
      "execution_count": null,
      "outputs": []
    },
    {
      "cell_type": "code",
      "metadata": {
        "id": "1Fg-VGwm-5wZ"
      },
      "source": [
        "chipo.describe()"
      ],
      "execution_count": null,
      "outputs": []
    },
    {
      "cell_type": "code",
      "metadata": {
        "id": "JXMnE-ed_SsQ"
      },
      "source": [
        "chipo['order_id'] = chipo['order_id'].astype(str) # order_id는 숫자의 의미를 가지지 않기 때문에 str로 변환\r\n",
        "print(chipo.describe())"
      ],
      "execution_count": null,
      "outputs": []
    },
    {
      "cell_type": "code",
      "metadata": {
        "id": "vOlVt8eRZQvL"
      },
      "source": [
        "print(len(chipo['order_id'].unique())) # order_id의 개수를 출력합니다.\r\n",
        "print(len(chipo['item_name'].unique())) # item_name의 개수를 출력합니다."
      ],
      "execution_count": null,
      "outputs": []
    },
    {
      "cell_type": "code",
      "metadata": {
        "id": "qu1PxRPmZeHW"
      },
      "source": [
        "len(chipo['item_name'].value_counts()) # 위와 동일"
      ],
      "execution_count": null,
      "outputs": []
    },
    {
      "cell_type": "markdown",
      "metadata": {
        "id": "QtXD6hFsdJm-"
      },
      "source": [
        "위에서는 데이터 타입 확인 하는 것들"
      ]
    },
    {
      "cell_type": "code",
      "metadata": {
        "id": "tlvGlBiLZvMf"
      },
      "source": [
        "# 가장 많이 주문한 item : top 10 출력\r\n",
        "item_count = chipo['item_name'].value_counts()[:10]\r\n",
        "for idx, (val, cnt) in enumerate(item_count.iteritems()):\r\n",
        "    print('Top', idx, ':', val, cnt)"
      ],
      "execution_count": null,
      "outputs": []
    },
    {
      "cell_type": "code",
      "metadata": {
        "id": "ker6osj_dmlb"
      },
      "source": [
        "chipo['item_name'].value_counts().index.tolist()[0]"
      ],
      "execution_count": null,
      "outputs": []
    },
    {
      "cell_type": "code",
      "metadata": {
        "id": "HWLiIxSqeDM1"
      },
      "source": [
        "# item당 주문 개수를 출력합니다\r\n",
        "order_count = chipo.groupby('item_name')['order_id'].count()\r\n",
        "order_count[:10]"
      ],
      "execution_count": null,
      "outputs": []
    },
    {
      "cell_type": "code",
      "metadata": {
        "id": "jJI8oc19eY4B"
      },
      "source": [
        "chipo.head()"
      ],
      "execution_count": null,
      "outputs": []
    },
    {
      "cell_type": "code",
      "metadata": {
        "id": "KHH4xIN1ewT1"
      },
      "source": [
        "# item당 주문 총량을 출력합니다.\r\n",
        "item_quantity = chipo.groupby('item_name')['quantity'].sum()\r\n",
        "item_quantity[:10]"
      ],
      "execution_count": null,
      "outputs": []
    },
    {
      "cell_type": "markdown",
      "metadata": {
        "id": "5qJvZ6m-fMXr"
      },
      "source": [
        "# 시각화"
      ]
    },
    {
      "cell_type": "code",
      "metadata": {
        "id": "7d3ETYFrfHOL"
      },
      "source": [
        "%matplotlib inline\r\n",
        "import numpy as np\r\n",
        "import matplotlib.pyplot as plt\r\n",
        "\r\n",
        "item_name_list = item_quantity.index.tolist()\r\n",
        "x_pos = np.arange(len(item_name_list))\r\n",
        "order_cnt = item_quantity.values.tolist()\r\n",
        "\r\n",
        "plt.bar(x_pos, order_cnt, align='center')\r\n",
        "plt.ylabel('ordered_item_count')\r\n",
        "plt.xlabel('Distribution of all orderd item')\r\n",
        "\r\n",
        "plt.show()"
      ],
      "execution_count": null,
      "outputs": []
    },
    {
      "cell_type": "code",
      "metadata": {
        "id": "lH34eIXKf3LQ"
      },
      "source": [
        "x_pos"
      ],
      "execution_count": null,
      "outputs": []
    },
    {
      "cell_type": "markdown",
      "metadata": {
        "id": "7UdSqL-vgUbm"
      },
      "source": [
        "# 데이터 전처리"
      ]
    },
    {
      "cell_type": "code",
      "metadata": {
        "id": "kGkK1a1LgW1G"
      },
      "source": [
        "print(chipo.info())\r\n",
        "print('-----------')\r\n",
        "print(chipo['item_price'])"
      ],
      "execution_count": null,
      "outputs": []
    },
    {
      "cell_type": "code",
      "metadata": {
        "id": "ciDWmN8wgjd2"
      },
      "source": [
        "# column 단위 데이터에 apply 함수로 전처리를 적용\r\n",
        "chipo['item_price'] = chipo['item_price'].apply(lambda x : float(x[1:]))\r\n",
        "chipo.describe()"
      ],
      "execution_count": null,
      "outputs": []
    },
    {
      "cell_type": "markdown",
      "metadata": {
        "id": "wjLuKROihYQn"
      },
      "source": [
        "# 데이터 분석 연습\r\n",
        "- 주문당 평균 계산금액 출력하기\r\n",
        "- 한 주문에 10달러 이상 사용한 주문의 id를 출력하기\r\n",
        "- 각 아이템의 가격 구하기\r\n",
        "- 가장 비싼 주문에서 item이 몇개 팔렸는지 구하기\r\n",
        "- 'Veggle Salad Bowl'이 몇 번 주문되었는지 구하기\r\n",
        "- 'Chicken Bowl'을 2개 이상 주문한 주문 횟수 구하기"
      ]
    },
    {
      "cell_type": "code",
      "metadata": {
        "id": "Ykp4X7hUg3AR"
      },
      "source": [
        "chipo.head()"
      ],
      "execution_count": null,
      "outputs": []
    },
    {
      "cell_type": "code",
      "metadata": {
        "id": "ig5Xurcph0jc"
      },
      "source": [
        "# 주문당 평균 계산금액 출력하기\r\n",
        "chipo.groupby('order_id')['item_price'].sum().mean()"
      ],
      "execution_count": null,
      "outputs": []
    },
    {
      "cell_type": "code",
      "metadata": {
        "id": "oEeTJoCWh-uP"
      },
      "source": [
        "# 한 주문에 10달러 이상 사용한 주문의 id를 출력하기\r\n",
        "chipo['order_id'] = chipo['order_id'].astype(int)\r\n",
        "chipo_orderid_group = chipo.groupby('order_id').sum()\r\n",
        "results = chipo_orderid_group[chipo_orderid_group.item_price >= 10]\r\n",
        "\r\n",
        "print(results[:10])\r\n",
        "print(results.index.values)"
      ],
      "execution_count": null,
      "outputs": []
    },
    {
      "cell_type": "code",
      "metadata": {
        "id": "IVDujz5Rr6Tr"
      },
      "source": [
        "chipo_orderid_group.item_price"
      ],
      "execution_count": null,
      "outputs": []
    },
    {
      "cell_type": "code",
      "metadata": {
        "id": "sDA8fWp0i1Ir"
      },
      "source": [
        "# 각 아이템의 가격 구하기\r\n",
        "chipo_one_item = chipo[chipo.quantity == 1]\r\n",
        "price_per_item = chipo_one_item.groupby('item_name').min()\r\n",
        "price_per_item.sort_values(by='item_price', ascending=False)"
      ],
      "execution_count": null,
      "outputs": []
    },
    {
      "cell_type": "code",
      "metadata": {
        "id": "AgMV524KjaoV"
      },
      "source": [
        "# 가장 비싼 주문에서 item이 몇개 팔렸는지 구하기\r\n",
        "a = max(chipo.groupby('item_name')['item_price'].mean())\r\n",
        "chipo['item_name'].loc[chipo['item_name'] == 'Bowl']"
      ],
      "execution_count": null,
      "outputs": []
    },
    {
      "cell_type": "code",
      "metadata": {
        "id": "9Qd_ihy9kjym"
      },
      "source": [
        "# 'Veggie Salad Bowl'이 몇 번 주문되었는지 구하기\r\n",
        "\r\n",
        "chipo_salad = chipo[chipo['item_name'] == 'Veggie Salad Bowl']\r\n",
        "chipo_salad = chipo_salad.drop_duplicates(['item_name', 'order_id'])\r\n",
        "\r\n",
        "print(len(chipo_salad))\r\n",
        "chipo_salad.head(5)"
      ],
      "execution_count": null,
      "outputs": []
    },
    {
      "cell_type": "code",
      "metadata": {
        "id": "QDyZayCHyIc8"
      },
      "source": [
        ""
      ],
      "execution_count": null,
      "outputs": []
    }
  ]
}