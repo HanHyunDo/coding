{
 "cells": [
  {
   "cell_type": "code",
   "execution_count": 1,
   "id": "interior-external",
   "metadata": {
    "ExecuteTime": {
     "end_time": "2021-02-08T07:27:10.091352Z",
     "start_time": "2021-02-08T07:27:09.867149Z"
    }
   },
   "outputs": [
    {
     "data": {
      "text/html": [
       "<div>\n",
       "<style scoped>\n",
       "    .dataframe tbody tr th:only-of-type {\n",
       "        vertical-align: middle;\n",
       "    }\n",
       "\n",
       "    .dataframe tbody tr th {\n",
       "        vertical-align: top;\n",
       "    }\n",
       "\n",
       "    .dataframe thead th {\n",
       "        text-align: right;\n",
       "    }\n",
       "</style>\n",
       "<table border=\"1\" class=\"dataframe\">\n",
       "  <thead>\n",
       "    <tr style=\"text-align: right;\">\n",
       "      <th></th>\n",
       "      <th>PassengerId</th>\n",
       "      <th>Survived</th>\n",
       "      <th>Pclass</th>\n",
       "      <th>Name</th>\n",
       "      <th>Sex</th>\n",
       "      <th>Age</th>\n",
       "      <th>SibSp</th>\n",
       "      <th>Parch</th>\n",
       "      <th>Ticket</th>\n",
       "      <th>Fare</th>\n",
       "      <th>Cabin</th>\n",
       "      <th>Embarked</th>\n",
       "    </tr>\n",
       "  </thead>\n",
       "  <tbody>\n",
       "    <tr>\n",
       "      <th>0</th>\n",
       "      <td>1</td>\n",
       "      <td>0</td>\n",
       "      <td>3</td>\n",
       "      <td>Braund, Mr. Owen Harris</td>\n",
       "      <td>male</td>\n",
       "      <td>22.0</td>\n",
       "      <td>1</td>\n",
       "      <td>0</td>\n",
       "      <td>A/5 21171</td>\n",
       "      <td>7.2500</td>\n",
       "      <td>NaN</td>\n",
       "      <td>S</td>\n",
       "    </tr>\n",
       "    <tr>\n",
       "      <th>1</th>\n",
       "      <td>2</td>\n",
       "      <td>1</td>\n",
       "      <td>1</td>\n",
       "      <td>Cumings, Mrs. John Bradley (Florence Briggs Th...</td>\n",
       "      <td>female</td>\n",
       "      <td>38.0</td>\n",
       "      <td>1</td>\n",
       "      <td>0</td>\n",
       "      <td>PC 17599</td>\n",
       "      <td>71.2833</td>\n",
       "      <td>C85</td>\n",
       "      <td>C</td>\n",
       "    </tr>\n",
       "    <tr>\n",
       "      <th>2</th>\n",
       "      <td>3</td>\n",
       "      <td>1</td>\n",
       "      <td>3</td>\n",
       "      <td>Heikkinen, Miss. Laina</td>\n",
       "      <td>female</td>\n",
       "      <td>26.0</td>\n",
       "      <td>0</td>\n",
       "      <td>0</td>\n",
       "      <td>STON/O2. 3101282</td>\n",
       "      <td>7.9250</td>\n",
       "      <td>NaN</td>\n",
       "      <td>S</td>\n",
       "    </tr>\n",
       "    <tr>\n",
       "      <th>3</th>\n",
       "      <td>4</td>\n",
       "      <td>1</td>\n",
       "      <td>1</td>\n",
       "      <td>Futrelle, Mrs. Jacques Heath (Lily May Peel)</td>\n",
       "      <td>female</td>\n",
       "      <td>35.0</td>\n",
       "      <td>1</td>\n",
       "      <td>0</td>\n",
       "      <td>113803</td>\n",
       "      <td>53.1000</td>\n",
       "      <td>C123</td>\n",
       "      <td>S</td>\n",
       "    </tr>\n",
       "    <tr>\n",
       "      <th>4</th>\n",
       "      <td>5</td>\n",
       "      <td>0</td>\n",
       "      <td>3</td>\n",
       "      <td>Allen, Mr. William Henry</td>\n",
       "      <td>male</td>\n",
       "      <td>35.0</td>\n",
       "      <td>0</td>\n",
       "      <td>0</td>\n",
       "      <td>373450</td>\n",
       "      <td>8.0500</td>\n",
       "      <td>NaN</td>\n",
       "      <td>S</td>\n",
       "    </tr>\n",
       "  </tbody>\n",
       "</table>\n",
       "</div>"
      ],
      "text/plain": [
       "   PassengerId  Survived  Pclass  \\\n",
       "0            1         0       3   \n",
       "1            2         1       1   \n",
       "2            3         1       3   \n",
       "3            4         1       1   \n",
       "4            5         0       3   \n",
       "\n",
       "                                                Name     Sex   Age  SibSp  \\\n",
       "0                            Braund, Mr. Owen Harris    male  22.0      1   \n",
       "1  Cumings, Mrs. John Bradley (Florence Briggs Th...  female  38.0      1   \n",
       "2                             Heikkinen, Miss. Laina  female  26.0      0   \n",
       "3       Futrelle, Mrs. Jacques Heath (Lily May Peel)  female  35.0      1   \n",
       "4                           Allen, Mr. William Henry    male  35.0      0   \n",
       "\n",
       "   Parch            Ticket     Fare Cabin Embarked  \n",
       "0      0         A/5 21171   7.2500   NaN        S  \n",
       "1      0          PC 17599  71.2833   C85        C  \n",
       "2      0  STON/O2. 3101282   7.9250   NaN        S  \n",
       "3      0            113803  53.1000  C123        S  \n",
       "4      0            373450   8.0500   NaN        S  "
      ]
     },
     "execution_count": 1,
     "metadata": {},
     "output_type": "execute_result"
    }
   ],
   "source": [
    "import pandas as pd\n",
    "import numpy as np\n",
    "\n",
    "train = pd.read_csv(\"./data/train.csv\")\n",
    "test = pd.read_csv(\"./data/test.csv\")\n",
    "\n",
    "train.head()"
   ]
  },
  {
   "cell_type": "code",
   "execution_count": 2,
   "id": "tracked-symposium",
   "metadata": {
    "ExecuteTime": {
     "end_time": "2021-02-08T07:27:11.547675Z",
     "start_time": "2021-02-08T07:27:11.542670Z"
    }
   },
   "outputs": [
    {
     "data": {
      "text/plain": [
       "0    678\n",
       "1    118\n",
       "2     80\n",
       "3      5\n",
       "5      5\n",
       "4      4\n",
       "6      1\n",
       "Name: Parch, dtype: int64"
      ]
     },
     "execution_count": 2,
     "metadata": {},
     "output_type": "execute_result"
    }
   ],
   "source": [
    "train[\"Parch\"].value_counts()"
   ]
  },
  {
   "cell_type": "code",
   "execution_count": 3,
   "id": "sized-atlanta",
   "metadata": {
    "ExecuteTime": {
     "end_time": "2021-02-08T07:27:11.847948Z",
     "start_time": "2021-02-08T07:27:11.843945Z"
    }
   },
   "outputs": [
    {
     "data": {
      "text/plain": [
       "0    608\n",
       "1    209\n",
       "2     28\n",
       "4     18\n",
       "3     16\n",
       "8      7\n",
       "5      5\n",
       "Name: SibSp, dtype: int64"
      ]
     },
     "execution_count": 3,
     "metadata": {},
     "output_type": "execute_result"
    }
   ],
   "source": [
    "train[\"SibSp\"].value_counts()"
   ]
  },
  {
   "cell_type": "code",
   "execution_count": 4,
   "id": "fifteen-investor",
   "metadata": {
    "ExecuteTime": {
     "end_time": "2021-02-08T07:27:12.283343Z",
     "start_time": "2021-02-08T07:27:12.269330Z"
    }
   },
   "outputs": [],
   "source": [
    "train[\"Sex\"] = train[\"Sex\"].apply(lambda x : 0 if x == 'male' else 1)"
   ]
  },
  {
   "cell_type": "code",
   "execution_count": 5,
   "id": "center-status",
   "metadata": {
    "ExecuteTime": {
     "end_time": "2021-02-08T07:27:14.160049Z",
     "start_time": "2021-02-08T07:27:14.147037Z"
    }
   },
   "outputs": [],
   "source": [
    "del train[\"Cabin\"]"
   ]
  },
  {
   "cell_type": "code",
   "execution_count": 6,
   "id": "informal-express",
   "metadata": {
    "ExecuteTime": {
     "end_time": "2021-02-08T07:27:16.577419Z",
     "start_time": "2021-02-08T07:27:16.570414Z"
    }
   },
   "outputs": [],
   "source": [
    "train[\"Name\"] = train[\"Name\"].apply(lambda x : x.split(\",\")[1])\n"
   ]
  },
  {
   "cell_type": "code",
   "execution_count": 7,
   "id": "vertical-presentation",
   "metadata": {
    "ExecuteTime": {
     "end_time": "2021-02-08T07:27:17.042842Z",
     "start_time": "2021-02-08T07:27:17.037838Z"
    }
   },
   "outputs": [],
   "source": [
    "train[\"Name\"] = train[\"Name\"].apply(lambda x : x.split(\".\")[0])"
   ]
  },
  {
   "cell_type": "code",
   "execution_count": 8,
   "id": "occupied-attachment",
   "metadata": {
    "ExecuteTime": {
     "end_time": "2021-02-08T07:27:17.944196Z",
     "start_time": "2021-02-08T07:27:17.938191Z"
    }
   },
   "outputs": [
    {
     "data": {
      "text/plain": [
       " Mr              517\n",
       " Miss            182\n",
       " Mrs             125\n",
       " Master           40\n",
       " Dr                7\n",
       " Rev               6\n",
       " Col               2\n",
       " Mlle              2\n",
       " Major             2\n",
       " the Countess      1\n",
       " Don               1\n",
       " Lady              1\n",
       " Capt              1\n",
       " Ms                1\n",
       " Sir               1\n",
       " Jonkheer          1\n",
       " Mme               1\n",
       "Name: Name, dtype: int64"
      ]
     },
     "execution_count": 8,
     "metadata": {},
     "output_type": "execute_result"
    }
   ],
   "source": [
    "train[\"Name\"].value_counts()"
   ]
  },
  {
   "cell_type": "code",
   "execution_count": 14,
   "id": "invalid-german",
   "metadata": {
    "ExecuteTime": {
     "end_time": "2021-02-08T07:28:28.467773Z",
     "start_time": "2021-02-08T07:28:28.456764Z"
    }
   },
   "outputs": [
    {
     "data": {
      "text/plain": [
       "[' Mr',\n",
       " ' Mrs',\n",
       " ' Miss',\n",
       " ' Master',\n",
       " ' Don',\n",
       " ' Rev',\n",
       " ' Dr',\n",
       " ' Mme',\n",
       " ' Ms',\n",
       " ' Major',\n",
       " ' Lady',\n",
       " ' Sir',\n",
       " ' Mlle',\n",
       " ' Col',\n",
       " ' Capt',\n",
       " ' the Countess',\n",
       " ' Jonkheer']"
      ]
     },
     "execution_count": 14,
     "metadata": {},
     "output_type": "execute_result"
    }
   ],
   "source": [
    "mylist = train[\"Name\"].unique().tolist()\n",
    "mylist"
   ]
  },
  {
   "cell_type": "code",
   "execution_count": 18,
   "id": "detailed-heather",
   "metadata": {
    "ExecuteTime": {
     "end_time": "2021-02-08T07:29:54.939391Z",
     "start_time": "2021-02-08T07:29:54.926378Z"
    }
   },
   "outputs": [],
   "source": [
    "dict = { x : index+1 for index, x in enumerate(mylist)}\n",
    "train[\"Name\"] = train[\"Name\"].map(dict)"
   ]
  },
  {
   "cell_type": "code",
   "execution_count": 19,
   "id": "eight-assurance",
   "metadata": {
    "ExecuteTime": {
     "end_time": "2021-02-08T07:29:56.381126Z",
     "start_time": "2021-02-08T07:29:56.359106Z"
    }
   },
   "outputs": [
    {
     "data": {
      "text/html": [
       "<div>\n",
       "<style scoped>\n",
       "    .dataframe tbody tr th:only-of-type {\n",
       "        vertical-align: middle;\n",
       "    }\n",
       "\n",
       "    .dataframe tbody tr th {\n",
       "        vertical-align: top;\n",
       "    }\n",
       "\n",
       "    .dataframe thead th {\n",
       "        text-align: right;\n",
       "    }\n",
       "</style>\n",
       "<table border=\"1\" class=\"dataframe\">\n",
       "  <thead>\n",
       "    <tr style=\"text-align: right;\">\n",
       "      <th></th>\n",
       "      <th>PassengerId</th>\n",
       "      <th>Survived</th>\n",
       "      <th>Pclass</th>\n",
       "      <th>Name</th>\n",
       "      <th>Sex</th>\n",
       "      <th>Age</th>\n",
       "      <th>SibSp</th>\n",
       "      <th>Parch</th>\n",
       "      <th>Ticket</th>\n",
       "      <th>Fare</th>\n",
       "      <th>Embarked</th>\n",
       "      <th>Name1</th>\n",
       "      <th>id</th>\n",
       "    </tr>\n",
       "  </thead>\n",
       "  <tbody>\n",
       "    <tr>\n",
       "      <th>0</th>\n",
       "      <td>1</td>\n",
       "      <td>0</td>\n",
       "      <td>3</td>\n",
       "      <td>1</td>\n",
       "      <td>0</td>\n",
       "      <td>22.0</td>\n",
       "      <td>1</td>\n",
       "      <td>0</td>\n",
       "      <td>A/5 21171</td>\n",
       "      <td>7.2500</td>\n",
       "      <td>S</td>\n",
       "      <td>NaN</td>\n",
       "      <td>1</td>\n",
       "    </tr>\n",
       "    <tr>\n",
       "      <th>1</th>\n",
       "      <td>2</td>\n",
       "      <td>1</td>\n",
       "      <td>1</td>\n",
       "      <td>2</td>\n",
       "      <td>1</td>\n",
       "      <td>38.0</td>\n",
       "      <td>1</td>\n",
       "      <td>0</td>\n",
       "      <td>PC 17599</td>\n",
       "      <td>71.2833</td>\n",
       "      <td>C</td>\n",
       "      <td>NaN</td>\n",
       "      <td>2</td>\n",
       "    </tr>\n",
       "    <tr>\n",
       "      <th>2</th>\n",
       "      <td>3</td>\n",
       "      <td>1</td>\n",
       "      <td>3</td>\n",
       "      <td>3</td>\n",
       "      <td>1</td>\n",
       "      <td>26.0</td>\n",
       "      <td>0</td>\n",
       "      <td>0</td>\n",
       "      <td>STON/O2. 3101282</td>\n",
       "      <td>7.9250</td>\n",
       "      <td>S</td>\n",
       "      <td>NaN</td>\n",
       "      <td>3</td>\n",
       "    </tr>\n",
       "    <tr>\n",
       "      <th>3</th>\n",
       "      <td>4</td>\n",
       "      <td>1</td>\n",
       "      <td>1</td>\n",
       "      <td>2</td>\n",
       "      <td>1</td>\n",
       "      <td>35.0</td>\n",
       "      <td>1</td>\n",
       "      <td>0</td>\n",
       "      <td>113803</td>\n",
       "      <td>53.1000</td>\n",
       "      <td>S</td>\n",
       "      <td>NaN</td>\n",
       "      <td>2</td>\n",
       "    </tr>\n",
       "    <tr>\n",
       "      <th>4</th>\n",
       "      <td>5</td>\n",
       "      <td>0</td>\n",
       "      <td>3</td>\n",
       "      <td>1</td>\n",
       "      <td>0</td>\n",
       "      <td>35.0</td>\n",
       "      <td>0</td>\n",
       "      <td>0</td>\n",
       "      <td>373450</td>\n",
       "      <td>8.0500</td>\n",
       "      <td>S</td>\n",
       "      <td>NaN</td>\n",
       "      <td>1</td>\n",
       "    </tr>\n",
       "    <tr>\n",
       "      <th>...</th>\n",
       "      <td>...</td>\n",
       "      <td>...</td>\n",
       "      <td>...</td>\n",
       "      <td>...</td>\n",
       "      <td>...</td>\n",
       "      <td>...</td>\n",
       "      <td>...</td>\n",
       "      <td>...</td>\n",
       "      <td>...</td>\n",
       "      <td>...</td>\n",
       "      <td>...</td>\n",
       "      <td>...</td>\n",
       "      <td>...</td>\n",
       "    </tr>\n",
       "    <tr>\n",
       "      <th>886</th>\n",
       "      <td>887</td>\n",
       "      <td>0</td>\n",
       "      <td>2</td>\n",
       "      <td>6</td>\n",
       "      <td>0</td>\n",
       "      <td>27.0</td>\n",
       "      <td>0</td>\n",
       "      <td>0</td>\n",
       "      <td>211536</td>\n",
       "      <td>13.0000</td>\n",
       "      <td>S</td>\n",
       "      <td>NaN</td>\n",
       "      <td>6</td>\n",
       "    </tr>\n",
       "    <tr>\n",
       "      <th>887</th>\n",
       "      <td>888</td>\n",
       "      <td>1</td>\n",
       "      <td>1</td>\n",
       "      <td>3</td>\n",
       "      <td>1</td>\n",
       "      <td>19.0</td>\n",
       "      <td>0</td>\n",
       "      <td>0</td>\n",
       "      <td>112053</td>\n",
       "      <td>30.0000</td>\n",
       "      <td>S</td>\n",
       "      <td>NaN</td>\n",
       "      <td>3</td>\n",
       "    </tr>\n",
       "    <tr>\n",
       "      <th>888</th>\n",
       "      <td>889</td>\n",
       "      <td>0</td>\n",
       "      <td>3</td>\n",
       "      <td>3</td>\n",
       "      <td>1</td>\n",
       "      <td>NaN</td>\n",
       "      <td>1</td>\n",
       "      <td>2</td>\n",
       "      <td>W./C. 6607</td>\n",
       "      <td>23.4500</td>\n",
       "      <td>S</td>\n",
       "      <td>NaN</td>\n",
       "      <td>3</td>\n",
       "    </tr>\n",
       "    <tr>\n",
       "      <th>889</th>\n",
       "      <td>890</td>\n",
       "      <td>1</td>\n",
       "      <td>1</td>\n",
       "      <td>1</td>\n",
       "      <td>0</td>\n",
       "      <td>26.0</td>\n",
       "      <td>0</td>\n",
       "      <td>0</td>\n",
       "      <td>111369</td>\n",
       "      <td>30.0000</td>\n",
       "      <td>C</td>\n",
       "      <td>NaN</td>\n",
       "      <td>1</td>\n",
       "    </tr>\n",
       "    <tr>\n",
       "      <th>890</th>\n",
       "      <td>891</td>\n",
       "      <td>0</td>\n",
       "      <td>3</td>\n",
       "      <td>1</td>\n",
       "      <td>0</td>\n",
       "      <td>32.0</td>\n",
       "      <td>0</td>\n",
       "      <td>0</td>\n",
       "      <td>370376</td>\n",
       "      <td>7.7500</td>\n",
       "      <td>Q</td>\n",
       "      <td>NaN</td>\n",
       "      <td>1</td>\n",
       "    </tr>\n",
       "  </tbody>\n",
       "</table>\n",
       "<p>891 rows × 13 columns</p>\n",
       "</div>"
      ],
      "text/plain": [
       "     PassengerId  Survived  Pclass  Name  Sex   Age  SibSp  Parch  \\\n",
       "0              1         0       3     1    0  22.0      1      0   \n",
       "1              2         1       1     2    1  38.0      1      0   \n",
       "2              3         1       3     3    1  26.0      0      0   \n",
       "3              4         1       1     2    1  35.0      1      0   \n",
       "4              5         0       3     1    0  35.0      0      0   \n",
       "..           ...       ...     ...   ...  ...   ...    ...    ...   \n",
       "886          887         0       2     6    0  27.0      0      0   \n",
       "887          888         1       1     3    1  19.0      0      0   \n",
       "888          889         0       3     3    1   NaN      1      2   \n",
       "889          890         1       1     1    0  26.0      0      0   \n",
       "890          891         0       3     1    0  32.0      0      0   \n",
       "\n",
       "               Ticket     Fare Embarked  Name1  id  \n",
       "0           A/5 21171   7.2500        S    NaN   1  \n",
       "1            PC 17599  71.2833        C    NaN   2  \n",
       "2    STON/O2. 3101282   7.9250        S    NaN   3  \n",
       "3              113803  53.1000        S    NaN   2  \n",
       "4              373450   8.0500        S    NaN   1  \n",
       "..                ...      ...      ...    ...  ..  \n",
       "886            211536  13.0000        S    NaN   6  \n",
       "887            112053  30.0000        S    NaN   3  \n",
       "888        W./C. 6607  23.4500        S    NaN   3  \n",
       "889            111369  30.0000        C    NaN   1  \n",
       "890            370376   7.7500        Q    NaN   1  \n",
       "\n",
       "[891 rows x 13 columns]"
      ]
     },
     "execution_count": 19,
     "metadata": {},
     "output_type": "execute_result"
    }
   ],
   "source": [
    "train"
   ]
  },
  {
   "cell_type": "code",
   "execution_count": 24,
   "id": "varied-dominican",
   "metadata": {
    "ExecuteTime": {
     "end_time": "2021-02-08T07:30:36.382369Z",
     "start_time": "2021-02-08T07:30:36.371359Z"
    }
   },
   "outputs": [
    {
     "data": {
      "text/plain": [
       "PassengerId      0\n",
       "Survived         0\n",
       "Pclass           0\n",
       "Name             0\n",
       "Sex              0\n",
       "Age            177\n",
       "SibSp            0\n",
       "Parch            0\n",
       "Ticket           0\n",
       "Fare             0\n",
       "Embarked         2\n",
       "id               0\n",
       "dtype: int64"
      ]
     },
     "execution_count": 24,
     "metadata": {},
     "output_type": "execute_result"
    }
   ],
   "source": [
    "train.isna().sum()"
   ]
  },
  {
   "cell_type": "code",
   "execution_count": 54,
   "id": "exceptional-official",
   "metadata": {
    "ExecuteTime": {
     "end_time": "2021-02-08T07:38:25.728141Z",
     "start_time": "2021-02-08T07:38:25.713128Z"
    }
   },
   "outputs": [
    {
     "data": {
      "text/html": [
       "<div>\n",
       "<style scoped>\n",
       "    .dataframe tbody tr th:only-of-type {\n",
       "        vertical-align: middle;\n",
       "    }\n",
       "\n",
       "    .dataframe tbody tr th {\n",
       "        vertical-align: top;\n",
       "    }\n",
       "\n",
       "    .dataframe thead th {\n",
       "        text-align: right;\n",
       "    }\n",
       "</style>\n",
       "<table border=\"1\" class=\"dataframe\">\n",
       "  <thead>\n",
       "    <tr style=\"text-align: right;\">\n",
       "      <th></th>\n",
       "      <th>PassengerId</th>\n",
       "      <th>Survived</th>\n",
       "      <th>Pclass</th>\n",
       "      <th>Name</th>\n",
       "      <th>Sex</th>\n",
       "      <th>Age</th>\n",
       "      <th>SibSp</th>\n",
       "      <th>Parch</th>\n",
       "      <th>Ticket</th>\n",
       "      <th>Fare</th>\n",
       "      <th>Embarked</th>\n",
       "    </tr>\n",
       "  </thead>\n",
       "  <tbody>\n",
       "    <tr>\n",
       "      <th>0</th>\n",
       "      <td>1</td>\n",
       "      <td>0</td>\n",
       "      <td>3</td>\n",
       "      <td>1</td>\n",
       "      <td>0</td>\n",
       "      <td>22.0</td>\n",
       "      <td>1</td>\n",
       "      <td>0</td>\n",
       "      <td>0</td>\n",
       "      <td>7.2500</td>\n",
       "      <td>S</td>\n",
       "    </tr>\n",
       "    <tr>\n",
       "      <th>1</th>\n",
       "      <td>2</td>\n",
       "      <td>1</td>\n",
       "      <td>1</td>\n",
       "      <td>2</td>\n",
       "      <td>1</td>\n",
       "      <td>38.0</td>\n",
       "      <td>1</td>\n",
       "      <td>0</td>\n",
       "      <td>1</td>\n",
       "      <td>71.2833</td>\n",
       "      <td>C</td>\n",
       "    </tr>\n",
       "    <tr>\n",
       "      <th>2</th>\n",
       "      <td>3</td>\n",
       "      <td>1</td>\n",
       "      <td>3</td>\n",
       "      <td>3</td>\n",
       "      <td>1</td>\n",
       "      <td>26.0</td>\n",
       "      <td>0</td>\n",
       "      <td>0</td>\n",
       "      <td>2</td>\n",
       "      <td>7.9250</td>\n",
       "      <td>S</td>\n",
       "    </tr>\n",
       "    <tr>\n",
       "      <th>3</th>\n",
       "      <td>4</td>\n",
       "      <td>1</td>\n",
       "      <td>1</td>\n",
       "      <td>2</td>\n",
       "      <td>1</td>\n",
       "      <td>35.0</td>\n",
       "      <td>1</td>\n",
       "      <td>0</td>\n",
       "      <td>3</td>\n",
       "      <td>53.1000</td>\n",
       "      <td>S</td>\n",
       "    </tr>\n",
       "    <tr>\n",
       "      <th>4</th>\n",
       "      <td>5</td>\n",
       "      <td>0</td>\n",
       "      <td>3</td>\n",
       "      <td>1</td>\n",
       "      <td>0</td>\n",
       "      <td>35.0</td>\n",
       "      <td>0</td>\n",
       "      <td>0</td>\n",
       "      <td>4</td>\n",
       "      <td>8.0500</td>\n",
       "      <td>S</td>\n",
       "    </tr>\n",
       "  </tbody>\n",
       "</table>\n",
       "</div>"
      ],
      "text/plain": [
       "   PassengerId  Survived  Pclass  Name  Sex   Age  SibSp  Parch  Ticket  \\\n",
       "0            1         0       3     1    0  22.0      1      0       0   \n",
       "1            2         1       1     2    1  38.0      1      0       1   \n",
       "2            3         1       3     3    1  26.0      0      0       2   \n",
       "3            4         1       1     2    1  35.0      1      0       3   \n",
       "4            5         0       3     1    0  35.0      0      0       4   \n",
       "\n",
       "      Fare Embarked  \n",
       "0   7.2500        S  \n",
       "1  71.2833        C  \n",
       "2   7.9250        S  \n",
       "3  53.1000        S  \n",
       "4   8.0500        S  "
      ]
     },
     "execution_count": 54,
     "metadata": {},
     "output_type": "execute_result"
    }
   ],
   "source": [
    "train.head()"
   ]
  },
  {
   "cell_type": "code",
   "execution_count": 37,
   "id": "suspected-sender",
   "metadata": {
    "ExecuteTime": {
     "end_time": "2021-02-08T07:34:56.029211Z",
     "start_time": "2021-02-08T07:34:56.016199Z"
    }
   },
   "outputs": [],
   "source": [
    "ticket = train[\"Ticket\"].unique().tolist()\n",
    "\n",
    "mydict = {x : index for index, x in enumerate(ticket)}\n",
    "\n",
    "train[\"Ticket\"] = train[\"Ticket\"].map(mydict)"
   ]
  },
  {
   "cell_type": "code",
   "execution_count": 38,
   "id": "fifty-amount",
   "metadata": {
    "ExecuteTime": {
     "end_time": "2021-02-08T07:34:57.410466Z",
     "start_time": "2021-02-08T07:34:57.394451Z"
    }
   },
   "outputs": [
    {
     "data": {
      "text/plain": [
       "13     7\n",
       "148    7\n",
       "72     7\n",
       "49     6\n",
       "58     6\n",
       "      ..\n",
       "268    1\n",
       "267    1\n",
       "265    1\n",
       "264    1\n",
       "680    1\n",
       "Name: Ticket, Length: 681, dtype: int64"
      ]
     },
     "execution_count": 38,
     "metadata": {},
     "output_type": "execute_result"
    }
   ],
   "source": [
    "train[\"Ticket\"].value_counts()"
   ]
  },
  {
   "cell_type": "code",
   "execution_count": 39,
   "id": "under-indianapolis",
   "metadata": {
    "ExecuteTime": {
     "end_time": "2021-02-08T07:35:07.379786Z",
     "start_time": "2021-02-08T07:35:07.191615Z"
    }
   },
   "outputs": [
    {
     "data": {
      "text/plain": [
       "<AxesSubplot:>"
      ]
     },
     "execution_count": 39,
     "metadata": {},
     "output_type": "execute_result"
    },
    {
     "data": {
      "image/png": "[encoded data removed]",
      "text/plain": [
       "<Figure size 432x288 with 2 Axes>"
      ]
     },
     "metadata": {
      "needs_background": "light"
     },
     "output_type": "display_data"
    }
   ],
   "source": [
    "import seaborn as sns\n",
    "sns.heatmap(train.corr())"
   ]
  },
  {
   "cell_type": "code",
   "execution_count": 40,
   "id": "written-welsh",
   "metadata": {
    "ExecuteTime": {
     "end_time": "2021-02-08T07:35:43.219417Z",
     "start_time": "2021-02-08T07:35:43.201400Z"
    }
   },
   "outputs": [
    {
     "data": {
      "text/plain": [
       "PassengerId      0\n",
       "Survived         0\n",
       "Pclass           0\n",
       "Name             0\n",
       "Sex              0\n",
       "Age            177\n",
       "SibSp            0\n",
       "Parch            0\n",
       "Ticket           0\n",
       "Fare             0\n",
       "Embarked         2\n",
       "dtype: int64"
      ]
     },
     "execution_count": 40,
     "metadata": {},
     "output_type": "execute_result"
    }
   ],
   "source": [
    "train.isna().sum()"
   ]
  },
  {
   "cell_type": "code",
   "execution_count": 41,
   "id": "exterior-topic",
   "metadata": {
    "ExecuteTime": {
     "end_time": "2021-02-08T07:35:50.006274Z",
     "start_time": "2021-02-08T07:35:49.998266Z"
    }
   },
   "outputs": [
    {
     "name": "stdout",
     "output_type": "stream",
     "text": [
      "<class 'pandas.core.frame.DataFrame'>\n",
      "RangeIndex: 891 entries, 0 to 890\n",
      "Data columns (total 11 columns):\n",
      " #   Column       Non-Null Count  Dtype  \n",
      "---  ------       --------------  -----  \n",
      " 0   PassengerId  891 non-null    int64  \n",
      " 1   Survived     891 non-null    int64  \n",
      " 2   Pclass       891 non-null    int64  \n",
      " 3   Name         891 non-null    int64  \n",
      " 4   Sex          891 non-null    int64  \n",
      " 5   Age          714 non-null    float64\n",
      " 6   SibSp        891 non-null    int64  \n",
      " 7   Parch        891 non-null    int64  \n",
      " 8   Ticket       891 non-null    int64  \n",
      " 9   Fare         891 non-null    float64\n",
      " 10  Embarked     889 non-null    object \n",
      "dtypes: float64(2), int64(8), object(1)\n",
      "memory usage: 76.7+ KB\n"
     ]
    }
   ],
   "source": [
    "train.info()"
   ]
  },
  {
   "cell_type": "code",
   "execution_count": 65,
   "id": "streaming-lodge",
   "metadata": {
    "ExecuteTime": {
     "end_time": "2021-02-08T07:44:51.058009Z",
     "start_time": "2021-02-08T07:44:51.052004Z"
    }
   },
   "outputs": [
    {
     "data": {
      "text/plain": [
       "PassengerId      0\n",
       "Survived         0\n",
       "Pclass           0\n",
       "Name             0\n",
       "Sex              0\n",
       "Age            177\n",
       "SibSp            0\n",
       "Parch            0\n",
       "Ticket           0\n",
       "Fare             0\n",
       "Embarked         0\n",
       "dtype: int64"
      ]
     },
     "execution_count": 65,
     "metadata": {},
     "output_type": "execute_result"
    }
   ],
   "source": [
    "train[\"Embarked\"] = train[\"Embarked\"].replace(0, \"S\")\n",
    "train.isna().sum()"
   ]
  },
  {
   "cell_type": "code",
   "execution_count": 66,
   "id": "stylish-purse",
   "metadata": {
    "ExecuteTime": {
     "end_time": "2021-02-08T07:44:52.799591Z",
     "start_time": "2021-02-08T07:44:52.785579Z"
    }
   },
   "outputs": [
    {
     "data": {
      "text/plain": [
       "array(['S', 'C', 'Q'], dtype=object)"
      ]
     },
     "execution_count": 66,
     "metadata": {},
     "output_type": "execute_result"
    }
   ],
   "source": [
    "train[\"Embarked\"].unique()"
   ]
  },
  {
   "cell_type": "code",
   "execution_count": 68,
   "id": "transsexual-seller",
   "metadata": {
    "ExecuteTime": {
     "end_time": "2021-02-08T07:48:01.735800Z",
     "start_time": "2021-02-08T07:48:01.720787Z"
    }
   },
   "outputs": [],
   "source": [
    "train = train.interpolate(method=\"linear\", limit_direction=\"forward\")"
   ]
  },
  {
   "cell_type": "code",
   "execution_count": 70,
   "id": "bizarre-handle",
   "metadata": {
    "ExecuteTime": {
     "end_time": "2021-02-08T07:48:12.996820Z",
     "start_time": "2021-02-08T07:48:12.986807Z"
    }
   },
   "outputs": [
    {
     "data": {
      "text/plain": [
       "PassengerId    0\n",
       "Survived       0\n",
       "Pclass         0\n",
       "Name           0\n",
       "Sex            0\n",
       "Age            0\n",
       "SibSp          0\n",
       "Parch          0\n",
       "Ticket         0\n",
       "Fare           0\n",
       "Embarked       0\n",
       "dtype: int64"
      ]
     },
     "execution_count": 70,
     "metadata": {},
     "output_type": "execute_result"
    }
   ],
   "source": [
    "train.isna().sum()"
   ]
  },
  {
   "cell_type": "code",
   "execution_count": 86,
   "id": "dynamic-triumph",
   "metadata": {
    "ExecuteTime": {
     "end_time": "2021-02-08T07:57:55.988825Z",
     "start_time": "2021-02-08T07:57:55.964803Z"
    }
   },
   "outputs": [
    {
     "data": {
      "text/html": [
       "<div>\n",
       "<style scoped>\n",
       "    .dataframe tbody tr th:only-of-type {\n",
       "        vertical-align: middle;\n",
       "    }\n",
       "\n",
       "    .dataframe tbody tr th {\n",
       "        vertical-align: top;\n",
       "    }\n",
       "\n",
       "    .dataframe thead th {\n",
       "        text-align: right;\n",
       "    }\n",
       "</style>\n",
       "<table border=\"1\" class=\"dataframe\">\n",
       "  <thead>\n",
       "    <tr style=\"text-align: right;\">\n",
       "      <th></th>\n",
       "      <th>PassengerId</th>\n",
       "      <th>Survived</th>\n",
       "      <th>Pclass</th>\n",
       "      <th>Name</th>\n",
       "      <th>Sex</th>\n",
       "      <th>Age</th>\n",
       "      <th>SibSp</th>\n",
       "      <th>Parch</th>\n",
       "      <th>Ticket</th>\n",
       "      <th>Fare</th>\n",
       "      <th>Embarked</th>\n",
       "    </tr>\n",
       "  </thead>\n",
       "  <tbody>\n",
       "    <tr>\n",
       "      <th>0</th>\n",
       "      <td>1</td>\n",
       "      <td>0</td>\n",
       "      <td>3</td>\n",
       "      <td>1</td>\n",
       "      <td>0</td>\n",
       "      <td>22.0</td>\n",
       "      <td>1</td>\n",
       "      <td>0</td>\n",
       "      <td>0</td>\n",
       "      <td>7.2500</td>\n",
       "      <td>0</td>\n",
       "    </tr>\n",
       "    <tr>\n",
       "      <th>1</th>\n",
       "      <td>2</td>\n",
       "      <td>1</td>\n",
       "      <td>1</td>\n",
       "      <td>2</td>\n",
       "      <td>1</td>\n",
       "      <td>38.0</td>\n",
       "      <td>1</td>\n",
       "      <td>0</td>\n",
       "      <td>1</td>\n",
       "      <td>71.2833</td>\n",
       "      <td>1</td>\n",
       "    </tr>\n",
       "    <tr>\n",
       "      <th>2</th>\n",
       "      <td>3</td>\n",
       "      <td>1</td>\n",
       "      <td>3</td>\n",
       "      <td>3</td>\n",
       "      <td>1</td>\n",
       "      <td>26.0</td>\n",
       "      <td>0</td>\n",
       "      <td>0</td>\n",
       "      <td>2</td>\n",
       "      <td>7.9250</td>\n",
       "      <td>0</td>\n",
       "    </tr>\n",
       "    <tr>\n",
       "      <th>3</th>\n",
       "      <td>4</td>\n",
       "      <td>1</td>\n",
       "      <td>1</td>\n",
       "      <td>2</td>\n",
       "      <td>1</td>\n",
       "      <td>35.0</td>\n",
       "      <td>1</td>\n",
       "      <td>0</td>\n",
       "      <td>3</td>\n",
       "      <td>53.1000</td>\n",
       "      <td>0</td>\n",
       "    </tr>\n",
       "    <tr>\n",
       "      <th>4</th>\n",
       "      <td>5</td>\n",
       "      <td>0</td>\n",
       "      <td>3</td>\n",
       "      <td>1</td>\n",
       "      <td>0</td>\n",
       "      <td>35.0</td>\n",
       "      <td>0</td>\n",
       "      <td>0</td>\n",
       "      <td>4</td>\n",
       "      <td>8.0500</td>\n",
       "      <td>0</td>\n",
       "    </tr>\n",
       "    <tr>\n",
       "      <th>...</th>\n",
       "      <td>...</td>\n",
       "      <td>...</td>\n",
       "      <td>...</td>\n",
       "      <td>...</td>\n",
       "      <td>...</td>\n",
       "      <td>...</td>\n",
       "      <td>...</td>\n",
       "      <td>...</td>\n",
       "      <td>...</td>\n",
       "      <td>...</td>\n",
       "      <td>...</td>\n",
       "    </tr>\n",
       "    <tr>\n",
       "      <th>886</th>\n",
       "      <td>887</td>\n",
       "      <td>0</td>\n",
       "      <td>2</td>\n",
       "      <td>6</td>\n",
       "      <td>0</td>\n",
       "      <td>27.0</td>\n",
       "      <td>0</td>\n",
       "      <td>0</td>\n",
       "      <td>677</td>\n",
       "      <td>13.0000</td>\n",
       "      <td>0</td>\n",
       "    </tr>\n",
       "    <tr>\n",
       "      <th>887</th>\n",
       "      <td>888</td>\n",
       "      <td>1</td>\n",
       "      <td>1</td>\n",
       "      <td>3</td>\n",
       "      <td>1</td>\n",
       "      <td>19.0</td>\n",
       "      <td>0</td>\n",
       "      <td>0</td>\n",
       "      <td>678</td>\n",
       "      <td>30.0000</td>\n",
       "      <td>0</td>\n",
       "    </tr>\n",
       "    <tr>\n",
       "      <th>888</th>\n",
       "      <td>889</td>\n",
       "      <td>0</td>\n",
       "      <td>3</td>\n",
       "      <td>3</td>\n",
       "      <td>1</td>\n",
       "      <td>22.5</td>\n",
       "      <td>1</td>\n",
       "      <td>2</td>\n",
       "      <td>614</td>\n",
       "      <td>23.4500</td>\n",
       "      <td>0</td>\n",
       "    </tr>\n",
       "    <tr>\n",
       "      <th>889</th>\n",
       "      <td>890</td>\n",
       "      <td>1</td>\n",
       "      <td>1</td>\n",
       "      <td>1</td>\n",
       "      <td>0</td>\n",
       "      <td>26.0</td>\n",
       "      <td>0</td>\n",
       "      <td>0</td>\n",
       "      <td>679</td>\n",
       "      <td>30.0000</td>\n",
       "      <td>1</td>\n",
       "    </tr>\n",
       "    <tr>\n",
       "      <th>890</th>\n",
       "      <td>891</td>\n",
       "      <td>0</td>\n",
       "      <td>3</td>\n",
       "      <td>1</td>\n",
       "      <td>0</td>\n",
       "      <td>32.0</td>\n",
       "      <td>0</td>\n",
       "      <td>0</td>\n",
       "      <td>680</td>\n",
       "      <td>7.7500</td>\n",
       "      <td>2</td>\n",
       "    </tr>\n",
       "  </tbody>\n",
       "</table>\n",
       "<p>891 rows × 11 columns</p>\n",
       "</div>"
      ],
      "text/plain": [
       "     PassengerId  Survived  Pclass  Name  Sex   Age  SibSp  Parch  Ticket  \\\n",
       "0              1         0       3     1    0  22.0      1      0       0   \n",
       "1              2         1       1     2    1  38.0      1      0       1   \n",
       "2              3         1       3     3    1  26.0      0      0       2   \n",
       "3              4         1       1     2    1  35.0      1      0       3   \n",
       "4              5         0       3     1    0  35.0      0      0       4   \n",
       "..           ...       ...     ...   ...  ...   ...    ...    ...     ...   \n",
       "886          887         0       2     6    0  27.0      0      0     677   \n",
       "887          888         1       1     3    1  19.0      0      0     678   \n",
       "888          889         0       3     3    1  22.5      1      2     614   \n",
       "889          890         1       1     1    0  26.0      0      0     679   \n",
       "890          891         0       3     1    0  32.0      0      0     680   \n",
       "\n",
       "        Fare  Embarked  \n",
       "0     7.2500         0  \n",
       "1    71.2833         1  \n",
       "2     7.9250         0  \n",
       "3    53.1000         0  \n",
       "4     8.0500         0  \n",
       "..       ...       ...  \n",
       "886  13.0000         0  \n",
       "887  30.0000         0  \n",
       "888  23.4500         0  \n",
       "889  30.0000         1  \n",
       "890   7.7500         2  \n",
       "\n",
       "[891 rows x 11 columns]"
      ]
     },
     "execution_count": 86,
     "metadata": {},
     "output_type": "execute_result"
    }
   ],
   "source": [
    "my_list = train[\"Embarked\"].unique().tolist()\n",
    "my_dict = {x : index for index, x in enumerate(my_list)}\n",
    "train[\"Embarked\"] = train[\"Embarked\"].map(my_dict)\n",
    "train"
   ]
  },
  {
   "cell_type": "code",
   "execution_count": 110,
   "id": "elementary-absorption",
   "metadata": {
    "ExecuteTime": {
     "end_time": "2021-02-08T08:17:01.040419Z",
     "start_time": "2021-02-08T08:17:01.034414Z"
    }
   },
   "outputs": [],
   "source": [
    "del train[\"Pclass\"], test[\"Pclass\"]"
   ]
  },
  {
   "cell_type": "code",
   "execution_count": 122,
   "id": "driven-honolulu",
   "metadata": {
    "ExecuteTime": {
     "end_time": "2021-02-08T08:19:48.562750Z",
     "start_time": "2021-02-08T08:19:48.551740Z"
    }
   },
   "outputs": [],
   "source": [
    "from sklearn.model_selection import train_test_split\n",
    "X_train, X_test, y_train, y_test = train_test_split(\n",
    "    train.drop('Survived', axis=1),train[\"Survived\"])"
   ]
  },
  {
   "cell_type": "code",
   "execution_count": 132,
   "id": "alert-passing",
   "metadata": {
    "ExecuteTime": {
     "end_time": "2021-02-08T10:42:22.082398Z",
     "start_time": "2021-02-08T10:42:22.037358Z"
    }
   },
   "outputs": [
    {
     "name": "stderr",
     "output_type": "stream",
     "text": [
      "C:\\Users\\d\\anaconda3\\envs\\tensorflow2_env\\lib\\site-packages\\sklearn\\linear_model\\_logistic.py:762: ConvergenceWarning: lbfgs failed to converge (status=1):\n",
      "STOP: TOTAL NO. of ITERATIONS REACHED LIMIT.\n",
      "\n",
      "Increase the number of iterations (max_iter) or scale the data as shown in:\n",
      "    https://scikit-learn.org/stable/modules/preprocessing.html\n",
      "Please also refer to the documentation for alternative solver options:\n",
      "    https://scikit-learn.org/stable/modules/linear_model.html#logistic-regression\n",
      "  n_iter_i = _check_optimize_result(\n"
     ]
    },
    {
     "data": {
      "text/plain": [
       "SVC()"
      ]
     },
     "execution_count": 132,
     "metadata": {},
     "output_type": "execute_result"
    }
   ],
   "source": [
    "from sklearn.linear_model import LogisticRegression\n",
    "from sklearn.svm import SVC\n",
    "\n",
    "reg = LogisticRegression()\n",
    "reg.fit(X_train, y_train)\n",
    "\n",
    "svc = SVC(C=1.0)\n",
    "svc.fit(X_train, y_train)"
   ]
  },
  {
   "cell_type": "code",
   "execution_count": 124,
   "id": "fabulous-blair",
   "metadata": {
    "ExecuteTime": {
     "end_time": "2021-02-08T08:19:50.064114Z",
     "start_time": "2021-02-08T08:19:50.045096Z"
    }
   },
   "outputs": [
    {
     "data": {
      "text/plain": [
       "array([[0.30561076, 0.69438924],\n",
       "       [0.85067157, 0.14932843],\n",
       "       [0.59721025, 0.40278975],\n",
       "       [0.82944923, 0.17055077],\n",
       "       [0.91344217, 0.08655783],\n",
       "       [0.34676789, 0.65323211],\n",
       "       [0.86149297, 0.13850703],\n",
       "       [0.91220008, 0.08779992],\n",
       "       [0.29950291, 0.70049709],\n",
       "       [0.14213593, 0.85786407],\n",
       "       [0.34843529, 0.65156471],\n",
       "       [0.86072029, 0.13927971],\n",
       "       [0.27979661, 0.72020339],\n",
       "       [0.79011951, 0.20988049],\n",
       "       [0.85284182, 0.14715818],\n",
       "       [0.87464805, 0.12535195],\n",
       "       [0.35194596, 0.64805404],\n",
       "       [0.82084621, 0.17915379],\n",
       "       [0.8305803 , 0.1694197 ],\n",
       "       [0.88927415, 0.11072585],\n",
       "       [0.3495107 , 0.6504893 ],\n",
       "       [0.85020698, 0.14979302],\n",
       "       [0.28379213, 0.71620787],\n",
       "       [0.87167584, 0.12832416],\n",
       "       [0.82811769, 0.17188231],\n",
       "       [0.84821198, 0.15178802],\n",
       "       [0.31771042, 0.68228958],\n",
       "       [0.1744469 , 0.8255531 ],\n",
       "       [0.87955217, 0.12044783],\n",
       "       [0.83460133, 0.16539867],\n",
       "       [0.86388655, 0.13611345],\n",
       "       [0.56535314, 0.43464686],\n",
       "       [0.84368891, 0.15631109],\n",
       "       [0.17996872, 0.82003128],\n",
       "       [0.81649962, 0.18350038],\n",
       "       [0.84414644, 0.15585356],\n",
       "       [0.28393667, 0.71606333],\n",
       "       [0.49014837, 0.50985163],\n",
       "       [0.3557994 , 0.6442006 ],\n",
       "       [0.84087591, 0.15912409],\n",
       "       [0.66544525, 0.33455475],\n",
       "       [0.26305169, 0.73694831],\n",
       "       [0.8872798 , 0.1127202 ],\n",
       "       [0.83779363, 0.16220637],\n",
       "       [0.81040017, 0.18959983],\n",
       "       [0.83920334, 0.16079666],\n",
       "       [0.0192833 , 0.9807167 ],\n",
       "       [0.80270579, 0.19729421],\n",
       "       [0.29494748, 0.70505252],\n",
       "       [0.3841283 , 0.6158717 ],\n",
       "       [0.84351572, 0.15648428],\n",
       "       [0.33749533, 0.66250467],\n",
       "       [0.35375549, 0.64624451],\n",
       "       [0.81302033, 0.18697967],\n",
       "       [0.86239567, 0.13760433],\n",
       "       [0.4895765 , 0.5104235 ],\n",
       "       [0.86563592, 0.13436408],\n",
       "       [0.20707048, 0.79292952],\n",
       "       [0.8194284 , 0.1805716 ],\n",
       "       [0.24746933, 0.75253067],\n",
       "       [0.77046617, 0.22953383],\n",
       "       [0.80092677, 0.19907323],\n",
       "       [0.02489163, 0.97510837],\n",
       "       [0.09794499, 0.90205501],\n",
       "       [0.40584514, 0.59415486],\n",
       "       [0.32081528, 0.67918472],\n",
       "       [0.01952099, 0.98047901],\n",
       "       [0.94524875, 0.05475125],\n",
       "       [0.37356754, 0.62643246],\n",
       "       [0.28593107, 0.71406893],\n",
       "       [0.79088148, 0.20911852],\n",
       "       [0.16474667, 0.83525333],\n",
       "       [0.54584146, 0.45415854],\n",
       "       [0.83216055, 0.16783945],\n",
       "       [0.82470872, 0.17529128],\n",
       "       [0.19110274, 0.80889726],\n",
       "       [0.84806752, 0.15193248],\n",
       "       [0.84947693, 0.15052307],\n",
       "       [0.82769287, 0.17230713],\n",
       "       [0.30264368, 0.69735632],\n",
       "       [0.84053682, 0.15946318],\n",
       "       [0.33519228, 0.66480772],\n",
       "       [0.88331903, 0.11668097],\n",
       "       [0.09828531, 0.90171469],\n",
       "       [0.23653675, 0.76346325],\n",
       "       [0.15071478, 0.84928522],\n",
       "       [0.36924829, 0.63075171],\n",
       "       [0.86050308, 0.13949692],\n",
       "       [0.5944388 , 0.4055612 ],\n",
       "       [0.89157901, 0.10842099],\n",
       "       [0.8320027 , 0.1679973 ],\n",
       "       [0.87193868, 0.12806132],\n",
       "       [0.85369169, 0.14630831],\n",
       "       [0.84011339, 0.15988661],\n",
       "       [0.83279774, 0.16720226],\n",
       "       [0.29256555, 0.70743445],\n",
       "       [0.83137686, 0.16862314],\n",
       "       [0.85541465, 0.14458535],\n",
       "       [0.85187516, 0.14812484],\n",
       "       [0.22836463, 0.77163537],\n",
       "       [0.84364569, 0.15635431],\n",
       "       [0.25875977, 0.74124023],\n",
       "       [0.83802003, 0.16197997],\n",
       "       [0.01416798, 0.98583202],\n",
       "       [0.85549861, 0.14450139],\n",
       "       [0.03908238, 0.96091762],\n",
       "       [0.84237332, 0.15762668],\n",
       "       [0.82882079, 0.17117921],\n",
       "       [0.89995754, 0.10004246],\n",
       "       [0.8312644 , 0.1687356 ],\n",
       "       [0.84440111, 0.15559889],\n",
       "       [0.86107891, 0.13892109],\n",
       "       [0.28525296, 0.71474704],\n",
       "       [0.33041537, 0.66958463],\n",
       "       [0.63496977, 0.36503023],\n",
       "       [0.3648078 , 0.6351922 ],\n",
       "       [0.26912612, 0.73087388],\n",
       "       [0.0412246 , 0.9587754 ],\n",
       "       [0.83095577, 0.16904423],\n",
       "       [0.80675535, 0.19324465],\n",
       "       [0.10489394, 0.89510606],\n",
       "       [0.85087579, 0.14912421],\n",
       "       [0.83416142, 0.16583858],\n",
       "       [0.7849751 , 0.2150249 ],\n",
       "       [0.13153335, 0.86846665],\n",
       "       [0.65310915, 0.34689085],\n",
       "       [0.85201311, 0.14798689],\n",
       "       [0.5710509 , 0.4289491 ],\n",
       "       [0.56329874, 0.43670126],\n",
       "       [0.86325454, 0.13674546],\n",
       "       [0.78561182, 0.21438818],\n",
       "       [0.83220875, 0.16779125],\n",
       "       [0.85412298, 0.14587702],\n",
       "       [0.8545237 , 0.1454763 ],\n",
       "       [0.10238582, 0.89761418],\n",
       "       [0.84172471, 0.15827529],\n",
       "       [0.23256772, 0.76743228],\n",
       "       [0.23971082, 0.76028918],\n",
       "       [0.60352523, 0.39647477],\n",
       "       [0.76211326, 0.23788674],\n",
       "       [0.84819976, 0.15180024],\n",
       "       [0.42331316, 0.57668684],\n",
       "       [0.27183403, 0.72816597],\n",
       "       [0.25440091, 0.74559909],\n",
       "       [0.26883972, 0.73116028],\n",
       "       [0.24031119, 0.75968881],\n",
       "       [0.84878743, 0.15121257],\n",
       "       [0.01457158, 0.98542842],\n",
       "       [0.84528898, 0.15471102],\n",
       "       [0.78903559, 0.21096441],\n",
       "       [0.86123861, 0.13876139],\n",
       "       [0.22450718, 0.77549282],\n",
       "       [0.83142302, 0.16857698],\n",
       "       [0.70191908, 0.29808092],\n",
       "       [0.21583274, 0.78416726],\n",
       "       [0.82661591, 0.17338409],\n",
       "       [0.21369458, 0.78630542],\n",
       "       [0.15529319, 0.84470681],\n",
       "       [0.84640537, 0.15359463],\n",
       "       [0.80647729, 0.19352271],\n",
       "       [0.07391402, 0.92608598],\n",
       "       [0.86068483, 0.13931517],\n",
       "       [0.11121618, 0.88878382],\n",
       "       [0.27469618, 0.72530382],\n",
       "       [0.79481004, 0.20518996],\n",
       "       [0.79327106, 0.20672894],\n",
       "       [0.2997241 , 0.7002759 ],\n",
       "       [0.82668224, 0.17331776],\n",
       "       [0.6691796 , 0.3308204 ],\n",
       "       [0.8384337 , 0.1615663 ],\n",
       "       [0.83296472, 0.16703528],\n",
       "       [0.0169819 , 0.9830181 ],\n",
       "       [0.82529702, 0.17470298],\n",
       "       [0.85308939, 0.14691061],\n",
       "       [0.17679639, 0.82320361],\n",
       "       [0.29020634, 0.70979366],\n",
       "       [0.8544823 , 0.1455177 ],\n",
       "       [0.27186008, 0.72813992],\n",
       "       [0.48912541, 0.51087459],\n",
       "       [0.83154119, 0.16845881],\n",
       "       [0.82654833, 0.17345167],\n",
       "       [0.85369575, 0.14630425],\n",
       "       [0.2833027 , 0.7166973 ],\n",
       "       [0.85143088, 0.14856912],\n",
       "       [0.90473559, 0.09526441],\n",
       "       [0.27296479, 0.72703521],\n",
       "       [0.84679024, 0.15320976],\n",
       "       [0.39715029, 0.60284971],\n",
       "       [0.23499409, 0.76500591],\n",
       "       [0.28109417, 0.71890583],\n",
       "       [0.98621645, 0.01378355],\n",
       "       [0.80478415, 0.19521585],\n",
       "       [0.85901338, 0.14098662],\n",
       "       [0.8095423 , 0.1904577 ],\n",
       "       [0.87426844, 0.12573156],\n",
       "       [0.24362709, 0.75637291],\n",
       "       [0.86361527, 0.13638473],\n",
       "       [0.18250666, 0.81749334],\n",
       "       [0.1858635 , 0.8141365 ],\n",
       "       [0.34430891, 0.65569109],\n",
       "       [0.76768633, 0.23231367],\n",
       "       [0.86243625, 0.13756375],\n",
       "       [0.79370082, 0.20629918],\n",
       "       [0.32142229, 0.67857771],\n",
       "       [0.82356327, 0.17643673],\n",
       "       [0.19326954, 0.80673046],\n",
       "       [0.19782528, 0.80217472],\n",
       "       [0.12411089, 0.87588911],\n",
       "       [0.23965081, 0.76034919],\n",
       "       [0.26311936, 0.73688064],\n",
       "       [0.27075214, 0.72924786],\n",
       "       [0.28357718, 0.71642282],\n",
       "       [0.81091525, 0.18908475],\n",
       "       [0.8472606 , 0.1527394 ],\n",
       "       [0.81872332, 0.18127668],\n",
       "       [0.85373337, 0.14626663],\n",
       "       [0.23440262, 0.76559738],\n",
       "       [0.25718924, 0.74281076],\n",
       "       [0.90278421, 0.09721579],\n",
       "       [0.83351091, 0.16648909],\n",
       "       [0.86309034, 0.13690966],\n",
       "       [0.75218083, 0.24781917],\n",
       "       [0.56628463, 0.43371537]])"
      ]
     },
     "execution_count": 124,
     "metadata": {},
     "output_type": "execute_result"
    }
   ],
   "source": [
    "reg.predict_proba(X_test)"
   ]
  },
  {
   "cell_type": "code",
   "execution_count": 94,
   "id": "greek-chain",
   "metadata": {
    "ExecuteTime": {
     "end_time": "2021-02-08T08:11:48.280324Z",
     "start_time": "2021-02-08T08:11:48.260305Z"
    }
   },
   "outputs": [],
   "source": [
    "test[\"Sex\"] = test[\"Sex\"].apply(lambda x : 0 if x == 'male' else 1)\n",
    "test[\"Name\"] = test[\"Name\"].apply(lambda x : x.split(\",\")[1])\n",
    "test[\"Name\"] = test[\"Name\"].apply(lambda x : x.split(\".\")[0])\n",
    "mylist = test[\"Name\"].unique().tolist()\n",
    "\n",
    "dict = { x : index+1 for index, x in enumerate(mylist)}\n",
    "test[\"Name\"] = test[\"Name\"].map(dict)\n",
    "\n"
   ]
  },
  {
   "cell_type": "code",
   "execution_count": 95,
   "id": "ranking-confidentiality",
   "metadata": {
    "ExecuteTime": {
     "end_time": "2021-02-08T08:11:50.712532Z",
     "start_time": "2021-02-08T08:11:50.695516Z"
    }
   },
   "outputs": [],
   "source": [
    "ticket = test[\"Ticket\"].unique().tolist()\n",
    "\n",
    "mydict = {x : index for index, x in enumerate(ticket)}\n",
    "\n",
    "test[\"Ticket\"] = test[\"Ticket\"].map(mydict)"
   ]
  },
  {
   "cell_type": "code",
   "execution_count": 96,
   "id": "dedicated-forty",
   "metadata": {
    "ExecuteTime": {
     "end_time": "2021-02-08T08:11:52.033733Z",
     "start_time": "2021-02-08T08:11:52.021721Z"
    }
   },
   "outputs": [],
   "source": [
    "test[\"Embarked\"] = test[\"Embarked\"].replace(0, \"S\")\n",
    "test = test.interpolate(method=\"linear\", limit_direction=\"forward\")"
   ]
  },
  {
   "cell_type": "code",
   "execution_count": 97,
   "id": "southeast-century",
   "metadata": {
    "ExecuteTime": {
     "end_time": "2021-02-08T08:11:53.264851Z",
     "start_time": "2021-02-08T08:11:53.239828Z"
    }
   },
   "outputs": [
    {
     "data": {
      "text/html": [
       "<div>\n",
       "<style scoped>\n",
       "    .dataframe tbody tr th:only-of-type {\n",
       "        vertical-align: middle;\n",
       "    }\n",
       "\n",
       "    .dataframe tbody tr th {\n",
       "        vertical-align: top;\n",
       "    }\n",
       "\n",
       "    .dataframe thead th {\n",
       "        text-align: right;\n",
       "    }\n",
       "</style>\n",
       "<table border=\"1\" class=\"dataframe\">\n",
       "  <thead>\n",
       "    <tr style=\"text-align: right;\">\n",
       "      <th></th>\n",
       "      <th>PassengerId</th>\n",
       "      <th>Pclass</th>\n",
       "      <th>Name</th>\n",
       "      <th>Sex</th>\n",
       "      <th>Age</th>\n",
       "      <th>SibSp</th>\n",
       "      <th>Parch</th>\n",
       "      <th>Ticket</th>\n",
       "      <th>Fare</th>\n",
       "      <th>Cabin</th>\n",
       "      <th>Embarked</th>\n",
       "    </tr>\n",
       "  </thead>\n",
       "  <tbody>\n",
       "    <tr>\n",
       "      <th>0</th>\n",
       "      <td>892</td>\n",
       "      <td>3</td>\n",
       "      <td>1</td>\n",
       "      <td>1</td>\n",
       "      <td>34.5</td>\n",
       "      <td>0</td>\n",
       "      <td>0</td>\n",
       "      <td>0</td>\n",
       "      <td>7.8292</td>\n",
       "      <td>NaN</td>\n",
       "      <td>0</td>\n",
       "    </tr>\n",
       "    <tr>\n",
       "      <th>1</th>\n",
       "      <td>893</td>\n",
       "      <td>3</td>\n",
       "      <td>2</td>\n",
       "      <td>1</td>\n",
       "      <td>47.0</td>\n",
       "      <td>1</td>\n",
       "      <td>0</td>\n",
       "      <td>1</td>\n",
       "      <td>7.0000</td>\n",
       "      <td>NaN</td>\n",
       "      <td>1</td>\n",
       "    </tr>\n",
       "    <tr>\n",
       "      <th>2</th>\n",
       "      <td>894</td>\n",
       "      <td>2</td>\n",
       "      <td>1</td>\n",
       "      <td>1</td>\n",
       "      <td>62.0</td>\n",
       "      <td>0</td>\n",
       "      <td>0</td>\n",
       "      <td>2</td>\n",
       "      <td>9.6875</td>\n",
       "      <td>NaN</td>\n",
       "      <td>0</td>\n",
       "    </tr>\n",
       "    <tr>\n",
       "      <th>3</th>\n",
       "      <td>895</td>\n",
       "      <td>3</td>\n",
       "      <td>1</td>\n",
       "      <td>1</td>\n",
       "      <td>27.0</td>\n",
       "      <td>0</td>\n",
       "      <td>0</td>\n",
       "      <td>3</td>\n",
       "      <td>8.6625</td>\n",
       "      <td>NaN</td>\n",
       "      <td>1</td>\n",
       "    </tr>\n",
       "    <tr>\n",
       "      <th>4</th>\n",
       "      <td>896</td>\n",
       "      <td>3</td>\n",
       "      <td>2</td>\n",
       "      <td>1</td>\n",
       "      <td>22.0</td>\n",
       "      <td>1</td>\n",
       "      <td>1</td>\n",
       "      <td>4</td>\n",
       "      <td>12.2875</td>\n",
       "      <td>NaN</td>\n",
       "      <td>1</td>\n",
       "    </tr>\n",
       "    <tr>\n",
       "      <th>...</th>\n",
       "      <td>...</td>\n",
       "      <td>...</td>\n",
       "      <td>...</td>\n",
       "      <td>...</td>\n",
       "      <td>...</td>\n",
       "      <td>...</td>\n",
       "      <td>...</td>\n",
       "      <td>...</td>\n",
       "      <td>...</td>\n",
       "      <td>...</td>\n",
       "      <td>...</td>\n",
       "    </tr>\n",
       "    <tr>\n",
       "      <th>413</th>\n",
       "      <td>1305</td>\n",
       "      <td>3</td>\n",
       "      <td>1</td>\n",
       "      <td>1</td>\n",
       "      <td>33.5</td>\n",
       "      <td>0</td>\n",
       "      <td>0</td>\n",
       "      <td>358</td>\n",
       "      <td>8.0500</td>\n",
       "      <td>NaN</td>\n",
       "      <td>1</td>\n",
       "    </tr>\n",
       "    <tr>\n",
       "      <th>414</th>\n",
       "      <td>1306</td>\n",
       "      <td>1</td>\n",
       "      <td>9</td>\n",
       "      <td>1</td>\n",
       "      <td>39.0</td>\n",
       "      <td>0</td>\n",
       "      <td>0</td>\n",
       "      <td>359</td>\n",
       "      <td>108.9000</td>\n",
       "      <td>C105</td>\n",
       "      <td>2</td>\n",
       "    </tr>\n",
       "    <tr>\n",
       "      <th>415</th>\n",
       "      <td>1307</td>\n",
       "      <td>3</td>\n",
       "      <td>1</td>\n",
       "      <td>1</td>\n",
       "      <td>38.5</td>\n",
       "      <td>0</td>\n",
       "      <td>0</td>\n",
       "      <td>360</td>\n",
       "      <td>7.2500</td>\n",
       "      <td>NaN</td>\n",
       "      <td>1</td>\n",
       "    </tr>\n",
       "    <tr>\n",
       "      <th>416</th>\n",
       "      <td>1308</td>\n",
       "      <td>3</td>\n",
       "      <td>1</td>\n",
       "      <td>1</td>\n",
       "      <td>38.5</td>\n",
       "      <td>0</td>\n",
       "      <td>0</td>\n",
       "      <td>361</td>\n",
       "      <td>8.0500</td>\n",
       "      <td>NaN</td>\n",
       "      <td>1</td>\n",
       "    </tr>\n",
       "    <tr>\n",
       "      <th>417</th>\n",
       "      <td>1309</td>\n",
       "      <td>3</td>\n",
       "      <td>4</td>\n",
       "      <td>1</td>\n",
       "      <td>38.5</td>\n",
       "      <td>1</td>\n",
       "      <td>1</td>\n",
       "      <td>362</td>\n",
       "      <td>22.3583</td>\n",
       "      <td>NaN</td>\n",
       "      <td>2</td>\n",
       "    </tr>\n",
       "  </tbody>\n",
       "</table>\n",
       "<p>418 rows × 11 columns</p>\n",
       "</div>"
      ],
      "text/plain": [
       "     PassengerId  Pclass  Name  Sex   Age  SibSp  Parch  Ticket      Fare  \\\n",
       "0            892       3     1    1  34.5      0      0       0    7.8292   \n",
       "1            893       3     2    1  47.0      1      0       1    7.0000   \n",
       "2            894       2     1    1  62.0      0      0       2    9.6875   \n",
       "3            895       3     1    1  27.0      0      0       3    8.6625   \n",
       "4            896       3     2    1  22.0      1      1       4   12.2875   \n",
       "..           ...     ...   ...  ...   ...    ...    ...     ...       ...   \n",
       "413         1305       3     1    1  33.5      0      0     358    8.0500   \n",
       "414         1306       1     9    1  39.0      0      0     359  108.9000   \n",
       "415         1307       3     1    1  38.5      0      0     360    7.2500   \n",
       "416         1308       3     1    1  38.5      0      0     361    8.0500   \n",
       "417         1309       3     4    1  38.5      1      1     362   22.3583   \n",
       "\n",
       "    Cabin  Embarked  \n",
       "0     NaN         0  \n",
       "1     NaN         1  \n",
       "2     NaN         0  \n",
       "3     NaN         1  \n",
       "4     NaN         1  \n",
       "..    ...       ...  \n",
       "413   NaN         1  \n",
       "414  C105         2  \n",
       "415   NaN         1  \n",
       "416   NaN         1  \n",
       "417   NaN         2  \n",
       "\n",
       "[418 rows x 11 columns]"
      ]
     },
     "execution_count": 97,
     "metadata": {},
     "output_type": "execute_result"
    }
   ],
   "source": [
    "my_list = test[\"Embarked\"].unique().tolist()\n",
    "my_dict = {x : index for index, x in enumerate(my_list)}\n",
    "test[\"Embarked\"] = test[\"Embarked\"].map(my_dict)\n"
   ]
  },
  {
   "cell_type": "code",
   "execution_count": 100,
   "id": "acoustic-sellers",
   "metadata": {
    "ExecuteTime": {
     "end_time": "2021-02-08T08:12:12.934957Z",
     "start_time": "2021-02-08T08:12:12.918943Z"
    }
   },
   "outputs": [],
   "source": [
    "del test['Cabin']"
   ]
  },
  {
   "cell_type": "code",
   "execution_count": 105,
   "id": "opposed-shakespeare",
   "metadata": {
    "ExecuteTime": {
     "end_time": "2021-02-08T08:15:36.312427Z",
     "start_time": "2021-02-08T08:15:36.297414Z"
    }
   },
   "outputs": [
    {
     "name": "stdout",
     "output_type": "stream",
     "text": [
      "<class 'pandas.core.frame.DataFrame'>\n",
      "RangeIndex: 418 entries, 0 to 417\n",
      "Data columns (total 10 columns):\n",
      " #   Column       Non-Null Count  Dtype  \n",
      "---  ------       --------------  -----  \n",
      " 0   PassengerId  418 non-null    int64  \n",
      " 1   Pclass       418 non-null    int64  \n",
      " 2   Name         418 non-null    int64  \n",
      " 3   Sex          418 non-null    int64  \n",
      " 4   Age          418 non-null    float64\n",
      " 5   SibSp        418 non-null    int64  \n",
      " 6   Parch        418 non-null    int64  \n",
      " 7   Ticket       418 non-null    int64  \n",
      " 8   Fare         418 non-null    float64\n",
      " 9   Embarked     418 non-null    int64  \n",
      "dtypes: float64(2), int64(8)\n",
      "memory usage: 32.8 KB\n"
     ]
    }
   ],
   "source": [
    "test.info()"
   ]
  },
  {
   "cell_type": "code",
   "execution_count": 126,
   "id": "elementary-hebrew",
   "metadata": {
    "ExecuteTime": {
     "end_time": "2021-02-08T08:20:11.804117Z",
     "start_time": "2021-02-08T08:20:11.788102Z"
    }
   },
   "outputs": [],
   "source": [
    "del test[\"Parch\"], test[\"Ticket\"]"
   ]
  },
  {
   "cell_type": "code",
   "execution_count": 127,
   "id": "governmental-remains",
   "metadata": {
    "ExecuteTime": {
     "end_time": "2021-02-08T08:20:11.984280Z",
     "start_time": "2021-02-08T08:20:11.970267Z"
    }
   },
   "outputs": [],
   "source": [
    "del test[\"Age\"]"
   ]
  },
  {
   "cell_type": "code",
   "execution_count": 121,
   "id": "rural-memorabilia",
   "metadata": {
    "ExecuteTime": {
     "end_time": "2021-02-08T08:19:01.415202Z",
     "start_time": "2021-02-08T08:19:01.257058Z"
    }
   },
   "outputs": [
    {
     "data": {
      "text/plain": [
       "<AxesSubplot:>"
      ]
     },
     "execution_count": 121,
     "metadata": {},
     "output_type": "execute_result"
    },
    {
     "data": {
      "image/png": "[encoded data removed]",
      "text/plain": [
       "<Figure size 432x288 with 2 Axes>"
      ]
     },
     "metadata": {
      "needs_background": "light"
     },
     "output_type": "display_data"
    }
   ],
   "source": [
    "sns.heatmap(train.corr())"
   ]
  },
  {
   "cell_type": "code",
   "execution_count": 128,
   "id": "reflected-decade",
   "metadata": {
    "ExecuteTime": {
     "end_time": "2021-02-08T08:20:13.560712Z",
     "start_time": "2021-02-08T08:20:13.540694Z"
    }
   },
   "outputs": [
    {
     "data": {
      "text/html": [
       "<div>\n",
       "<style scoped>\n",
       "    .dataframe tbody tr th:only-of-type {\n",
       "        vertical-align: middle;\n",
       "    }\n",
       "\n",
       "    .dataframe tbody tr th {\n",
       "        vertical-align: top;\n",
       "    }\n",
       "\n",
       "    .dataframe thead th {\n",
       "        text-align: right;\n",
       "    }\n",
       "</style>\n",
       "<table border=\"1\" class=\"dataframe\">\n",
       "  <thead>\n",
       "    <tr style=\"text-align: right;\">\n",
       "      <th></th>\n",
       "      <th>PassengerId</th>\n",
       "      <th>Name</th>\n",
       "      <th>Sex</th>\n",
       "      <th>SibSp</th>\n",
       "      <th>Fare</th>\n",
       "      <th>Embarked</th>\n",
       "    </tr>\n",
       "  </thead>\n",
       "  <tbody>\n",
       "    <tr>\n",
       "      <th>0</th>\n",
       "      <td>892</td>\n",
       "      <td>1</td>\n",
       "      <td>1</td>\n",
       "      <td>0</td>\n",
       "      <td>7.8292</td>\n",
       "      <td>0</td>\n",
       "    </tr>\n",
       "    <tr>\n",
       "      <th>1</th>\n",
       "      <td>893</td>\n",
       "      <td>2</td>\n",
       "      <td>1</td>\n",
       "      <td>1</td>\n",
       "      <td>7.0000</td>\n",
       "      <td>1</td>\n",
       "    </tr>\n",
       "    <tr>\n",
       "      <th>2</th>\n",
       "      <td>894</td>\n",
       "      <td>1</td>\n",
       "      <td>1</td>\n",
       "      <td>0</td>\n",
       "      <td>9.6875</td>\n",
       "      <td>0</td>\n",
       "    </tr>\n",
       "    <tr>\n",
       "      <th>3</th>\n",
       "      <td>895</td>\n",
       "      <td>1</td>\n",
       "      <td>1</td>\n",
       "      <td>0</td>\n",
       "      <td>8.6625</td>\n",
       "      <td>1</td>\n",
       "    </tr>\n",
       "    <tr>\n",
       "      <th>4</th>\n",
       "      <td>896</td>\n",
       "      <td>2</td>\n",
       "      <td>1</td>\n",
       "      <td>1</td>\n",
       "      <td>12.2875</td>\n",
       "      <td>1</td>\n",
       "    </tr>\n",
       "    <tr>\n",
       "      <th>...</th>\n",
       "      <td>...</td>\n",
       "      <td>...</td>\n",
       "      <td>...</td>\n",
       "      <td>...</td>\n",
       "      <td>...</td>\n",
       "      <td>...</td>\n",
       "    </tr>\n",
       "    <tr>\n",
       "      <th>413</th>\n",
       "      <td>1305</td>\n",
       "      <td>1</td>\n",
       "      <td>1</td>\n",
       "      <td>0</td>\n",
       "      <td>8.0500</td>\n",
       "      <td>1</td>\n",
       "    </tr>\n",
       "    <tr>\n",
       "      <th>414</th>\n",
       "      <td>1306</td>\n",
       "      <td>9</td>\n",
       "      <td>1</td>\n",
       "      <td>0</td>\n",
       "      <td>108.9000</td>\n",
       "      <td>2</td>\n",
       "    </tr>\n",
       "    <tr>\n",
       "      <th>415</th>\n",
       "      <td>1307</td>\n",
       "      <td>1</td>\n",
       "      <td>1</td>\n",
       "      <td>0</td>\n",
       "      <td>7.2500</td>\n",
       "      <td>1</td>\n",
       "    </tr>\n",
       "    <tr>\n",
       "      <th>416</th>\n",
       "      <td>1308</td>\n",
       "      <td>1</td>\n",
       "      <td>1</td>\n",
       "      <td>0</td>\n",
       "      <td>8.0500</td>\n",
       "      <td>1</td>\n",
       "    </tr>\n",
       "    <tr>\n",
       "      <th>417</th>\n",
       "      <td>1309</td>\n",
       "      <td>4</td>\n",
       "      <td>1</td>\n",
       "      <td>1</td>\n",
       "      <td>22.3583</td>\n",
       "      <td>2</td>\n",
       "    </tr>\n",
       "  </tbody>\n",
       "</table>\n",
       "<p>418 rows × 6 columns</p>\n",
       "</div>"
      ],
      "text/plain": [
       "     PassengerId  Name  Sex  SibSp      Fare  Embarked\n",
       "0            892     1    1      0    7.8292         0\n",
       "1            893     2    1      1    7.0000         1\n",
       "2            894     1    1      0    9.6875         0\n",
       "3            895     1    1      0    8.6625         1\n",
       "4            896     2    1      1   12.2875         1\n",
       "..           ...   ...  ...    ...       ...       ...\n",
       "413         1305     1    1      0    8.0500         1\n",
       "414         1306     9    1      0  108.9000         2\n",
       "415         1307     1    1      0    7.2500         1\n",
       "416         1308     1    1      0    8.0500         1\n",
       "417         1309     4    1      1   22.3583         2\n",
       "\n",
       "[418 rows x 6 columns]"
      ]
     },
     "execution_count": 128,
     "metadata": {},
     "output_type": "execute_result"
    }
   ],
   "source": [
    "test"
   ]
  },
  {
   "cell_type": "code",
   "execution_count": 129,
   "id": "viral-cross",
   "metadata": {
    "ExecuteTime": {
     "end_time": "2021-02-08T08:20:15.272267Z",
     "start_time": "2021-02-08T08:20:15.268263Z"
    }
   },
   "outputs": [],
   "source": [
    "predict = reg.predict(test)\n",
    "result = pd.DataFrame({\n",
    "    \"PassengerId\" : test[\"PassengerId\"],\n",
    "    \"Survived\" : predict\n",
    "})"
   ]
  },
  {
   "cell_type": "code",
   "execution_count": 133,
   "id": "loving-thumb",
   "metadata": {
    "ExecuteTime": {
     "end_time": "2021-02-08T10:42:43.327652Z",
     "start_time": "2021-02-08T10:42:43.309636Z"
    }
   },
   "outputs": [],
   "source": [
    "predict = svc.predict(test)\n",
    "result = pd.DataFrame({\n",
    "    \"PassengerId\" : test[\"PassengerId\"],\n",
    "    \"Survived\" : predict\n",
    "})"
   ]
  },
  {
   "cell_type": "code",
   "execution_count": 134,
   "id": "acceptable-approach",
   "metadata": {
    "ExecuteTime": {
     "end_time": "2021-02-08T10:42:45.264412Z",
     "start_time": "2021-02-08T10:42:45.246396Z"
    }
   },
   "outputs": [],
   "source": [
    "result.to_csv('./data/result.csv', index=False)"
   ]
  }
 ],
 "metadata": {
  "kernelspec": {
   "display_name": "tensorflow2_env",
   "language": "python",
   "name": "tensorflow2_env"
  },
  "language_info": {
   "codemirror_mode": {
    "name": "ipython",
    "version": 3
   },
   "file_extension": ".py",
   "mimetype": "text/x-python",
   "name": "python",
   "nbconvert_exporter": "python",
   "pygments_lexer": "ipython3",
   "version": "3.8.5"
  },
  "varInspector": {
   "cols": {
    "lenName": 16,
    "lenType": 16,
    "lenVar": 40
   },
   "kernels_config": {
    "python": {
     "delete_cmd_postfix": "",
     "delete_cmd_prefix": "del ",
     "library": "var_list.py",
     "varRefreshCmd": "print(var_dic_list())"
    },
    "r": {
     "delete_cmd_postfix": ") ",
     "delete_cmd_prefix": "rm(",
     "library": "var_list.r",
     "varRefreshCmd": "cat(var_dic_list()) "
    }
   },
   "types_to_exclude": [
    "module",
    "function",
    "builtin_function_or_method",
    "instance",
    "_Feature"
   ],
   "window_display": false
  }
 },
 "nbformat": 4,
 "nbformat_minor": 5
}
